{
  "cells": [
    {
      "cell_type": "markdown",
      "metadata": {
        "id": "view-in-github",
        "colab_type": "text"
      },
      "source": [
        "<a href=\"https://colab.research.google.com/github/arunkumarseka/arunkumarseka/blob/main/Lung%20cancer%20Prediction.ipynb\" target=\"_parent\"><img src=\"https://colab.research.google.com/assets/colab-badge.svg\" alt=\"Open In Colab\"/></a>"
      ]
    },
    {
      "cell_type": "code",
      "execution_count": null,
      "metadata": {
        "id": "x0Xa6g3d_MLU"
      },
      "outputs": [],
      "source": [
        "import os\n",
        "import cv2\n",
        "import pandas as pd\n",
        "import numpy as np\n",
        "import tensorflow as tf\n",
        "import matplotlib.pyplot as plt\n",
        "\n",
        "import warnings\n",
        "warnings.filterwarnings(\"ignore\")"
      ]
    },
    {
      "cell_type": "code",
      "execution_count": null,
      "metadata": {
        "colab": {
          "base_uri": "https://localhost:8080/"
        },
        "id": "-GCO_rWcATGr",
        "outputId": "5774fa07-8fcc-4186-c0c3-29066dc01b4e"
      },
      "outputs": [
        {
          "output_type": "stream",
          "name": "stdout",
          "text": [
            "Mounted at /content/drive\n"
          ]
        }
      ],
      "source": [
        "from google.colab import drive\n",
        "drive.mount('/content/drive')"
      ]
    },
    {
      "cell_type": "code",
      "execution_count": null,
      "metadata": {
        "id": "5vSTWqSf1w0w"
      },
      "outputs": [],
      "source": [
        "import tensorflow as tf\n",
        "import os\n",
        "import keras\n",
        "import numpy as np\n",
        "import pandas as pd\n",
        "import matplotlib.pyplot as plt\n",
        "%matplotlib inline\n",
        "from tensorflow.keras.preprocessing import image\n",
        "from keras.preprocessing.image import ImageDataGenerator\n",
        "from tensorflow.keras.metrics import categorical_crossentropy\n",
        "from keras.models import Sequential, Model\n",
        "from keras.layers import Conv2D, MaxPooling2D,GlobalAveragePooling2D\n",
        "from keras.layers import Activation, Dropout, BatchNormalization, Flatten, Dense, AvgPool2D,MaxPool2D\n",
        "from keras.models import Sequential, Model\n",
        "#from keras.optimizers import Adam\n",
        "from tensorflow.keras.optimizers import Adam\n",
        "import cv2\n"
      ]
    },
    {
      "cell_type": "code",
      "execution_count": null,
      "metadata": {
        "id": "PvltZJtJ3OHI"
      },
      "outputs": [],
      "source": [
        "\n",
        "import os\n",
        "#Root = \"/content/drive/MyDrive/image dataset/Data \"\n",
        "#os.chdir(Root)"
      ]
    },
    {
      "cell_type": "code",
      "execution_count": null,
      "metadata": {
        "id": "AtNADNF_3Yvd"
      },
      "outputs": [],
      "source": [
        "data = '/content/drive/MyDrive/image dataset/Data'\n",
        "test_img = '/content/drive/MyDrive/image dataset/Data/test'\n",
        "train_img = '/content/drive/MyDrive/image dataset/Data/train'\n",
        "valid_img ='/content/drive/MyDrive/image dataset/Data/valid'"
      ]
    },
    {
      "cell_type": "code",
      "execution_count": null,
      "metadata": {
        "colab": {
          "base_uri": "https://localhost:8080/"
        },
        "id": "o7rGu84x3hOm",
        "outputId": "325a79d3-6808-4fc4-f205-137b5388f30f"
      },
      "outputs": [
        {
          "output_type": "stream",
          "name": "stdout",
          "text": [
            "{'adenocarcinoma_left.lower.lobe_T2_N0_M0_Ib': 195, 'large.cell.carcinoma_left.hilum_T2_N2_M0_IIIa': 115, 'normal': 148, 'squamous.cell.carcinoma_left.hilum_T1_N2_M0_IIIa': 155} \n",
            "\n",
            " {'squamous.cell.carcinoma_left.hilum_T1_N2_M0_IIIa': 15, 'large.cell.carcinoma_left.hilum_T2_N2_M0_IIIa': 21, 'normal': 13, 'adenocarcinoma_left.lower.lobe_T2_N0_M0_Ib': 23} \n",
            "\n",
            " {'normal': 54, 'squamous.cell.carcinoma': 90, 'adenocarcinoma': 120, 'large.cell.carcinoma': 51}\n"
          ]
        }
      ],
      "source": [
        "def GetDatasetSize(path):\n",
        "    num_of_image = {}\n",
        "    for folder in os.listdir(path):\n",
        "        # Counting the Number of Files in the Folder\n",
        "        num_of_image[folder] = len(os.listdir(os.path.join(path, folder)));\n",
        "    return num_of_image;\n",
        "    \n",
        "train_set = GetDatasetSize(train_img)\n",
        "val_set = GetDatasetSize(valid_img)\n",
        "test_set = GetDatasetSize(test_img)\n",
        "print(train_set,\"\\n\\n\",val_set,\"\\n\\n\",test_set)"
      ]
    },
    {
      "cell_type": "markdown",
      "metadata": {
        "id": "DVLcb-BF4tn5"
      },
      "source": [
        "for i in range(5):\n",
        "    file = random.choice(os.listdir(adenocarcinoma))\n",
        "    image_path= os.path.join(adenocarcinoma, file)\n",
        "    img=mpimg.imread(image_path)\n",
        "    ax=plt.subplot(1,5,i+1)\n",
        "    ax.title.set_text(file)\n",
        "    plt.imshow(img)"
      ]
    },
    {
      "cell_type": "code",
      "execution_count": null,
      "metadata": {
        "colab": {
          "base_uri": "https://localhost:8080/",
          "height": 297
        },
        "id": "2PodkqE64-1M",
        "outputId": "f9066700-f6b2-4029-d5f8-528cd6a22c74"
      },
      "outputs": [
        {
          "output_type": "display_data",
          "data": {
            "text/plain": [
              "<Figure size 432x288 with 1 Axes>"
            ],
            "image/png": "[encoded data removed]"
          },
          "metadata": {
            "needs_background": "light"
          }
        }
      ],
      "source": [
        "labels = ['squamous.cell.carcinoma', 'normal', 'adenocarcinoma', 'large.cell.carcinoma']\n",
        "train_list = list(train_set.values())\n",
        "val_list = list(val_set.values())\n",
        "test_list = list(test_set.values())\n",
        "\n",
        "x = np.arange(len(labels))  # the label locations\n",
        "width = 0.25  # the width of the bars\n",
        "\n",
        "fig, ax = plt.subplots()\n",
        "rects1 = ax.bar(x - width, train_list, width, label='Train')\n",
        "rects2 = ax.bar(x, val_list, width, label='Val')\n",
        "rects3 = ax.bar(x + width, test_list, width, label='Test')\n",
        "\n",
        "# Add some text for labels, title and custom x-axis tick labels, etc.\n",
        "ax.set_ylabel('Images Count')\n",
        "ax.set_title('Dataset')\n",
        "ax.set_xticks(x, labels)\n",
        "plt.xticks(rotation=15)\n",
        "ax.legend()\n",
        "\n",
        "#ax.bar_label(rects1)\n",
        "#ax.bar_label(rects2)\n",
        "#ax.bar_label(rects3)\n",
        "\n",
        "fig.tight_layout()\n",
        "\n",
        "plt.show()\n"
      ]
    },
    {
      "cell_type": "code",
      "execution_count": null,
      "metadata": {
        "id": "CRfIwJeX5AQ4"
      },
      "outputs": [],
      "source": [
        "import tensorflow.keras\n",
        "from tensorflow.keras import layers\n",
        "from tensorflow.keras import Model \n",
        "from tensorflow.keras.models import Sequential\n",
        "from tensorflow.keras.preprocessing import image\n",
        "from tensorflow.keras.callbacks import ModelCheckpoint, EarlyStopping\n",
        "from tensorflow.keras.preprocessing.image import ImageDataGenerator\n",
        "from tensorflow.keras.applications.vgg16 import VGG16, preprocess_input\n",
        "from tensorflow.keras.models import load_model, Model\n",
        "from tensorflow.keras.layers import Dense,Conv2D, Flatten, MaxPool2D, Dropout"
      ]
    },
    {
      "cell_type": "code",
      "execution_count": null,
      "metadata": {
        "colab": {
          "base_uri": "https://localhost:8080/"
        },
        "id": "7MZ190H2EwrW",
        "outputId": "e95d0f5d-4af8-4604-fe27-9acca6b42c17"
      },
      "outputs": [
        {
          "output_type": "stream",
          "name": "stdout",
          "text": [
            "Found 613 images belonging to 4 classes.\n"
          ]
        }
      ],
      "source": [
        "train_datagen = ImageDataGenerator(rescale = 1.0/255.0,\n",
        "                                  horizontal_flip = True,\n",
        "                                  fill_mode = 'nearest',\n",
        "                                  zoom_range=0.2,\n",
        "                                  shear_range = 0.2,\n",
        "                                  width_shift_range=0.2,\n",
        "                                  height_shift_range=0.2,\n",
        "                                  rotation_range=0.4)\n",
        "\n",
        "train_data = train_datagen.flow_from_directory(train_img,\n",
        "                                                   batch_size = 64,\n",
        "                                                   target_size = (350,350),\n",
        "                                                   class_mode = 'categorical')"
      ]
    },
    {
      "cell_type": "code",
      "execution_count": null,
      "metadata": {
        "colab": {
          "base_uri": "https://localhost:8080/"
        },
        "id": "8iSA5cHYFOxT",
        "outputId": "701bee5c-4269-42c4-e177-68ac857958b8"
      },
      "outputs": [
        {
          "output_type": "execute_result",
          "data": {
            "text/plain": [
              "{'adenocarcinoma_left.lower.lobe_T2_N0_M0_Ib': 0,\n",
              " 'large.cell.carcinoma_left.hilum_T2_N2_M0_IIIa': 1,\n",
              " 'normal': 2,\n",
              " 'squamous.cell.carcinoma_left.hilum_T1_N2_M0_IIIa': 3}"
            ]
          },
          "metadata": {},
          "execution_count": 10
        }
      ],
      "source": [
        "train_data.class_indices"
      ]
    },
    {
      "cell_type": "code",
      "execution_count": null,
      "metadata": {
        "colab": {
          "base_uri": "https://localhost:8080/"
        },
        "id": "em4CXQz9FaIu",
        "outputId": "bc9e34e2-87b9-4da9-a9dd-2dc38cea6c7a"
      },
      "outputs": [
        {
          "output_type": "stream",
          "name": "stdout",
          "text": [
            "Found 72 images belonging to 4 classes.\n"
          ]
        }
      ],
      "source": [
        "val_datagen = ImageDataGenerator(rescale = 1.0/255.0)\n",
        "val_data = val_datagen.flow_from_directory(valid_img,\n",
        "                                                   batch_size = 64,\n",
        "                                                   target_size = (350,350),\n",
        "                                                   class_mode = 'categorical')"
      ]
    },
    {
      "cell_type": "code",
      "execution_count": null,
      "metadata": {
        "colab": {
          "base_uri": "https://localhost:8080/"
        },
        "id": "lHdzDyxcFmTH",
        "outputId": "5076d1af-3401-460e-ca78-68ef6a93acd6"
      },
      "outputs": [
        {
          "output_type": "execute_result",
          "data": {
            "text/plain": [
              "{'adenocarcinoma_left.lower.lobe_T2_N0_M0_Ib': 0,\n",
              " 'large.cell.carcinoma_left.hilum_T2_N2_M0_IIIa': 1,\n",
              " 'normal': 2,\n",
              " 'squamous.cell.carcinoma_left.hilum_T1_N2_M0_IIIa': 3}"
            ]
          },
          "metadata": {},
          "execution_count": 12
        }
      ],
      "source": [
        "val_data.class_indices"
      ]
    },
    {
      "cell_type": "code",
      "execution_count": null,
      "metadata": {
        "colab": {
          "base_uri": "https://localhost:8080/"
        },
        "id": "msmhKBErFr7Q",
        "outputId": "71ba49a7-455d-4faa-fe67-569784a3785c"
      },
      "outputs": [
        {
          "output_type": "stream",
          "name": "stdout",
          "text": [
            "Found 315 images belonging to 4 classes.\n"
          ]
        }
      ],
      "source": [
        "\n",
        "test_datagen = ImageDataGenerator(rescale = 1.0/255.0)\n",
        "test_data = test_datagen.flow_from_directory(test_img,\n",
        "                                                   batch_size = 64,\n",
        "                                                   target_size = (350,350),\n",
        "                                                   class_mode = 'categorical')"
      ]
    },
    {
      "cell_type": "code",
      "execution_count": null,
      "metadata": {
        "colab": {
          "base_uri": "https://localhost:8080/"
        },
        "id": "Luqpw99sF4T1",
        "outputId": "f255ffe0-a5c1-46b1-c389-17fadb6200d7"
      },
      "outputs": [
        {
          "output_type": "execute_result",
          "data": {
            "text/plain": [
              "{'adenocarcinoma': 0,\n",
              " 'large.cell.carcinoma': 1,\n",
              " 'normal': 2,\n",
              " 'squamous.cell.carcinoma': 3}"
            ]
          },
          "metadata": {},
          "execution_count": 14
        }
      ],
      "source": [
        "test_data.class_indices"
      ]
    },
    {
      "cell_type": "code",
      "execution_count": null,
      "metadata": {
        "colab": {
          "base_uri": "https://localhost:8080/"
        },
        "id": "xjFJcMCgCMPI",
        "outputId": "6f0e7590-3084-467c-88fa-2444bea824b2"
      },
      "outputs": [
        {
          "output_type": "stream",
          "name": "stdout",
          "text": [
            "Downloading data from https://storage.googleapis.com/tensorflow/keras-applications/xception/xception_weights_tf_dim_ordering_tf_kernels.h5\n",
            "91889664/91884032 [==============================] - 0s 0us/step\n",
            "91897856/91884032 [==============================] - 0s 0us/step\n",
            "Model: \"xception\"\n",
            "__________________________________________________________________________________________________\n",
            " Layer (type)                   Output Shape         Param #     Connected to                     \n",
            "==================================================================================================\n",
            " input_1 (InputLayer)           [(None, 299, 299, 3  0           []                               \n",
            "                                )]                                                                \n",
            "                                                                                                  \n",
            " block1_conv1 (Conv2D)          (None, 149, 149, 32  864         ['input_1[0][0]']                \n",
            "                                )                                                                 \n",
            "                                                                                                  \n",
            " block1_conv1_bn (BatchNormaliz  (None, 149, 149, 32  128        ['block1_conv1[0][0]']           \n",
            " ation)                         )                                                                 \n",
            "                                                                                                  \n",
            " block1_conv1_act (Activation)  (None, 149, 149, 32  0           ['block1_conv1_bn[0][0]']        \n",
            "                                )                                                                 \n",
            "                                                                                                  \n",
            " block1_conv2 (Conv2D)          (None, 147, 147, 64  18432       ['block1_conv1_act[0][0]']       \n",
            "                                )                                                                 \n",
            "                                                                                                  \n",
            " block1_conv2_bn (BatchNormaliz  (None, 147, 147, 64  256        ['block1_conv2[0][0]']           \n",
            " ation)                         )                                                                 \n",
            "                                                                                                  \n",
            " block1_conv2_act (Activation)  (None, 147, 147, 64  0           ['block1_conv2_bn[0][0]']        \n",
            "                                )                                                                 \n",
            "                                                                                                  \n",
            " block2_sepconv1 (SeparableConv  (None, 147, 147, 12  8768       ['block1_conv2_act[0][0]']       \n",
            " 2D)                            8)                                                                \n",
            "                                                                                                  \n",
            " block2_sepconv1_bn (BatchNorma  (None, 147, 147, 12  512        ['block2_sepconv1[0][0]']        \n",
            " lization)                      8)                                                                \n",
            "                                                                                                  \n",
            " block2_sepconv2_act (Activatio  (None, 147, 147, 12  0          ['block2_sepconv1_bn[0][0]']     \n",
            " n)                             8)                                                                \n",
            "                                                                                                  \n",
            " block2_sepconv2 (SeparableConv  (None, 147, 147, 12  17536      ['block2_sepconv2_act[0][0]']    \n",
            " 2D)                            8)                                                                \n",
            "                                                                                                  \n",
            " block2_sepconv2_bn (BatchNorma  (None, 147, 147, 12  512        ['block2_sepconv2[0][0]']        \n",
            " lization)                      8)                                                                \n",
            "                                                                                                  \n",
            " conv2d (Conv2D)                (None, 74, 74, 128)  8192        ['block1_conv2_act[0][0]']       \n",
            "                                                                                                  \n",
            " block2_pool (MaxPooling2D)     (None, 74, 74, 128)  0           ['block2_sepconv2_bn[0][0]']     \n",
            "                                                                                                  \n",
            " batch_normalization (BatchNorm  (None, 74, 74, 128)  512        ['conv2d[0][0]']                 \n",
            " alization)                                                                                       \n",
            "                                                                                                  \n",
            " add (Add)                      (None, 74, 74, 128)  0           ['block2_pool[0][0]',            \n",
            "                                                                  'batch_normalization[0][0]']    \n",
            "                                                                                                  \n",
            " block3_sepconv1_act (Activatio  (None, 74, 74, 128)  0          ['add[0][0]']                    \n",
            " n)                                                                                               \n",
            "                                                                                                  \n",
            " block3_sepconv1 (SeparableConv  (None, 74, 74, 256)  33920      ['block3_sepconv1_act[0][0]']    \n",
            " 2D)                                                                                              \n",
            "                                                                                                  \n",
            " block3_sepconv1_bn (BatchNorma  (None, 74, 74, 256)  1024       ['block3_sepconv1[0][0]']        \n",
            " lization)                                                                                        \n",
            "                                                                                                  \n",
            " block3_sepconv2_act (Activatio  (None, 74, 74, 256)  0          ['block3_sepconv1_bn[0][0]']     \n",
            " n)                                                                                               \n",
            "                                                                                                  \n",
            " block3_sepconv2 (SeparableConv  (None, 74, 74, 256)  67840      ['block3_sepconv2_act[0][0]']    \n",
            " 2D)                                                                                              \n",
            "                                                                                                  \n",
            " block3_sepconv2_bn (BatchNorma  (None, 74, 74, 256)  1024       ['block3_sepconv2[0][0]']        \n",
            " lization)                                                                                        \n",
            "                                                                                                  \n",
            " conv2d_1 (Conv2D)              (None, 37, 37, 256)  32768       ['add[0][0]']                    \n",
            "                                                                                                  \n",
            " block3_pool (MaxPooling2D)     (None, 37, 37, 256)  0           ['block3_sepconv2_bn[0][0]']     \n",
            "                                                                                                  \n",
            " batch_normalization_1 (BatchNo  (None, 37, 37, 256)  1024       ['conv2d_1[0][0]']               \n",
            " rmalization)                                                                                     \n",
            "                                                                                                  \n",
            " add_1 (Add)                    (None, 37, 37, 256)  0           ['block3_pool[0][0]',            \n",
            "                                                                  'batch_normalization_1[0][0]']  \n",
            "                                                                                                  \n",
            " block4_sepconv1_act (Activatio  (None, 37, 37, 256)  0          ['add_1[0][0]']                  \n",
            " n)                                                                                               \n",
            "                                                                                                  \n",
            " block4_sepconv1 (SeparableConv  (None, 37, 37, 728)  188672     ['block4_sepconv1_act[0][0]']    \n",
            " 2D)                                                                                              \n",
            "                                                                                                  \n",
            " block4_sepconv1_bn (BatchNorma  (None, 37, 37, 728)  2912       ['block4_sepconv1[0][0]']        \n",
            " lization)                                                                                        \n",
            "                                                                                                  \n",
            " block4_sepconv2_act (Activatio  (None, 37, 37, 728)  0          ['block4_sepconv1_bn[0][0]']     \n",
            " n)                                                                                               \n",
            "                                                                                                  \n",
            " block4_sepconv2 (SeparableConv  (None, 37, 37, 728)  536536     ['block4_sepconv2_act[0][0]']    \n",
            " 2D)                                                                                              \n",
            "                                                                                                  \n",
            " block4_sepconv2_bn (BatchNorma  (None, 37, 37, 728)  2912       ['block4_sepconv2[0][0]']        \n",
            " lization)                                                                                        \n",
            "                                                                                                  \n",
            " conv2d_2 (Conv2D)              (None, 19, 19, 728)  186368      ['add_1[0][0]']                  \n",
            "                                                                                                  \n",
            " block4_pool (MaxPooling2D)     (None, 19, 19, 728)  0           ['block4_sepconv2_bn[0][0]']     \n",
            "                                                                                                  \n",
            " batch_normalization_2 (BatchNo  (None, 19, 19, 728)  2912       ['conv2d_2[0][0]']               \n",
            " rmalization)                                                                                     \n",
            "                                                                                                  \n",
            " add_2 (Add)                    (None, 19, 19, 728)  0           ['block4_pool[0][0]',            \n",
            "                                                                  'batch_normalization_2[0][0]']  \n",
            "                                                                                                  \n",
            " block5_sepconv1_act (Activatio  (None, 19, 19, 728)  0          ['add_2[0][0]']                  \n",
            " n)                                                                                               \n",
            "                                                                                                  \n",
            " block5_sepconv1 (SeparableConv  (None, 19, 19, 728)  536536     ['block5_sepconv1_act[0][0]']    \n",
            " 2D)                                                                                              \n",
            "                                                                                                  \n",
            " block5_sepconv1_bn (BatchNorma  (None, 19, 19, 728)  2912       ['block5_sepconv1[0][0]']        \n",
            " lization)                                                                                        \n",
            "                                                                                                  \n",
            " block5_sepconv2_act (Activatio  (None, 19, 19, 728)  0          ['block5_sepconv1_bn[0][0]']     \n",
            " n)                                                                                               \n",
            "                                                                                                  \n",
            " block5_sepconv2 (SeparableConv  (None, 19, 19, 728)  536536     ['block5_sepconv2_act[0][0]']    \n",
            " 2D)                                                                                              \n",
            "                                                                                                  \n",
            " block5_sepconv2_bn (BatchNorma  (None, 19, 19, 728)  2912       ['block5_sepconv2[0][0]']        \n",
            " lization)                                                                                        \n",
            "                                                                                                  \n",
            " block5_sepconv3_act (Activatio  (None, 19, 19, 728)  0          ['block5_sepconv2_bn[0][0]']     \n",
            " n)                                                                                               \n",
            "                                                                                                  \n",
            " block5_sepconv3 (SeparableConv  (None, 19, 19, 728)  536536     ['block5_sepconv3_act[0][0]']    \n",
            " 2D)                                                                                              \n",
            "                                                                                                  \n",
            " block5_sepconv3_bn (BatchNorma  (None, 19, 19, 728)  2912       ['block5_sepconv3[0][0]']        \n",
            " lization)                                                                                        \n",
            "                                                                                                  \n",
            " add_3 (Add)                    (None, 19, 19, 728)  0           ['block5_sepconv3_bn[0][0]',     \n",
            "                                                                  'add_2[0][0]']                  \n",
            "                                                                                                  \n",
            " block6_sepconv1_act (Activatio  (None, 19, 19, 728)  0          ['add_3[0][0]']                  \n",
            " n)                                                                                               \n",
            "                                                                                                  \n",
            " block6_sepconv1 (SeparableConv  (None, 19, 19, 728)  536536     ['block6_sepconv1_act[0][0]']    \n",
            " 2D)                                                                                              \n",
            "                                                                                                  \n",
            " block6_sepconv1_bn (BatchNorma  (None, 19, 19, 728)  2912       ['block6_sepconv1[0][0]']        \n",
            " lization)                                                                                        \n",
            "                                                                                                  \n",
            " block6_sepconv2_act (Activatio  (None, 19, 19, 728)  0          ['block6_sepconv1_bn[0][0]']     \n",
            " n)                                                                                               \n",
            "                                                                                                  \n",
            " block6_sepconv2 (SeparableConv  (None, 19, 19, 728)  536536     ['block6_sepconv2_act[0][0]']    \n",
            " 2D)                                                                                              \n",
            "                                                                                                  \n",
            " block6_sepconv2_bn (BatchNorma  (None, 19, 19, 728)  2912       ['block6_sepconv2[0][0]']        \n",
            " lization)                                                                                        \n",
            "                                                                                                  \n",
            " block6_sepconv3_act (Activatio  (None, 19, 19, 728)  0          ['block6_sepconv2_bn[0][0]']     \n",
            " n)                                                                                               \n",
            "                                                                                                  \n",
            " block6_sepconv3 (SeparableConv  (None, 19, 19, 728)  536536     ['block6_sepconv3_act[0][0]']    \n",
            " 2D)                                                                                              \n",
            "                                                                                                  \n",
            " block6_sepconv3_bn (BatchNorma  (None, 19, 19, 728)  2912       ['block6_sepconv3[0][0]']        \n",
            " lization)                                                                                        \n",
            "                                                                                                  \n",
            " add_4 (Add)                    (None, 19, 19, 728)  0           ['block6_sepconv3_bn[0][0]',     \n",
            "                                                                  'add_3[0][0]']                  \n",
            "                                                                                                  \n",
            " block7_sepconv1_act (Activatio  (None, 19, 19, 728)  0          ['add_4[0][0]']                  \n",
            " n)                                                                                               \n",
            "                                                                                                  \n",
            " block7_sepconv1 (SeparableConv  (None, 19, 19, 728)  536536     ['block7_sepconv1_act[0][0]']    \n",
            " 2D)                                                                                              \n",
            "                                                                                                  \n",
            " block7_sepconv1_bn (BatchNorma  (None, 19, 19, 728)  2912       ['block7_sepconv1[0][0]']        \n",
            " lization)                                                                                        \n",
            "                                                                                                  \n",
            " block7_sepconv2_act (Activatio  (None, 19, 19, 728)  0          ['block7_sepconv1_bn[0][0]']     \n",
            " n)                                                                                               \n",
            "                                                                                                  \n",
            " block7_sepconv2 (SeparableConv  (None, 19, 19, 728)  536536     ['block7_sepconv2_act[0][0]']    \n",
            " 2D)                                                                                              \n",
            "                                                                                                  \n",
            " block7_sepconv2_bn (BatchNorma  (None, 19, 19, 728)  2912       ['block7_sepconv2[0][0]']        \n",
            " lization)                                                                                        \n",
            "                                                                                                  \n",
            " block7_sepconv3_act (Activatio  (None, 19, 19, 728)  0          ['block7_sepconv2_bn[0][0]']     \n",
            " n)                                                                                               \n",
            "                                                                                                  \n",
            " block7_sepconv3 (SeparableConv  (None, 19, 19, 728)  536536     ['block7_sepconv3_act[0][0]']    \n",
            " 2D)                                                                                              \n",
            "                                                                                                  \n",
            " block7_sepconv3_bn (BatchNorma  (None, 19, 19, 728)  2912       ['block7_sepconv3[0][0]']        \n",
            " lization)                                                                                        \n",
            "                                                                                                  \n",
            " add_5 (Add)                    (None, 19, 19, 728)  0           ['block7_sepconv3_bn[0][0]',     \n",
            "                                                                  'add_4[0][0]']                  \n",
            "                                                                                                  \n",
            " block8_sepconv1_act (Activatio  (None, 19, 19, 728)  0          ['add_5[0][0]']                  \n",
            " n)                                                                                               \n",
            "                                                                                                  \n",
            " block8_sepconv1 (SeparableConv  (None, 19, 19, 728)  536536     ['block8_sepconv1_act[0][0]']    \n",
            " 2D)                                                                                              \n",
            "                                                                                                  \n",
            " block8_sepconv1_bn (BatchNorma  (None, 19, 19, 728)  2912       ['block8_sepconv1[0][0]']        \n",
            " lization)                                                                                        \n",
            "                                                                                                  \n",
            " block8_sepconv2_act (Activatio  (None, 19, 19, 728)  0          ['block8_sepconv1_bn[0][0]']     \n",
            " n)                                                                                               \n",
            "                                                                                                  \n",
            " block8_sepconv2 (SeparableConv  (None, 19, 19, 728)  536536     ['block8_sepconv2_act[0][0]']    \n",
            " 2D)                                                                                              \n",
            "                                                                                                  \n",
            " block8_sepconv2_bn (BatchNorma  (None, 19, 19, 728)  2912       ['block8_sepconv2[0][0]']        \n",
            " lization)                                                                                        \n",
            "                                                                                                  \n",
            " block8_sepconv3_act (Activatio  (None, 19, 19, 728)  0          ['block8_sepconv2_bn[0][0]']     \n",
            " n)                                                                                               \n",
            "                                                                                                  \n",
            " block8_sepconv3 (SeparableConv  (None, 19, 19, 728)  536536     ['block8_sepconv3_act[0][0]']    \n",
            " 2D)                                                                                              \n",
            "                                                                                                  \n",
            " block8_sepconv3_bn (BatchNorma  (None, 19, 19, 728)  2912       ['block8_sepconv3[0][0]']        \n",
            " lization)                                                                                        \n",
            "                                                                                                  \n",
            " add_6 (Add)                    (None, 19, 19, 728)  0           ['block8_sepconv3_bn[0][0]',     \n",
            "                                                                  'add_5[0][0]']                  \n",
            "                                                                                                  \n",
            " block9_sepconv1_act (Activatio  (None, 19, 19, 728)  0          ['add_6[0][0]']                  \n",
            " n)                                                                                               \n",
            "                                                                                                  \n",
            " block9_sepconv1 (SeparableConv  (None, 19, 19, 728)  536536     ['block9_sepconv1_act[0][0]']    \n",
            " 2D)                                                                                              \n",
            "                                                                                                  \n",
            " block9_sepconv1_bn (BatchNorma  (None, 19, 19, 728)  2912       ['block9_sepconv1[0][0]']        \n",
            " lization)                                                                                        \n",
            "                                                                                                  \n",
            " block9_sepconv2_act (Activatio  (None, 19, 19, 728)  0          ['block9_sepconv1_bn[0][0]']     \n",
            " n)                                                                                               \n",
            "                                                                                                  \n",
            " block9_sepconv2 (SeparableConv  (None, 19, 19, 728)  536536     ['block9_sepconv2_act[0][0]']    \n",
            " 2D)                                                                                              \n",
            "                                                                                                  \n",
            " block9_sepconv2_bn (BatchNorma  (None, 19, 19, 728)  2912       ['block9_sepconv2[0][0]']        \n",
            " lization)                                                                                        \n",
            "                                                                                                  \n",
            " block9_sepconv3_act (Activatio  (None, 19, 19, 728)  0          ['block9_sepconv2_bn[0][0]']     \n",
            " n)                                                                                               \n",
            "                                                                                                  \n",
            " block9_sepconv3 (SeparableConv  (None, 19, 19, 728)  536536     ['block9_sepconv3_act[0][0]']    \n",
            " 2D)                                                                                              \n",
            "                                                                                                  \n",
            " block9_sepconv3_bn (BatchNorma  (None, 19, 19, 728)  2912       ['block9_sepconv3[0][0]']        \n",
            " lization)                                                                                        \n",
            "                                                                                                  \n",
            " add_7 (Add)                    (None, 19, 19, 728)  0           ['block9_sepconv3_bn[0][0]',     \n",
            "                                                                  'add_6[0][0]']                  \n",
            "                                                                                                  \n",
            " block10_sepconv1_act (Activati  (None, 19, 19, 728)  0          ['add_7[0][0]']                  \n",
            " on)                                                                                              \n",
            "                                                                                                  \n",
            " block10_sepconv1 (SeparableCon  (None, 19, 19, 728)  536536     ['block10_sepconv1_act[0][0]']   \n",
            " v2D)                                                                                             \n",
            "                                                                                                  \n",
            " block10_sepconv1_bn (BatchNorm  (None, 19, 19, 728)  2912       ['block10_sepconv1[0][0]']       \n",
            " alization)                                                                                       \n",
            "                                                                                                  \n",
            " block10_sepconv2_act (Activati  (None, 19, 19, 728)  0          ['block10_sepconv1_bn[0][0]']    \n",
            " on)                                                                                              \n",
            "                                                                                                  \n",
            " block10_sepconv2 (SeparableCon  (None, 19, 19, 728)  536536     ['block10_sepconv2_act[0][0]']   \n",
            " v2D)                                                                                             \n",
            "                                                                                                  \n",
            " block10_sepconv2_bn (BatchNorm  (None, 19, 19, 728)  2912       ['block10_sepconv2[0][0]']       \n",
            " alization)                                                                                       \n",
            "                                                                                                  \n",
            " block10_sepconv3_act (Activati  (None, 19, 19, 728)  0          ['block10_sepconv2_bn[0][0]']    \n",
            " on)                                                                                              \n",
            "                                                                                                  \n",
            " block10_sepconv3 (SeparableCon  (None, 19, 19, 728)  536536     ['block10_sepconv3_act[0][0]']   \n",
            " v2D)                                                                                             \n",
            "                                                                                                  \n",
            " block10_sepconv3_bn (BatchNorm  (None, 19, 19, 728)  2912       ['block10_sepconv3[0][0]']       \n",
            " alization)                                                                                       \n",
            "                                                                                                  \n",
            " add_8 (Add)                    (None, 19, 19, 728)  0           ['block10_sepconv3_bn[0][0]',    \n",
            "                                                                  'add_7[0][0]']                  \n",
            "                                                                                                  \n",
            " block11_sepconv1_act (Activati  (None, 19, 19, 728)  0          ['add_8[0][0]']                  \n",
            " on)                                                                                              \n",
            "                                                                                                  \n",
            " block11_sepconv1 (SeparableCon  (None, 19, 19, 728)  536536     ['block11_sepconv1_act[0][0]']   \n",
            " v2D)                                                                                             \n",
            "                                                                                                  \n",
            " block11_sepconv1_bn (BatchNorm  (None, 19, 19, 728)  2912       ['block11_sepconv1[0][0]']       \n",
            " alization)                                                                                       \n",
            "                                                                                                  \n",
            " block11_sepconv2_act (Activati  (None, 19, 19, 728)  0          ['block11_sepconv1_bn[0][0]']    \n",
            " on)                                                                                              \n",
            "                                                                                                  \n",
            " block11_sepconv2 (SeparableCon  (None, 19, 19, 728)  536536     ['block11_sepconv2_act[0][0]']   \n",
            " v2D)                                                                                             \n",
            "                                                                                                  \n",
            " block11_sepconv2_bn (BatchNorm  (None, 19, 19, 728)  2912       ['block11_sepconv2[0][0]']       \n",
            " alization)                                                                                       \n",
            "                                                                                                  \n",
            " block11_sepconv3_act (Activati  (None, 19, 19, 728)  0          ['block11_sepconv2_bn[0][0]']    \n",
            " on)                                                                                              \n",
            "                                                                                                  \n",
            " block11_sepconv3 (SeparableCon  (None, 19, 19, 728)  536536     ['block11_sepconv3_act[0][0]']   \n",
            " v2D)                                                                                             \n",
            "                                                                                                  \n",
            " block11_sepconv3_bn (BatchNorm  (None, 19, 19, 728)  2912       ['block11_sepconv3[0][0]']       \n",
            " alization)                                                                                       \n",
            "                                                                                                  \n",
            " add_9 (Add)                    (None, 19, 19, 728)  0           ['block11_sepconv3_bn[0][0]',    \n",
            "                                                                  'add_8[0][0]']                  \n",
            "                                                                                                  \n",
            " block12_sepconv1_act (Activati  (None, 19, 19, 728)  0          ['add_9[0][0]']                  \n",
            " on)                                                                                              \n",
            "                                                                                                  \n",
            " block12_sepconv1 (SeparableCon  (None, 19, 19, 728)  536536     ['block12_sepconv1_act[0][0]']   \n",
            " v2D)                                                                                             \n",
            "                                                                                                  \n",
            " block12_sepconv1_bn (BatchNorm  (None, 19, 19, 728)  2912       ['block12_sepconv1[0][0]']       \n",
            " alization)                                                                                       \n",
            "                                                                                                  \n",
            " block12_sepconv2_act (Activati  (None, 19, 19, 728)  0          ['block12_sepconv1_bn[0][0]']    \n",
            " on)                                                                                              \n",
            "                                                                                                  \n",
            " block12_sepconv2 (SeparableCon  (None, 19, 19, 728)  536536     ['block12_sepconv2_act[0][0]']   \n",
            " v2D)                                                                                             \n",
            "                                                                                                  \n",
            " block12_sepconv2_bn (BatchNorm  (None, 19, 19, 728)  2912       ['block12_sepconv2[0][0]']       \n",
            " alization)                                                                                       \n",
            "                                                                                                  \n",
            " block12_sepconv3_act (Activati  (None, 19, 19, 728)  0          ['block12_sepconv2_bn[0][0]']    \n",
            " on)                                                                                              \n",
            "                                                                                                  \n",
            " block12_sepconv3 (SeparableCon  (None, 19, 19, 728)  536536     ['block12_sepconv3_act[0][0]']   \n",
            " v2D)                                                                                             \n",
            "                                                                                                  \n",
            " block12_sepconv3_bn (BatchNorm  (None, 19, 19, 728)  2912       ['block12_sepconv3[0][0]']       \n",
            " alization)                                                                                       \n",
            "                                                                                                  \n",
            " add_10 (Add)                   (None, 19, 19, 728)  0           ['block12_sepconv3_bn[0][0]',    \n",
            "                                                                  'add_9[0][0]']                  \n",
            "                                                                                                  \n",
            " block13_sepconv1_act (Activati  (None, 19, 19, 728)  0          ['add_10[0][0]']                 \n",
            " on)                                                                                              \n",
            "                                                                                                  \n",
            " block13_sepconv1 (SeparableCon  (None, 19, 19, 728)  536536     ['block13_sepconv1_act[0][0]']   \n",
            " v2D)                                                                                             \n",
            "                                                                                                  \n",
            " block13_sepconv1_bn (BatchNorm  (None, 19, 19, 728)  2912       ['block13_sepconv1[0][0]']       \n",
            " alization)                                                                                       \n",
            "                                                                                                  \n",
            " block13_sepconv2_act (Activati  (None, 19, 19, 728)  0          ['block13_sepconv1_bn[0][0]']    \n",
            " on)                                                                                              \n",
            "                                                                                                  \n",
            " block13_sepconv2 (SeparableCon  (None, 19, 19, 1024  752024     ['block13_sepconv2_act[0][0]']   \n",
            " v2D)                           )                                                                 \n",
            "                                                                                                  \n",
            " block13_sepconv2_bn (BatchNorm  (None, 19, 19, 1024  4096       ['block13_sepconv2[0][0]']       \n",
            " alization)                     )                                                                 \n",
            "                                                                                                  \n",
            " conv2d_3 (Conv2D)              (None, 10, 10, 1024  745472      ['add_10[0][0]']                 \n",
            "                                )                                                                 \n",
            "                                                                                                  \n",
            " block13_pool (MaxPooling2D)    (None, 10, 10, 1024  0           ['block13_sepconv2_bn[0][0]']    \n",
            "                                )                                                                 \n",
            "                                                                                                  \n",
            " batch_normalization_3 (BatchNo  (None, 10, 10, 1024  4096       ['conv2d_3[0][0]']               \n",
            " rmalization)                   )                                                                 \n",
            "                                                                                                  \n",
            " add_11 (Add)                   (None, 10, 10, 1024  0           ['block13_pool[0][0]',           \n",
            "                                )                                 'batch_normalization_3[0][0]']  \n",
            "                                                                                                  \n",
            " block14_sepconv1 (SeparableCon  (None, 10, 10, 1536  1582080    ['add_11[0][0]']                 \n",
            " v2D)                           )                                                                 \n",
            "                                                                                                  \n",
            " block14_sepconv1_bn (BatchNorm  (None, 10, 10, 1536  6144       ['block14_sepconv1[0][0]']       \n",
            " alization)                     )                                                                 \n",
            "                                                                                                  \n",
            " block14_sepconv1_act (Activati  (None, 10, 10, 1536  0          ['block14_sepconv1_bn[0][0]']    \n",
            " on)                            )                                                                 \n",
            "                                                                                                  \n",
            " block14_sepconv2 (SeparableCon  (None, 10, 10, 2048  3159552    ['block14_sepconv1_act[0][0]']   \n",
            " v2D)                           )                                                                 \n",
            "                                                                                                  \n",
            " block14_sepconv2_bn (BatchNorm  (None, 10, 10, 2048  8192       ['block14_sepconv2[0][0]']       \n",
            " alization)                     )                                                                 \n",
            "                                                                                                  \n",
            " block14_sepconv2_act (Activati  (None, 10, 10, 2048  0          ['block14_sepconv2_bn[0][0]']    \n",
            " on)                            )                                                                 \n",
            "                                                                                                  \n",
            " avg_pool (GlobalAveragePooling  (None, 2048)        0           ['block14_sepconv2_act[0][0]']   \n",
            " 2D)                                                                                              \n",
            "                                                                                                  \n",
            " predictions (Dense)            (None, 1000)         2049000     ['avg_pool[0][0]']               \n",
            "                                                                                                  \n",
            "==================================================================================================\n",
            "Total params: 22,910,480\n",
            "Trainable params: 22,855,952\n",
            "Non-trainable params: 54,528\n",
            "__________________________________________________________________________________________________\n",
            "None\n"
          ]
        }
      ],
      "source": [
        "\n",
        "##xception\n",
        "base_model=tf.keras.applications.Xception(\n",
        "    include_top=True,\n",
        "    weights=\"imagenet\",\n",
        "    input_tensor=None,\n",
        "    input_shape=None,\n",
        "    pooling=None,\n",
        "    classes=1000,\n",
        "    classifier_activation=\"softmax\",\n",
        ")\n",
        "print(base_model.summary())"
      ]
    },
    {
      "cell_type": "code",
      "execution_count": null,
      "metadata": {
        "colab": {
          "base_uri": "https://localhost:8080/"
        },
        "id": "hZF3VxQQEJGT",
        "outputId": "7b4d27e7-77fc-4c12-cecb-235b6ae77955"
      },
      "outputs": [
        {
          "output_type": "execute_result",
          "data": {
            "text/plain": [
              "<function keras.applications.xception.preprocess_input>"
            ]
          },
          "metadata": {},
          "execution_count": 16
        }
      ],
      "source": [
        "\n",
        "tf.keras.applications.xception.preprocess_input\n"
      ]
    },
    {
      "cell_type": "code",
      "execution_count": null,
      "metadata": {
        "colab": {
          "base_uri": "https://localhost:8080/"
        },
        "id": "SonEZ6svCMUW",
        "outputId": "a9e2b4be-cb58-45c3-f53d-225874d5835e"
      },
      "outputs": [
        {
          "output_type": "stream",
          "name": "stdout",
          "text": [
            "Model: \"sequential\"\n",
            "_________________________________________________________________\n",
            " Layer (type)                Output Shape              Param #   \n",
            "=================================================================\n",
            " xception (Functional)       (None, 1000)              22910480  \n",
            "                                                                 \n",
            " flatten (Flatten)           (None, 1000)              0         \n",
            "                                                                 \n",
            " dropout (Dropout)           (None, 1000)              0         \n",
            "                                                                 \n",
            " dense (Dense)               (None, 4)                 4004      \n",
            "                                                                 \n",
            "=================================================================\n",
            "Total params: 22,914,484\n",
            "Trainable params: 4,004\n",
            "Non-trainable params: 22,910,480\n",
            "_________________________________________________________________\n"
          ]
        }
      ],
      "source": [
        "NUM_CLASSES = 4\n",
        "from tensorflow.keras import layers\n",
        "xception_model = Sequential()\n",
        "xception_model.add(base_model)\n",
        "xception_model.add(layers.Flatten())\n",
        "xception_model.add(layers.Dropout(0.25))\n",
        "xception_model.add(layers.Dense(NUM_CLASSES, activation='elu'))\n",
        "\n",
        "xception_model.layers[0].trainable = False\n",
        "\n",
        "xception_model.compile(\n",
        "    loss='categorical_crossentropy',\n",
        "    optimizer='adam',\n",
        "    metrics=['accuracy']\n",
        ")\n",
        "\n",
        "xception_model.summary()"
      ]
    },
    {
      "cell_type": "code",
      "execution_count": null,
      "metadata": {
        "id": "mzHBKgOJCMXi"
      },
      "outputs": [],
      "source": [
        "from tensorflow.keras.callbacks import ModelCheckpoint, EarlyStopping\n",
        "mc = ModelCheckpoint(\n",
        "    filepath=\"./ct_xception_best_model.hdf5\",\n",
        "    monitor= 'val_accuracy', \n",
        "    verbose= 1,\n",
        "    save_best_only= True, \n",
        "    mode = 'auto'\n",
        "    );\n",
        "\n",
        "call_back = [ mc];"
      ]
    },
    {
      "cell_type": "code",
      "execution_count": null,
      "metadata": {
        "colab": {
          "base_uri": "https://localhost:8080/"
        },
        "id": "WIFqIwWWCMaV",
        "outputId": "b433033f-1567-46f3-ea54-4b422788fd06"
      },
      "outputs": [
        {
          "output_type": "stream",
          "name": "stdout",
          "text": [
            "Epoch 1/60\n",
            "9/9 [==============================] - ETA: 0s - loss: 3.1124 - accuracy: 0.4426\n",
            "Epoch 1: val_accuracy did not improve from 0.46875\n",
            "9/9 [==============================] - 21s 2s/step - loss: 3.1124 - accuracy: 0.4426 - val_loss: 4.2375 - val_accuracy: 0.3281\n",
            "Epoch 2/60\n",
            "9/9 [==============================] - ETA: 0s - loss: 3.5132 - accuracy: 0.4427\n",
            "Epoch 2: val_accuracy did not improve from 0.46875\n",
            "9/9 [==============================] - 20s 2s/step - loss: 3.5132 - accuracy: 0.4427 - val_loss: 4.4512 - val_accuracy: 0.2812\n",
            "Epoch 3/60\n",
            "9/9 [==============================] - ETA: 0s - loss: 4.7761 - accuracy: 0.4427\n",
            "Epoch 3: val_accuracy did not improve from 0.46875\n",
            "9/9 [==============================] - 20s 2s/step - loss: 4.7761 - accuracy: 0.4427 - val_loss: 4.2341 - val_accuracy: 0.3281\n",
            "Epoch 4/60\n",
            "9/9 [==============================] - ETA: 0s - loss: 4.8855 - accuracy: 0.4299\n",
            "Epoch 4: val_accuracy did not improve from 0.46875\n",
            "9/9 [==============================] - 19s 2s/step - loss: 4.8855 - accuracy: 0.4299 - val_loss: 4.2791 - val_accuracy: 0.3906\n",
            "Epoch 5/60\n",
            "9/9 [==============================] - ETA: 0s - loss: 3.8796 - accuracy: 0.4372\n",
            "Epoch 5: val_accuracy did not improve from 0.46875\n",
            "9/9 [==============================] - 19s 2s/step - loss: 3.8796 - accuracy: 0.4372 - val_loss: 2.5131 - val_accuracy: 0.3750\n",
            "Epoch 6/60\n",
            "9/9 [==============================] - ETA: 0s - loss: 3.0754 - accuracy: 0.4590\n",
            "Epoch 6: val_accuracy did not improve from 0.46875\n",
            "9/9 [==============================] - 19s 2s/step - loss: 3.0754 - accuracy: 0.4590 - val_loss: 2.3225 - val_accuracy: 0.4375\n",
            "Epoch 7/60\n",
            "9/9 [==============================] - ETA: 0s - loss: 2.8330 - accuracy: 0.4627\n",
            "Epoch 7: val_accuracy did not improve from 0.46875\n",
            "9/9 [==============================] - 19s 2s/step - loss: 2.8330 - accuracy: 0.4627 - val_loss: 2.7357 - val_accuracy: 0.4531\n",
            "Epoch 8/60\n",
            "9/9 [==============================] - ETA: 0s - loss: 2.9137 - accuracy: 0.4463\n",
            "Epoch 8: val_accuracy did not improve from 0.46875\n",
            "9/9 [==============================] - 19s 2s/step - loss: 2.9137 - accuracy: 0.4463 - val_loss: 2.4625 - val_accuracy: 0.4375\n",
            "Epoch 9/60\n",
            "9/9 [==============================] - ETA: 0s - loss: 3.2557 - accuracy: 0.4335\n",
            "Epoch 9: val_accuracy did not improve from 0.46875\n",
            "9/9 [==============================] - 19s 2s/step - loss: 3.2557 - accuracy: 0.4335 - val_loss: 4.5462 - val_accuracy: 0.4219\n",
            "Epoch 10/60\n",
            "9/9 [==============================] - ETA: 0s - loss: 3.4203 - accuracy: 0.4536\n",
            "Epoch 10: val_accuracy did not improve from 0.46875\n",
            "9/9 [==============================] - 19s 2s/step - loss: 3.4203 - accuracy: 0.4536 - val_loss: 3.7038 - val_accuracy: 0.4531\n",
            "Epoch 11/60\n",
            "9/9 [==============================] - ETA: 0s - loss: 2.8338 - accuracy: 0.4554\n",
            "Epoch 11: val_accuracy did not improve from 0.46875\n",
            "9/9 [==============================] - 19s 2s/step - loss: 2.8338 - accuracy: 0.4554 - val_loss: 2.1156 - val_accuracy: 0.4531\n",
            "Epoch 12/60\n",
            "9/9 [==============================] - ETA: 0s - loss: 2.9630 - accuracy: 0.4497\n",
            "Epoch 12: val_accuracy did not improve from 0.46875\n",
            "9/9 [==============================] - 20s 2s/step - loss: 2.9630 - accuracy: 0.4497 - val_loss: 2.0212 - val_accuracy: 0.3906\n",
            "Epoch 13/60\n",
            "9/9 [==============================] - ETA: 0s - loss: 2.5585 - accuracy: 0.5009\n",
            "Epoch 13: val_accuracy did not improve from 0.46875\n",
            "9/9 [==============================] - 19s 2s/step - loss: 2.5585 - accuracy: 0.5009 - val_loss: 1.8088 - val_accuracy: 0.4219\n",
            "Epoch 14/60\n",
            "9/9 [==============================] - ETA: 0s - loss: 2.4646 - accuracy: 0.4936\n",
            "Epoch 14: val_accuracy did not improve from 0.46875\n",
            "9/9 [==============================] - 19s 2s/step - loss: 2.4646 - accuracy: 0.4936 - val_loss: 2.3060 - val_accuracy: 0.4531\n",
            "Epoch 15/60\n",
            "9/9 [==============================] - ETA: 0s - loss: 2.2002 - accuracy: 0.4718\n",
            "Epoch 15: val_accuracy did not improve from 0.46875\n",
            "9/9 [==============================] - 19s 2s/step - loss: 2.2002 - accuracy: 0.4718 - val_loss: 2.4745 - val_accuracy: 0.4219\n",
            "Epoch 16/60\n",
            "9/9 [==============================] - ETA: 0s - loss: 2.5929 - accuracy: 0.4965\n",
            "Epoch 16: val_accuracy did not improve from 0.46875\n",
            "9/9 [==============================] - 20s 2s/step - loss: 2.5929 - accuracy: 0.4965 - val_loss: 2.6390 - val_accuracy: 0.4531\n",
            "Epoch 17/60\n",
            "9/9 [==============================] - ETA: 0s - loss: 2.8746 - accuracy: 0.4670\n",
            "Epoch 17: val_accuracy improved from 0.46875 to 0.50000, saving model to ./ct_xception_best_model.hdf5\n",
            "9/9 [==============================] - 20s 2s/step - loss: 2.8746 - accuracy: 0.4670 - val_loss: 3.3892 - val_accuracy: 0.5000\n",
            "Epoch 18/60\n",
            "9/9 [==============================] - ETA: 0s - loss: 3.1470 - accuracy: 0.4627\n",
            "Epoch 18: val_accuracy did not improve from 0.50000\n",
            "9/9 [==============================] - 19s 2s/step - loss: 3.1470 - accuracy: 0.4627 - val_loss: 3.9978 - val_accuracy: 0.4219\n",
            "Epoch 19/60\n",
            "9/9 [==============================] - ETA: 0s - loss: 3.9895 - accuracy: 0.4663\n",
            "Epoch 19: val_accuracy did not improve from 0.50000\n",
            "9/9 [==============================] - 19s 2s/step - loss: 3.9895 - accuracy: 0.4663 - val_loss: 5.5715 - val_accuracy: 0.4531\n",
            "Epoch 20/60\n",
            "9/9 [==============================] - ETA: 0s - loss: 4.0044 - accuracy: 0.4936\n",
            "Epoch 20: val_accuracy did not improve from 0.50000\n",
            "9/9 [==============================] - 19s 2s/step - loss: 4.0044 - accuracy: 0.4936 - val_loss: 5.9561 - val_accuracy: 0.5000\n",
            "Epoch 21/60\n",
            "9/9 [==============================] - ETA: 0s - loss: 4.5893 - accuracy: 0.4590\n",
            "Epoch 21: val_accuracy did not improve from 0.50000\n",
            "9/9 [==============================] - 19s 2s/step - loss: 4.5893 - accuracy: 0.4590 - val_loss: 5.7931 - val_accuracy: 0.4844\n",
            "Epoch 22/60\n",
            "9/9 [==============================] - ETA: 0s - loss: 4.1820 - accuracy: 0.4627\n",
            "Epoch 22: val_accuracy did not improve from 0.50000\n",
            "9/9 [==============================] - 19s 2s/step - loss: 4.1820 - accuracy: 0.4627 - val_loss: 5.5977 - val_accuracy: 0.4062\n",
            "Epoch 23/60\n",
            "9/9 [==============================] - ETA: 0s - loss: 3.9023 - accuracy: 0.4736\n",
            "Epoch 23: val_accuracy did not improve from 0.50000\n",
            "9/9 [==============================] - 19s 2s/step - loss: 3.9023 - accuracy: 0.4736 - val_loss: 4.6985 - val_accuracy: 0.4844\n",
            "Epoch 24/60\n",
            "9/9 [==============================] - ETA: 0s - loss: 3.6249 - accuracy: 0.4991\n",
            "Epoch 24: val_accuracy did not improve from 0.50000\n",
            "9/9 [==============================] - 19s 2s/step - loss: 3.6249 - accuracy: 0.4991 - val_loss: 4.6616 - val_accuracy: 0.4531\n",
            "Epoch 25/60\n",
            "9/9 [==============================] - ETA: 0s - loss: 3.2772 - accuracy: 0.4688\n",
            "Epoch 25: val_accuracy did not improve from 0.50000\n",
            "9/9 [==============================] - 20s 2s/step - loss: 3.2772 - accuracy: 0.4688 - val_loss: 4.6401 - val_accuracy: 0.4062\n",
            "Epoch 26/60\n",
            "9/9 [==============================] - ETA: 0s - loss: 4.6387 - accuracy: 0.4627\n",
            "Epoch 26: val_accuracy did not improve from 0.50000\n",
            "9/9 [==============================] - 19s 2s/step - loss: 4.6387 - accuracy: 0.4627 - val_loss: 6.3632 - val_accuracy: 0.4375\n",
            "Epoch 27/60\n",
            "9/9 [==============================] - ETA: 0s - loss: 4.7801 - accuracy: 0.4554\n",
            "Epoch 27: val_accuracy did not improve from 0.50000\n",
            "9/9 [==============================] - 19s 2s/step - loss: 4.7801 - accuracy: 0.4554 - val_loss: 6.1952 - val_accuracy: 0.4375\n",
            "Epoch 28/60\n",
            "9/9 [==============================] - ETA: 0s - loss: 4.9874 - accuracy: 0.4954\n",
            "Epoch 28: val_accuracy did not improve from 0.50000\n",
            "9/9 [==============================] - 19s 2s/step - loss: 4.9874 - accuracy: 0.4954 - val_loss: 5.6689 - val_accuracy: 0.4375\n",
            "Epoch 29/60\n",
            "9/9 [==============================] - ETA: 0s - loss: 4.7692 - accuracy: 0.4663\n",
            "Epoch 29: val_accuracy improved from 0.50000 to 0.53125, saving model to ./ct_xception_best_model.hdf5\n",
            "9/9 [==============================] - 19s 2s/step - loss: 4.7692 - accuracy: 0.4663 - val_loss: 7.1460 - val_accuracy: 0.5312\n",
            "Epoch 30/60\n",
            "9/9 [==============================] - ETA: 0s - loss: 5.9422 - accuracy: 0.5209\n",
            "Epoch 30: val_accuracy did not improve from 0.53125\n",
            "9/9 [==============================] - 19s 2s/step - loss: 5.9422 - accuracy: 0.5209 - val_loss: 7.5318 - val_accuracy: 0.4531\n",
            "Epoch 31/60\n",
            "9/9 [==============================] - ETA: 0s - loss: 6.6344 - accuracy: 0.5027\n",
            "Epoch 31: val_accuracy did not improve from 0.53125\n",
            "9/9 [==============================] - 19s 2s/step - loss: 6.6344 - accuracy: 0.5027 - val_loss: 7.4792 - val_accuracy: 0.4688\n",
            "Epoch 32/60\n",
            "9/9 [==============================] - ETA: 0s - loss: 6.1830 - accuracy: 0.4991\n",
            "Epoch 32: val_accuracy did not improve from 0.53125\n",
            "9/9 [==============================] - 18s 2s/step - loss: 6.1830 - accuracy: 0.4991 - val_loss: 7.6739 - val_accuracy: 0.4531\n",
            "Epoch 33/60\n",
            "9/9 [==============================] - ETA: 0s - loss: 6.2325 - accuracy: 0.5191\n",
            "Epoch 33: val_accuracy did not improve from 0.53125\n",
            "9/9 [==============================] - 20s 2s/step - loss: 6.2325 - accuracy: 0.5191 - val_loss: 8.1957 - val_accuracy: 0.4688\n",
            "Epoch 34/60\n",
            "9/9 [==============================] - ETA: 0s - loss: 6.3486 - accuracy: 0.5118\n",
            "Epoch 34: val_accuracy did not improve from 0.53125\n",
            "9/9 [==============================] - 19s 2s/step - loss: 6.3486 - accuracy: 0.5118 - val_loss: 7.0831 - val_accuracy: 0.4375\n",
            "Epoch 35/60\n",
            "9/9 [==============================] - ETA: 0s - loss: 5.6212 - accuracy: 0.4882\n",
            "Epoch 35: val_accuracy did not improve from 0.53125\n",
            "9/9 [==============================] - 19s 2s/step - loss: 5.6212 - accuracy: 0.4882 - val_loss: 7.5704 - val_accuracy: 0.3906\n",
            "Epoch 36/60\n",
            "9/9 [==============================] - ETA: 0s - loss: 4.9977 - accuracy: 0.4936\n",
            "Epoch 36: val_accuracy did not improve from 0.53125\n",
            "9/9 [==============================] - 18s 2s/step - loss: 4.9977 - accuracy: 0.4936 - val_loss: 5.9283 - val_accuracy: 0.3906\n",
            "Epoch 37/60\n",
            "9/9 [==============================] - ETA: 0s - loss: 4.0219 - accuracy: 0.4627\n",
            "Epoch 37: val_accuracy did not improve from 0.53125\n",
            "9/9 [==============================] - 19s 2s/step - loss: 4.0219 - accuracy: 0.4627 - val_loss: 3.6340 - val_accuracy: 0.3125\n",
            "Epoch 38/60\n",
            "9/9 [==============================] - ETA: 0s - loss: 3.1649 - accuracy: 0.4481\n",
            "Epoch 38: val_accuracy did not improve from 0.53125\n",
            "9/9 [==============================] - 19s 2s/step - loss: 3.1649 - accuracy: 0.4481 - val_loss: 2.4894 - val_accuracy: 0.3125\n",
            "Epoch 39/60\n",
            "9/9 [==============================] - ETA: 0s - loss: 2.7710 - accuracy: 0.4189\n",
            "Epoch 39: val_accuracy did not improve from 0.53125\n",
            "9/9 [==============================] - 19s 2s/step - loss: 2.7710 - accuracy: 0.4189 - val_loss: 2.1992 - val_accuracy: 0.3125\n",
            "Epoch 40/60\n",
            "9/9 [==============================] - ETA: 0s - loss: 2.9015 - accuracy: 0.4390\n",
            "Epoch 40: val_accuracy did not improve from 0.53125\n",
            "9/9 [==============================] - 19s 2s/step - loss: 2.9015 - accuracy: 0.4390 - val_loss: 2.4354 - val_accuracy: 0.3594\n",
            "Epoch 41/60\n",
            "9/9 [==============================] - ETA: 0s - loss: 2.9713 - accuracy: 0.4444\n",
            "Epoch 41: val_accuracy did not improve from 0.53125\n",
            "9/9 [==============================] - 19s 2s/step - loss: 2.9713 - accuracy: 0.4444 - val_loss: 2.1124 - val_accuracy: 0.3750\n",
            "Epoch 42/60\n",
            "9/9 [==============================] - ETA: 0s - loss: 2.6685 - accuracy: 0.4335\n",
            "Epoch 42: val_accuracy did not improve from 0.53125\n",
            "9/9 [==============================] - 19s 2s/step - loss: 2.6685 - accuracy: 0.4335 - val_loss: 2.0716 - val_accuracy: 0.3750\n",
            "Epoch 43/60\n",
            "9/9 [==============================] - ETA: 0s - loss: 3.1835 - accuracy: 0.4681\n",
            "Epoch 43: val_accuracy did not improve from 0.53125\n",
            "9/9 [==============================] - 19s 2s/step - loss: 3.1835 - accuracy: 0.4681 - val_loss: 2.5423 - val_accuracy: 0.4062\n",
            "Epoch 44/60\n",
            "9/9 [==============================] - ETA: 0s - loss: 3.0404 - accuracy: 0.4335\n",
            "Epoch 44: val_accuracy did not improve from 0.53125\n",
            "9/9 [==============================] - 19s 2s/step - loss: 3.0404 - accuracy: 0.4335 - val_loss: 2.7672 - val_accuracy: 0.3750\n",
            "Epoch 45/60\n",
            "9/9 [==============================] - ETA: 0s - loss: 2.3741 - accuracy: 0.4718\n",
            "Epoch 45: val_accuracy did not improve from 0.53125\n",
            "9/9 [==============================] - 19s 2s/step - loss: 2.3741 - accuracy: 0.4718 - val_loss: 2.9541 - val_accuracy: 0.3594\n",
            "Epoch 46/60\n",
            "9/9 [==============================] - ETA: 0s - loss: 3.1794 - accuracy: 0.4481\n",
            "Epoch 46: val_accuracy did not improve from 0.53125\n",
            "9/9 [==============================] - 19s 2s/step - loss: 3.1794 - accuracy: 0.4481 - val_loss: 2.6738 - val_accuracy: 0.4062\n",
            "Epoch 47/60\n",
            "9/9 [==============================] - ETA: 0s - loss: 2.9454 - accuracy: 0.4772\n",
            "Epoch 47: val_accuracy did not improve from 0.53125\n",
            "9/9 [==============================] - 19s 2s/step - loss: 2.9454 - accuracy: 0.4772 - val_loss: 1.7135 - val_accuracy: 0.4219\n",
            "Epoch 48/60\n",
            "9/9 [==============================] - ETA: 0s - loss: 2.9399 - accuracy: 0.4098\n",
            "Epoch 48: val_accuracy did not improve from 0.53125\n",
            "9/9 [==============================] - 19s 2s/step - loss: 2.9399 - accuracy: 0.4098 - val_loss: 1.9335 - val_accuracy: 0.4531\n",
            "Epoch 49/60\n",
            "9/9 [==============================] - ETA: 0s - loss: 2.9319 - accuracy: 0.4153\n",
            "Epoch 49: val_accuracy did not improve from 0.53125\n",
            "9/9 [==============================] - 19s 2s/step - loss: 2.9319 - accuracy: 0.4153 - val_loss: 2.1351 - val_accuracy: 0.4531\n",
            "Epoch 50/60\n",
            "9/9 [==============================] - ETA: 0s - loss: 3.0368 - accuracy: 0.4463\n",
            "Epoch 50: val_accuracy did not improve from 0.53125\n",
            "9/9 [==============================] - 19s 2s/step - loss: 3.0368 - accuracy: 0.4463 - val_loss: 2.3945 - val_accuracy: 0.3750\n",
            "Epoch 51/60\n",
            "9/9 [==============================] - ETA: 0s - loss: 3.2059 - accuracy: 0.4098\n",
            "Epoch 51: val_accuracy did not improve from 0.53125\n",
            "9/9 [==============================] - 19s 2s/step - loss: 3.2059 - accuracy: 0.4098 - val_loss: 3.5792 - val_accuracy: 0.3438\n",
            "Epoch 52/60\n",
            "9/9 [==============================] - ETA: 0s - loss: 3.6845 - accuracy: 0.4208\n",
            "Epoch 52: val_accuracy did not improve from 0.53125\n",
            "9/9 [==============================] - 19s 2s/step - loss: 3.6845 - accuracy: 0.4208 - val_loss: 4.3247 - val_accuracy: 0.4219\n",
            "Epoch 53/60\n",
            "9/9 [==============================] - ETA: 0s - loss: 4.4944 - accuracy: 0.4317\n",
            "Epoch 53: val_accuracy did not improve from 0.53125\n",
            "9/9 [==============================] - 19s 2s/step - loss: 4.4944 - accuracy: 0.4317 - val_loss: 4.0642 - val_accuracy: 0.4062\n",
            "Epoch 54/60\n",
            "9/9 [==============================] - ETA: 0s - loss: 3.8911 - accuracy: 0.4718\n",
            "Epoch 54: val_accuracy did not improve from 0.53125\n",
            "9/9 [==============================] - 20s 2s/step - loss: 3.8911 - accuracy: 0.4718 - val_loss: 3.8951 - val_accuracy: 0.3281\n",
            "Epoch 55/60\n",
            "9/9 [==============================] - ETA: 0s - loss: 3.3286 - accuracy: 0.4936\n",
            "Epoch 55: val_accuracy did not improve from 0.53125\n",
            "9/9 [==============================] - 20s 2s/step - loss: 3.3286 - accuracy: 0.4936 - val_loss: 3.6781 - val_accuracy: 0.3438\n",
            "Epoch 56/60\n",
            "9/9 [==============================] - ETA: 0s - loss: 3.6711 - accuracy: 0.4948\n",
            "Epoch 56: val_accuracy did not improve from 0.53125\n",
            "9/9 [==============================] - 21s 2s/step - loss: 3.6711 - accuracy: 0.4948 - val_loss: 3.9344 - val_accuracy: 0.4375\n",
            "Epoch 57/60\n",
            "9/9 [==============================] - ETA: 0s - loss: 4.0903 - accuracy: 0.4973\n",
            "Epoch 57: val_accuracy did not improve from 0.53125\n",
            "9/9 [==============================] - 19s 2s/step - loss: 4.0903 - accuracy: 0.4973 - val_loss: 5.4081 - val_accuracy: 0.3750\n",
            "Epoch 58/60\n",
            "9/9 [==============================] - ETA: 0s - loss: 3.4611 - accuracy: 0.5064\n",
            "Epoch 58: val_accuracy did not improve from 0.53125\n",
            "9/9 [==============================] - 19s 2s/step - loss: 3.4611 - accuracy: 0.5064 - val_loss: 2.8997 - val_accuracy: 0.4844\n",
            "Epoch 59/60\n",
            "9/9 [==============================] - ETA: 0s - loss: 2.5662 - accuracy: 0.5064\n",
            "Epoch 59: val_accuracy did not improve from 0.53125\n",
            "9/9 [==============================] - 19s 2s/step - loss: 2.5662 - accuracy: 0.5064 - val_loss: 2.4317 - val_accuracy: 0.4375\n",
            "Epoch 60/60\n",
            "9/9 [==============================] - ETA: 0s - loss: 2.7642 - accuracy: 0.5082\n",
            "Epoch 60: val_accuracy did not improve from 0.53125\n",
            "9/9 [==============================] - 19s 2s/step - loss: 2.7642 - accuracy: 0.5082 - val_loss: 2.2745 - val_accuracy: 0.4219\n"
          ]
        }
      ],
      "source": [
        "xception = xception_model.fit(\n",
        "    train_data, \n",
        "    steps_per_epoch = train_data.samples//train_data.batch_size, \n",
        "    epochs = 60, \n",
        "    validation_data = val_data, \n",
        "    validation_steps = val_data.samples//val_data.batch_size,\n",
        "    callbacks = call_back \n",
        "    )"
      ]
    },
    {
      "cell_type": "code",
      "execution_count": null,
      "metadata": {
        "id": "1oOQ1-q-CMdk"
      },
      "outputs": [],
      "source": [
        "xception_model = load_model(\"./ct_xception_best_model.hdf5\")"
      ]
    },
    {
      "cell_type": "code",
      "execution_count": null,
      "metadata": {
        "colab": {
          "base_uri": "https://localhost:8080/"
        },
        "id": "02cEo9O7CMf8",
        "outputId": "40a5ac20-889b-4139-e890-cbeea6ca21d0"
      },
      "outputs": [
        {
          "output_type": "stream",
          "name": "stdout",
          "text": [
            "The accuracy of the model is = 48.88888895511627 %\n"
          ]
        }
      ],
      "source": [
        "accuracy_xception = xception_model.evaluate_generator(generator= test_data)[1] \n",
        "print(f\"The accuracy of the model is = {accuracy_xception*100} %\")"
      ]
    },
    {
      "cell_type": "code",
      "source": [
        "xception.history.keys()"
      ],
      "metadata": {
        "colab": {
          "base_uri": "https://localhost:8080/"
        },
        "id": "Jyy52XreI3pH",
        "outputId": "423e90ca-a040-4930-b0ef-5c45590c40ce"
      },
      "execution_count": null,
      "outputs": [
        {
          "output_type": "execute_result",
          "data": {
            "text/plain": [
              "dict_keys(['loss', 'accuracy', 'val_loss', 'val_accuracy'])"
            ]
          },
          "metadata": {},
          "execution_count": 23
        }
      ]
    },
    {
      "cell_type": "code",
      "source": [
        "'''acc = xception.history['accuracy']\n",
        "val_acc = xception.history['val_accuracy']\n",
        "loss = xception.history['loss']\n",
        "val_loss = xception.history['val_loss']\n",
        "epochs_range = range(11, len(xception.epoch) + 1)\n",
        "\n",
        "plt.figure(figsize=(10,5))\n",
        "\n",
        "plt.subplot(1, 2, 1)\n",
        "plt.plot(epochs_range, acc, label='Train Set')\n",
        "plt.plot(epochs_range, val_acc, label='Val Set')\n",
        "plt.legend(loc=\"best\")\n",
        "plt.xlabel('Epochs')\n",
        "plt.ylabel('Accuracy')\n",
        "plt.title('Model Accuracy')\n",
        "\n",
        "plt.subplot(1, 2, 2)\n",
        "plt.plot(epochs_range, loss, label='Train Set')\n",
        "plt.plot(epochs_range, val_loss, label='Val Set')\n",
        "plt.legend(loc=\"best\")\n",
        "plt.xlabel('Epochs')\n",
        "plt.ylabel('Loss')\n",
        "plt.title('Model Loss')\n",
        "\n",
        "plt.tight_layout()\n",
        "plt.show()'''"
      ],
      "metadata": {
        "colab": {
          "base_uri": "https://localhost:8080/",
          "height": 105
        },
        "id": "Fed0QXZfI3sa",
        "outputId": "cd426da1-75c6-4d61-8548-edc5be131e22"
      },
      "execution_count": null,
      "outputs": [
        {
          "output_type": "execute_result",
          "data": {
            "text/plain": [
              "'acc = xception.history[\\'accuracy\\']\\nval_acc = xception.history[\\'val_accuracy\\']\\nloss = xception.history[\\'loss\\']\\nval_loss = xception.history[\\'val_loss\\']\\nepochs_range = range(11, len(xception.epoch) + 1)\\n\\nplt.figure(figsize=(10,5))\\n\\nplt.subplot(1, 2, 1)\\nplt.plot(epochs_range, acc, label=\\'Train Set\\')\\nplt.plot(epochs_range, val_acc, label=\\'Val Set\\')\\nplt.legend(loc=\"best\")\\nplt.xlabel(\\'Epochs\\')\\nplt.ylabel(\\'Accuracy\\')\\nplt.title(\\'Model Accuracy\\')\\n\\nplt.subplot(1, 2, 2)\\nplt.plot(epochs_range, loss, label=\\'Train Set\\')\\nplt.plot(epochs_range, val_loss, label=\\'Val Set\\')\\nplt.legend(loc=\"best\")\\nplt.xlabel(\\'Epochs\\')\\nplt.ylabel(\\'Loss\\')\\nplt.title(\\'Model Loss\\')\\n\\nplt.tight_layout()\\nplt.show()'"
            ],
            "application/vnd.google.colaboratory.intrinsic+json": {
              "type": "string"
            }
          },
          "metadata": {},
          "execution_count": 26
        }
      ]
    },
    {
      "cell_type": "code",
      "execution_count": null,
      "metadata": {
        "id": "vIsTvC88c3t2"
      },
      "outputs": [],
      "source": [
        "#densenet121\n",
        "import tensorflow \n",
        "\n",
        "import pandas as pd\n",
        "import numpy as np\n",
        "import os\n",
        "import keras\n",
        "import random\n",
        "import cv2\n",
        "import math\n",
        "import seaborn as sns\n",
        "\n",
        "from sklearn.metrics import confusion_matrix\n",
        "from sklearn.preprocessing import LabelBinarizer\n",
        "from sklearn.model_selection import train_test_split\n",
        "\n",
        "import matplotlib.pyplot as plt\n",
        "\n",
        "from tensorflow.keras.layers import Dense,GlobalAveragePooling2D,Convolution2D,BatchNormalization\n",
        "from tensorflow.keras.layers import Flatten,MaxPooling2D,Dropout,AveragePooling2D,GlobalMaxPooling2D\n",
        "\n",
        "from tensorflow.keras.applications import DenseNet121\n",
        "from tensorflow.keras.applications.densenet import preprocess_input\n",
        "\n",
        "\n",
        "from tensorflow.keras.preprocessing import image\n",
        "from tensorflow.keras.preprocessing.image import ImageDataGenerator,img_to_array\n",
        "\n",
        "from tensorflow.keras.models import Model\n",
        "\n",
        "from tensorflow.keras.optimizers import Adam\n",
        "\n",
        "from tensorflow.keras.callbacks import ModelCheckpoint, ReduceLROnPlateau\n",
        "\n",
        "import warnings\n",
        "warnings.filterwarnings(\"ignore\")\n"
      ]
    },
    {
      "cell_type": "code",
      "execution_count": null,
      "metadata": {
        "colab": {
          "base_uri": "https://localhost:8080/"
        },
        "id": "rugp7X_fc3w6",
        "outputId": "ef61532b-6fbf-4c21-81f0-f228a5bd9d4d"
      },
      "outputs": [
        {
          "output_type": "stream",
          "name": "stdout",
          "text": [
            "Tensorflow-version: 2.8.0\n"
          ]
        }
      ],
      "source": [
        "print(\"Tensorflow-version:\", tensorflow.__version__)"
      ]
    },
    {
      "cell_type": "code",
      "execution_count": null,
      "metadata": {
        "colab": {
          "base_uri": "https://localhost:8080/"
        },
        "id": "X_Sq5WdTc3zg",
        "outputId": "ad495abd-7870-442c-8eab-8d7737803944"
      },
      "outputs": [
        {
          "output_type": "stream",
          "name": "stdout",
          "text": [
            "Downloading data from https://storage.googleapis.com/tensorflow/keras-applications/densenet/densenet121_weights_tf_dim_ordering_tf_kernels_notop.h5\n",
            "29089792/29084464 [==============================] - 0s 0us/step\n",
            "29097984/29084464 [==============================] - 0s 0us/step\n"
          ]
        }
      ],
      "source": [
        "base_model=DenseNet121(weights='imagenet',include_top=False, input_shape=(350, 350, 3)) \n",
        "\n",
        "x=base_model.output\n"
      ]
    },
    {
      "cell_type": "code",
      "execution_count": null,
      "metadata": {
        "id": "WFTg5wUNc33G"
      },
      "outputs": [],
      "source": [
        "for layer in base_model.layers:\n",
        "    layer.trainable = False\n",
        "    "
      ]
    },
    {
      "cell_type": "code",
      "execution_count": null,
      "metadata": {
        "colab": {
          "base_uri": "https://localhost:8080/"
        },
        "id": "9hFj97JViXNL",
        "outputId": "60cf06cd-b3fc-4ce8-f3ed-dc3be98e7dd9"
      },
      "outputs": [
        {
          "output_type": "stream",
          "name": "stdout",
          "text": [
            "Model: \"sequential_1\"\n",
            "_________________________________________________________________\n",
            " Layer (type)                Output Shape              Param #   \n",
            "=================================================================\n",
            " conv2d_4 (Conv2D)           (None, 348, 348, 32)      896       \n",
            "                                                                 \n",
            " conv2d_5 (Conv2D)           (None, 346, 346, 32)      9248      \n",
            "                                                                 \n",
            " max_pooling2d (MaxPooling2D  (None, 173, 173, 32)     0         \n",
            " )                                                               \n",
            "                                                                 \n",
            " conv2d_6 (Conv2D)           (None, 171, 171, 64)      18496     \n",
            "                                                                 \n",
            " max_pooling2d_1 (MaxPooling  (None, 85, 85, 64)       0         \n",
            " 2D)                                                             \n",
            "                                                                 \n",
            " conv2d_7 (Conv2D)           (None, 83, 83, 128)       73856     \n",
            "                                                                 \n",
            " max_pooling2d_2 (MaxPooling  (None, 41, 41, 128)      0         \n",
            " 2D)                                                             \n",
            "                                                                 \n",
            " dropout_1 (Dropout)         (None, 41, 41, 128)       0         \n",
            "                                                                 \n",
            " flatten_1 (Flatten)         (None, 215168)            0         \n",
            "                                                                 \n",
            " dense_1 (Dense)             (None, 64)                13770816  \n",
            "                                                                 \n",
            " dropout_2 (Dropout)         (None, 64)                0         \n",
            "                                                                 \n",
            " dense_2 (Dense)             (None, 4)                 260       \n",
            "                                                                 \n",
            "=================================================================\n",
            "Total params: 13,873,572\n",
            "Trainable params: 13,873,572\n",
            "Non-trainable params: 0\n",
            "_________________________________________________________________\n"
          ]
        }
      ],
      "source": [
        "model_densenet121 = Sequential() \n",
        "\n",
        "\n",
        "model_densenet121.add(Conv2D(filters=32, kernel_size= (3,3), activation= 'relu', input_shape=(350,350,3)) )\n",
        "\n",
        "model_densenet121.add(Conv2D(filters=32, kernel_size=(3,3), activation='relu' ))\n",
        "model_densenet121.add(MaxPool2D(pool_size=(2,2)))\n",
        "\n",
        "model_densenet121.add(Conv2D(filters=64, kernel_size=(3,3), activation='relu' ))\n",
        "model_densenet121.add(MaxPool2D(pool_size=(2,2)))\n",
        "\n",
        "model_densenet121.add(Conv2D(filters=128, kernel_size=(3,3), activation='relu' ))\n",
        "model_densenet121.add(MaxPool2D(pool_size=(2,2)))\n",
        "\n",
        "model_densenet121.add(Dropout(rate=0.25))\n",
        "\n",
        "model_densenet121.add(Flatten())\n",
        "model_densenet121.add(Dense(units=64, activation='relu'))\n",
        "model_densenet121.add(Dropout(rate=0.25))\n",
        "model_densenet121.add(Dense(units=4, activation='sigmoid'))\n",
        "\n",
        "model_densenet121.compile(optimizer='adam', loss='categorical_crossentropy', metrics=['accuracy']  )\n",
        " \n",
        "model_densenet121.summary()\n"
      ]
    },
    {
      "cell_type": "code",
      "source": [
        "from tensorflow.keras.callbacks import ModelCheckpoint, EarlyStopping\n",
        "mc = ModelCheckpoint(\n",
        "    filepath=\"./ct_densenet121_best_model.hdf5\",\n",
        "    monitor= 'val_accuracy', \n",
        "    verbose= 1,\n",
        "    save_best_only= True, \n",
        "    mode = 'auto'\n",
        "    );\n",
        "\n",
        "call_back = [ mc];"
      ],
      "metadata": {
        "id": "l3cggkBh47wy"
      },
      "execution_count": null,
      "outputs": []
    },
    {
      "cell_type": "code",
      "execution_count": null,
      "metadata": {
        "colab": {
          "base_uri": "https://localhost:8080/"
        },
        "id": "CJdyoDuJkGgJ",
        "outputId": "2aff620f-03c0-4abb-d338-332dac8c6001"
      },
      "outputs": [
        {
          "output_type": "stream",
          "name": "stdout",
          "text": [
            "Epoch 1/20\n",
            "9/9 [==============================] - ETA: 0s - loss: 1.8726 - accuracy: 0.2495\n",
            "Epoch 1: val_accuracy improved from -inf to 0.20312, saving model to ./ct_densenet121_best_model.hdf5\n",
            "9/9 [==============================] - 25s 2s/step - loss: 1.8726 - accuracy: 0.2495 - val_loss: 1.4042 - val_accuracy: 0.2031\n",
            "Epoch 2/20\n",
            "9/9 [==============================] - ETA: 0s - loss: 1.2830 - accuracy: 0.3443\n",
            "Epoch 2: val_accuracy improved from 0.20312 to 0.21875, saving model to ./ct_densenet121_best_model.hdf5\n",
            "9/9 [==============================] - 18s 2s/step - loss: 1.2830 - accuracy: 0.3443 - val_loss: 1.4654 - val_accuracy: 0.2188\n",
            "Epoch 3/20\n",
            "9/9 [==============================] - ETA: 0s - loss: 1.2106 - accuracy: 0.4627\n",
            "Epoch 3: val_accuracy improved from 0.21875 to 0.48438, saving model to ./ct_densenet121_best_model.hdf5\n",
            "9/9 [==============================] - 18s 2s/step - loss: 1.2106 - accuracy: 0.4627 - val_loss: 1.2030 - val_accuracy: 0.4844\n",
            "Epoch 4/20\n",
            "9/9 [==============================] - ETA: 0s - loss: 1.1741 - accuracy: 0.4845\n",
            "Epoch 4: val_accuracy did not improve from 0.48438\n",
            "9/9 [==============================] - 18s 2s/step - loss: 1.1741 - accuracy: 0.4845 - val_loss: 1.1945 - val_accuracy: 0.3750\n",
            "Epoch 5/20\n",
            "9/9 [==============================] - ETA: 0s - loss: 1.1233 - accuracy: 0.5027\n",
            "Epoch 5: val_accuracy did not improve from 0.48438\n",
            "9/9 [==============================] - 18s 2s/step - loss: 1.1233 - accuracy: 0.5027 - val_loss: 1.1585 - val_accuracy: 0.4531\n",
            "Epoch 6/20\n",
            "9/9 [==============================] - ETA: 0s - loss: 1.1212 - accuracy: 0.4499\n",
            "Epoch 6: val_accuracy did not improve from 0.48438\n",
            "9/9 [==============================] - 18s 2s/step - loss: 1.1212 - accuracy: 0.4499 - val_loss: 1.1327 - val_accuracy: 0.3594\n",
            "Epoch 7/20\n",
            "9/9 [==============================] - ETA: 0s - loss: 1.0857 - accuracy: 0.4608\n",
            "Epoch 7: val_accuracy improved from 0.48438 to 0.51562, saving model to ./ct_densenet121_best_model.hdf5\n",
            "9/9 [==============================] - 18s 2s/step - loss: 1.0857 - accuracy: 0.4608 - val_loss: 1.0445 - val_accuracy: 0.5156\n",
            "Epoch 8/20\n",
            "9/9 [==============================] - ETA: 0s - loss: 1.0567 - accuracy: 0.4882\n",
            "Epoch 8: val_accuracy did not improve from 0.51562\n",
            "9/9 [==============================] - 18s 2s/step - loss: 1.0567 - accuracy: 0.4882 - val_loss: 1.0403 - val_accuracy: 0.4844\n",
            "Epoch 9/20\n",
            "9/9 [==============================] - ETA: 0s - loss: 1.0438 - accuracy: 0.4845\n",
            "Epoch 9: val_accuracy did not improve from 0.51562\n",
            "9/9 [==============================] - 18s 2s/step - loss: 1.0438 - accuracy: 0.4845 - val_loss: 1.0568 - val_accuracy: 0.4688\n",
            "Epoch 10/20\n",
            "9/9 [==============================] - ETA: 0s - loss: 1.0585 - accuracy: 0.4954\n",
            "Epoch 10: val_accuracy did not improve from 0.51562\n",
            "9/9 [==============================] - 18s 2s/step - loss: 1.0585 - accuracy: 0.4954 - val_loss: 1.0252 - val_accuracy: 0.5000\n",
            "Epoch 11/20\n",
            "9/9 [==============================] - ETA: 0s - loss: 1.0525 - accuracy: 0.4900\n",
            "Epoch 11: val_accuracy did not improve from 0.51562\n",
            "9/9 [==============================] - 18s 2s/step - loss: 1.0525 - accuracy: 0.4900 - val_loss: 1.0042 - val_accuracy: 0.4688\n",
            "Epoch 12/20\n",
            "9/9 [==============================] - ETA: 0s - loss: 1.0499 - accuracy: 0.4827\n",
            "Epoch 12: val_accuracy did not improve from 0.51562\n",
            "9/9 [==============================] - 18s 2s/step - loss: 1.0499 - accuracy: 0.4827 - val_loss: 0.9956 - val_accuracy: 0.4844\n",
            "Epoch 13/20\n",
            "9/9 [==============================] - ETA: 0s - loss: 1.0086 - accuracy: 0.5100\n",
            "Epoch 13: val_accuracy improved from 0.51562 to 0.53125, saving model to ./ct_densenet121_best_model.hdf5\n",
            "9/9 [==============================] - 19s 2s/step - loss: 1.0086 - accuracy: 0.5100 - val_loss: 0.9545 - val_accuracy: 0.5312\n",
            "Epoch 14/20\n",
            "9/9 [==============================] - ETA: 0s - loss: 1.0040 - accuracy: 0.5046\n",
            "Epoch 14: val_accuracy did not improve from 0.53125\n",
            "9/9 [==============================] - 18s 2s/step - loss: 1.0040 - accuracy: 0.5046 - val_loss: 0.9972 - val_accuracy: 0.4844\n",
            "Epoch 15/20\n",
            "9/9 [==============================] - ETA: 0s - loss: 0.9976 - accuracy: 0.5209\n",
            "Epoch 15: val_accuracy did not improve from 0.53125\n",
            "9/9 [==============================] - 18s 2s/step - loss: 0.9976 - accuracy: 0.5209 - val_loss: 1.0008 - val_accuracy: 0.4688\n",
            "Epoch 16/20\n",
            "9/9 [==============================] - ETA: 0s - loss: 1.0139 - accuracy: 0.5155\n",
            "Epoch 16: val_accuracy did not improve from 0.53125\n",
            "9/9 [==============================] - 18s 2s/step - loss: 1.0139 - accuracy: 0.5155 - val_loss: 1.0252 - val_accuracy: 0.4844\n",
            "Epoch 17/20\n",
            "9/9 [==============================] - ETA: 0s - loss: 0.9939 - accuracy: 0.5064\n",
            "Epoch 17: val_accuracy did not improve from 0.53125\n",
            "9/9 [==============================] - 17s 2s/step - loss: 0.9939 - accuracy: 0.5064 - val_loss: 0.9818 - val_accuracy: 0.5000\n",
            "Epoch 18/20\n",
            "9/9 [==============================] - ETA: 0s - loss: 0.9620 - accuracy: 0.5519\n",
            "Epoch 18: val_accuracy did not improve from 0.53125\n",
            "9/9 [==============================] - 18s 2s/step - loss: 0.9620 - accuracy: 0.5519 - val_loss: 0.9572 - val_accuracy: 0.5000\n",
            "Epoch 19/20\n",
            "9/9 [==============================] - ETA: 0s - loss: 0.9584 - accuracy: 0.5155\n",
            "Epoch 19: val_accuracy did not improve from 0.53125\n",
            "9/9 [==============================] - 18s 2s/step - loss: 0.9584 - accuracy: 0.5155 - val_loss: 0.9625 - val_accuracy: 0.5000\n",
            "Epoch 20/20\n",
            "9/9 [==============================] - ETA: 0s - loss: 0.9460 - accuracy: 0.5355\n",
            "Epoch 20: val_accuracy did not improve from 0.53125\n",
            "9/9 [==============================] - 18s 2s/step - loss: 0.9460 - accuracy: 0.5355 - val_loss: 0.9908 - val_accuracy: 0.5000\n"
          ]
        }
      ],
      "source": [
        "# Fitting the Model\n",
        "\n",
        "densnet121 = model_densenet121.fit(\n",
        "    train_data, \n",
        "    steps_per_epoch = train_data.samples//train_data.batch_size, \n",
        "    epochs = 20, \n",
        "    validation_data = val_data, \n",
        "    validation_steps = val_data.samples//val_data.batch_size,\n",
        "    callbacks = call_back \n",
        "    )"
      ]
    },
    {
      "cell_type": "code",
      "execution_count": null,
      "metadata": {
        "id": "JhvN56lesGbB"
      },
      "outputs": [],
      "source": [
        "from tensorflow.keras.models import load_model, Model"
      ]
    },
    {
      "cell_type": "markdown",
      "source": [
        "model = load_model(\"./ct_densnet121_model.hdf5\")"
      ],
      "metadata": {
        "id": "M2B67Ug2kGtp"
      }
    },
    {
      "cell_type": "code",
      "source": [
        "model = load_model(\"./ct_densenet121_best_model.hdf5\")"
      ],
      "metadata": {
        "id": "f_jwO3Xp4ruX"
      },
      "execution_count": null,
      "outputs": []
    },
    {
      "cell_type": "code",
      "execution_count": null,
      "metadata": {
        "colab": {
          "base_uri": "https://localhost:8080/"
        },
        "id": "jByByO7bkG5y",
        "outputId": "3aef4f0c-8b5a-46a9-e65b-804f00350b3b"
      },
      "outputs": [
        {
          "output_type": "stream",
          "name": "stdout",
          "text": [
            "The accuracy of the model is = 55.23809790611267 %\n"
          ]
        }
      ],
      "source": [
        "accuracy_densenet121 = model.evaluate_generator(generator= test_data)[1] \n",
        "print(f\"The accuracy of the model is = {accuracy_densenet121*100} %\")"
      ]
    },
    {
      "cell_type": "code",
      "execution_count": null,
      "metadata": {
        "id": "bCXn60RMPLlh",
        "colab": {
          "base_uri": "https://localhost:8080/"
        },
        "outputId": "ec7230f3-559c-4f65-80db-e049ef4c7777"
      },
      "outputs": [
        {
          "output_type": "execute_result",
          "data": {
            "text/plain": [
              "dict_keys(['loss', 'accuracy', 'val_loss', 'val_accuracy'])"
            ]
          },
          "metadata": {},
          "execution_count": 48
        }
      ],
      "source": [
        "densnet121.history.keys()"
      ]
    },
    {
      "cell_type": "code",
      "execution_count": null,
      "metadata": {
        "id": "mhlra4aiPL2t",
        "colab": {
          "base_uri": "https://localhost:8080/",
          "height": 105
        },
        "outputId": "29466397-1e30-4988-806c-bf88942e6095"
      },
      "outputs": [
        {
          "output_type": "execute_result",
          "data": {
            "text/plain": [
              "'acc = densnet121.history[\\'accuracy\\']\\nval_acc = densnet121.history[\\'val_accuracy\\']\\nloss = densnet121.history[\\'loss\\']\\nval_loss = densnet121.history[\\'val_loss\\']\\nepochs_range = range(11, len(densnet121.epoch) + 1)\\n\\nplt.figure(figsize=(15,5))\\n\\nplt.subplot(1, 2, 1)\\nplt.plot(epochs_range, acc, label=\\'Train Set\\')\\nplt.plot(epochs_range, val_acc, label=\\'Val Set\\')\\nplt.legend(loc=\"best\")\\nplt.xlabel(\\'Epochs\\')\\nplt.ylabel(\\'Accuracy\\')\\nplt.title(\\'Model Accuracy\\')\\n\\nplt.subplot(1, 2, 2)\\nplt.plot(epochs_range, loss, label=\\'Train Set\\')\\nplt.plot(epochs_range, val_loss, label=\\'Val Set\\')\\nplt.legend(loc=\"best\")\\nplt.xlabel(\\'Epochs\\')\\nplt.ylabel(\\'Loss\\')\\nplt.title(\\'Model Loss\\')\\n\\nplt.tight_layout()\\nplt.show()'"
            ],
            "application/vnd.google.colaboratory.intrinsic+json": {
              "type": "string"
            }
          },
          "metadata": {},
          "execution_count": 50
        }
      ],
      "source": [
        "'''acc = densnet121.history['accuracy']\n",
        "val_acc = densnet121.history['val_accuracy']\n",
        "loss = densnet121.history['loss']\n",
        "val_loss = densnet121.history['val_loss']\n",
        "epochs_range = range(11, len(densnet121.epoch) + 1)\n",
        "\n",
        "plt.figure(figsize=(15,5))\n",
        "\n",
        "plt.subplot(1, 2, 1)\n",
        "plt.plot(epochs_range, acc, label='Train Set')\n",
        "plt.plot(epochs_range, val_acc, label='Val Set')\n",
        "plt.legend(loc=\"best\")\n",
        "plt.xlabel('Epochs')\n",
        "plt.ylabel('Accuracy')\n",
        "plt.title('Model Accuracy')\n",
        "\n",
        "plt.subplot(1, 2, 2)\n",
        "plt.plot(epochs_range, loss, label='Train Set')\n",
        "plt.plot(epochs_range, val_loss, label='Val Set')\n",
        "plt.legend(loc=\"best\")\n",
        "plt.xlabel('Epochs')\n",
        "plt.ylabel('Loss')\n",
        "plt.title('Model Loss')\n",
        "\n",
        "plt.tight_layout()\n",
        "plt.show()'''"
      ]
    },
    {
      "cell_type": "code",
      "execution_count": null,
      "metadata": {
        "colab": {
          "base_uri": "https://localhost:8080/"
        },
        "id": "7_kpO0JlGCLL",
        "outputId": "5834efb3-690d-4fee-8220-462102b609fd"
      },
      "outputs": [
        {
          "output_type": "stream",
          "name": "stdout",
          "text": [
            "Model: \"sequential_2\"\n",
            "_________________________________________________________________\n",
            " Layer (type)                Output Shape              Param #   \n",
            "=================================================================\n",
            " conv2d_8 (Conv2D)           (None, 348, 348, 32)      896       \n",
            "                                                                 \n",
            " conv2d_9 (Conv2D)           (None, 346, 346, 32)      9248      \n",
            "                                                                 \n",
            " max_pooling2d_3 (MaxPooling  (None, 173, 173, 32)     0         \n",
            " 2D)                                                             \n",
            "                                                                 \n",
            " conv2d_10 (Conv2D)          (None, 171, 171, 64)      18496     \n",
            "                                                                 \n",
            " max_pooling2d_4 (MaxPooling  (None, 85, 85, 64)       0         \n",
            " 2D)                                                             \n",
            "                                                                 \n",
            " conv2d_11 (Conv2D)          (None, 83, 83, 128)       73856     \n",
            "                                                                 \n",
            " max_pooling2d_5 (MaxPooling  (None, 41, 41, 128)      0         \n",
            " 2D)                                                             \n",
            "                                                                 \n",
            " dropout_3 (Dropout)         (None, 41, 41, 128)       0         \n",
            "                                                                 \n",
            " flatten_2 (Flatten)         (None, 215168)            0         \n",
            "                                                                 \n",
            " dense_3 (Dense)             (None, 64)                13770816  \n",
            "                                                                 \n",
            " dropout_4 (Dropout)         (None, 64)                0         \n",
            "                                                                 \n",
            " dense_4 (Dense)             (None, 4)                 260       \n",
            "                                                                 \n",
            "=================================================================\n",
            "Total params: 13,873,572\n",
            "Trainable params: 13,873,572\n",
            "Non-trainable params: 0\n",
            "_________________________________________________________________\n"
          ]
        }
      ],
      "source": [
        "#cnn model\n",
        "model = Sequential() \n",
        "\n",
        "# Convolutional Layer with input shape (350,350,3)\n",
        "model.add(Conv2D(filters=32, kernel_size= (3,3), activation= 'relu', input_shape=(350,350,3)) )\n",
        "\n",
        "model.add(Conv2D(filters=32, kernel_size=(3,3), activation='relu' ))\n",
        "model.add(MaxPool2D(pool_size=(2,2)))\n",
        "\n",
        "model.add(Conv2D(filters=64, kernel_size=(3,3), activation='relu' ))\n",
        "model.add(MaxPool2D(pool_size=(2,2)))\n",
        "\n",
        "model.add(Conv2D(filters=128, kernel_size=(3,3), activation='relu' ))\n",
        "model.add(MaxPool2D(pool_size=(2,2)))\n",
        "\n",
        "model.add(Dropout(rate=0.25))\n",
        "\n",
        "model.add(Flatten())\n",
        "model.add(Dense(units=64, activation='relu'))\n",
        "model.add(Dropout(rate=0.25))\n",
        "model.add(Dense(units=4, activation='sigmoid'))\n",
        "\n",
        "model.compile(optimizer='adam', loss='categorical_crossentropy', metrics=['accuracy']  )\n",
        " \n",
        "model.summary()"
      ]
    },
    {
      "cell_type": "code",
      "execution_count": null,
      "metadata": {
        "id": "bYCBEo7BGZdP"
      },
      "outputs": [],
      "source": [
        "\n",
        "mc = ModelCheckpoint(\n",
        "    filepath=\"./ct_cnn_best_model.hdf5\",\n",
        "    monitor= 'val_accuracy', \n",
        "    verbose= 1,\n",
        "    save_best_only= True, \n",
        "    mode = 'auto'\n",
        "    );\n",
        "\n",
        "call_back = [mc];"
      ]
    },
    {
      "cell_type": "code",
      "execution_count": null,
      "metadata": {
        "colab": {
          "base_uri": "https://localhost:8080/"
        },
        "id": "r_5ylSgjGjmv",
        "outputId": "2b76112e-1fc6-4a20-d4fa-2d3497d4ddb9"
      },
      "outputs": [
        {
          "output_type": "stream",
          "name": "stdout",
          "text": [
            "Epoch 1/20\n",
            "9/9 [==============================] - ETA: 0s - loss: 2.4371 - accuracy: 0.3097\n",
            "Epoch 1: val_accuracy improved from -inf to 0.50000, saving model to ./ct_cnn_best_model.hdf5\n",
            "9/9 [==============================] - 19s 2s/step - loss: 2.4371 - accuracy: 0.3097 - val_loss: 1.4040 - val_accuracy: 0.5000\n",
            "Epoch 2/20\n",
            "9/9 [==============================] - ETA: 0s - loss: 1.2926 - accuracy: 0.3825\n",
            "Epoch 2: val_accuracy did not improve from 0.50000\n",
            "9/9 [==============================] - 18s 2s/step - loss: 1.2926 - accuracy: 0.3825 - val_loss: 1.2782 - val_accuracy: 0.4375\n",
            "Epoch 3/20\n",
            "9/9 [==============================] - ETA: 0s - loss: 1.1267 - accuracy: 0.4670\n",
            "Epoch 3: val_accuracy improved from 0.50000 to 0.51562, saving model to ./ct_cnn_best_model.hdf5\n",
            "9/9 [==============================] - 20s 2s/step - loss: 1.1267 - accuracy: 0.4670 - val_loss: 0.9677 - val_accuracy: 0.5156\n",
            "Epoch 4/20\n",
            "9/9 [==============================] - ETA: 0s - loss: 1.0685 - accuracy: 0.4991\n",
            "Epoch 4: val_accuracy did not improve from 0.51562\n",
            "9/9 [==============================] - 18s 2s/step - loss: 1.0685 - accuracy: 0.4991 - val_loss: 1.0455 - val_accuracy: 0.4844\n",
            "Epoch 5/20\n",
            "9/9 [==============================] - ETA: 0s - loss: 1.0367 - accuracy: 0.5100\n",
            "Epoch 5: val_accuracy did not improve from 0.51562\n",
            "9/9 [==============================] - 18s 2s/step - loss: 1.0367 - accuracy: 0.5100 - val_loss: 1.0084 - val_accuracy: 0.4844\n",
            "Epoch 6/20\n",
            "9/9 [==============================] - ETA: 0s - loss: 1.0402 - accuracy: 0.5191\n",
            "Epoch 6: val_accuracy did not improve from 0.51562\n",
            "9/9 [==============================] - 18s 2s/step - loss: 1.0402 - accuracy: 0.5191 - val_loss: 1.0296 - val_accuracy: 0.4531\n",
            "Epoch 7/20\n",
            "9/9 [==============================] - ETA: 0s - loss: 0.9702 - accuracy: 0.5392\n",
            "Epoch 7: val_accuracy did not improve from 0.51562\n",
            "9/9 [==============================] - 18s 2s/step - loss: 0.9702 - accuracy: 0.5392 - val_loss: 1.0900 - val_accuracy: 0.4844\n",
            "Epoch 8/20\n",
            "9/9 [==============================] - ETA: 0s - loss: 0.9449 - accuracy: 0.5519\n",
            "Epoch 8: val_accuracy did not improve from 0.51562\n",
            "9/9 [==============================] - 18s 2s/step - loss: 0.9449 - accuracy: 0.5519 - val_loss: 0.9538 - val_accuracy: 0.5156\n",
            "Epoch 9/20\n",
            "9/9 [==============================] - ETA: 0s - loss: 0.9469 - accuracy: 0.5483\n",
            "Epoch 9: val_accuracy improved from 0.51562 to 0.56250, saving model to ./ct_cnn_best_model.hdf5\n",
            "9/9 [==============================] - 18s 2s/step - loss: 0.9469 - accuracy: 0.5483 - val_loss: 0.9337 - val_accuracy: 0.5625\n",
            "Epoch 10/20\n",
            "9/9 [==============================] - ETA: 0s - loss: 0.9184 - accuracy: 0.5610\n",
            "Epoch 10: val_accuracy did not improve from 0.56250\n",
            "9/9 [==============================] - 18s 2s/step - loss: 0.9184 - accuracy: 0.5610 - val_loss: 1.0803 - val_accuracy: 0.4844\n",
            "Epoch 11/20\n",
            "9/9 [==============================] - ETA: 0s - loss: 0.9321 - accuracy: 0.5301\n",
            "Epoch 11: val_accuracy improved from 0.56250 to 0.65625, saving model to ./ct_cnn_best_model.hdf5\n",
            "9/9 [==============================] - 18s 2s/step - loss: 0.9321 - accuracy: 0.5301 - val_loss: 0.9061 - val_accuracy: 0.6562\n",
            "Epoch 12/20\n",
            "9/9 [==============================] - ETA: 0s - loss: 0.8476 - accuracy: 0.5938\n",
            "Epoch 12: val_accuracy did not improve from 0.65625\n",
            "9/9 [==============================] - 17s 2s/step - loss: 0.8476 - accuracy: 0.5938 - val_loss: 1.1251 - val_accuracy: 0.4375\n",
            "Epoch 13/20\n",
            "9/9 [==============================] - ETA: 0s - loss: 0.8844 - accuracy: 0.5538\n",
            "Epoch 13: val_accuracy did not improve from 0.65625\n",
            "9/9 [==============================] - 18s 2s/step - loss: 0.8844 - accuracy: 0.5538 - val_loss: 0.8425 - val_accuracy: 0.6094\n",
            "Epoch 14/20\n",
            "9/9 [==============================] - ETA: 0s - loss: 0.8581 - accuracy: 0.5756\n",
            "Epoch 14: val_accuracy did not improve from 0.65625\n",
            "9/9 [==============================] - 17s 2s/step - loss: 0.8581 - accuracy: 0.5756 - val_loss: 0.9366 - val_accuracy: 0.4688\n",
            "Epoch 15/20\n",
            "9/9 [==============================] - ETA: 0s - loss: 0.8485 - accuracy: 0.5847\n",
            "Epoch 15: val_accuracy improved from 0.65625 to 0.68750, saving model to ./ct_cnn_best_model.hdf5\n",
            "9/9 [==============================] - 18s 2s/step - loss: 0.8485 - accuracy: 0.5847 - val_loss: 0.8115 - val_accuracy: 0.6875\n",
            "Epoch 16/20\n",
            "9/9 [==============================] - ETA: 0s - loss: 0.8385 - accuracy: 0.5902\n",
            "Epoch 16: val_accuracy did not improve from 0.68750\n",
            "9/9 [==============================] - 18s 2s/step - loss: 0.8385 - accuracy: 0.5902 - val_loss: 0.7932 - val_accuracy: 0.6406\n",
            "Epoch 17/20\n",
            "9/9 [==============================] - ETA: 0s - loss: 0.8327 - accuracy: 0.6181\n",
            "Epoch 17: val_accuracy did not improve from 0.68750\n",
            "9/9 [==============================] - 19s 2s/step - loss: 0.8327 - accuracy: 0.6181 - val_loss: 1.0740 - val_accuracy: 0.5000\n",
            "Epoch 18/20\n",
            "9/9 [==============================] - ETA: 0s - loss: 0.8375 - accuracy: 0.6120\n",
            "Epoch 18: val_accuracy did not improve from 0.68750\n",
            "9/9 [==============================] - 17s 2s/step - loss: 0.8375 - accuracy: 0.6120 - val_loss: 0.7793 - val_accuracy: 0.6406\n",
            "Epoch 19/20\n",
            "9/9 [==============================] - ETA: 0s - loss: 0.8771 - accuracy: 0.5738\n",
            "Epoch 19: val_accuracy did not improve from 0.68750\n",
            "9/9 [==============================] - 18s 2s/step - loss: 0.8771 - accuracy: 0.5738 - val_loss: 0.8699 - val_accuracy: 0.5156\n",
            "Epoch 20/20\n",
            "9/9 [==============================] - ETA: 0s - loss: 0.8090 - accuracy: 0.6138\n",
            "Epoch 20: val_accuracy did not improve from 0.68750\n",
            "9/9 [==============================] - 17s 2s/step - loss: 0.8090 - accuracy: 0.6138 - val_loss: 0.8593 - val_accuracy: 0.5312\n"
          ]
        }
      ],
      "source": [
        "cnn = model.fit(\n",
        "    train_data, \n",
        "    steps_per_epoch = train_data.samples//train_data.batch_size, \n",
        "    epochs = 20, \n",
        "    validation_data = val_data, \n",
        "    validation_steps = val_data.samples//val_data.batch_size,\n",
        "    callbacks = call_back\n",
        "    )"
      ]
    },
    {
      "cell_type": "code",
      "execution_count": null,
      "metadata": {
        "id": "Bqo2ZROPOnpN"
      },
      "outputs": [],
      "source": [
        "model = load_model(\"./ct_cnn_best_model.hdf5\")\n"
      ]
    },
    {
      "cell_type": "code",
      "execution_count": null,
      "metadata": {
        "colab": {
          "base_uri": "https://localhost:8080/"
        },
        "id": "LC8aLSq4HUGX",
        "outputId": "b8d2ee98-ab2a-4a65-b9b1-7622ba1ea55c"
      },
      "outputs": [
        {
          "output_type": "stream",
          "name": "stdout",
          "text": [
            "The accuracy of the model is = 57.777780294418335 %\n"
          ]
        }
      ],
      "source": [
        "accuracy_cnn = model.evaluate_generator(generator= test_data)[1] \n",
        "print(f\"The accuracy of the model is = {accuracy_cnn*100} %\")"
      ]
    },
    {
      "cell_type": "code",
      "execution_count": null,
      "metadata": {
        "colab": {
          "base_uri": "https://localhost:8080/"
        },
        "id": "dQAn7BGZQJ2R",
        "outputId": "2c49b742-1ef9-4301-db95-33d876aea799"
      },
      "outputs": [
        {
          "output_type": "execute_result",
          "data": {
            "text/plain": [
              "dict_keys(['loss', 'accuracy', 'val_loss', 'val_accuracy'])"
            ]
          },
          "metadata": {},
          "execution_count": 56
        }
      ],
      "source": [
        "cnn.history.keys()"
      ]
    },
    {
      "cell_type": "code",
      "execution_count": null,
      "metadata": {
        "colab": {
          "base_uri": "https://localhost:8080/",
          "height": 369
        },
        "id": "cYukmNcIUxot",
        "outputId": "7c99cb3b-50e0-4d0b-8022-c6b78b8afc59"
      },
      "outputs": [
        {
          "output_type": "display_data",
          "data": {
            "text/plain": [
              "<Figure size 1080x360 with 2 Axes>"
            ],
            "image/png": "[encoded data removed]"
          },
          "metadata": {
            "needs_background": "light"
          }
        }
      ],
      "source": [
        "acc = cnn.history['accuracy']\n",
        "val_acc = cnn.history['val_accuracy']\n",
        "loss = cnn.history['loss']\n",
        "val_loss = cnn.history['val_loss']\n",
        "epochs_range = range(1, len(cnn.epoch) + 1)\n",
        "\n",
        "plt.figure(figsize=(15,5))\n",
        "\n",
        "plt.subplot(1, 2, 1)\n",
        "plt.plot(epochs_range, acc, label='Train Set')\n",
        "plt.plot(epochs_range, val_acc, label='Val Set')\n",
        "plt.legend(loc=\"best\")\n",
        "plt.xlabel('Epochs')\n",
        "plt.ylabel('Accuracy')\n",
        "plt.title('Model Accuracy')\n",
        "\n",
        "plt.subplot(1, 2, 2)\n",
        "plt.plot(epochs_range, loss, label='Train Set')\n",
        "plt.plot(epochs_range, val_loss, label='Val Set')\n",
        "plt.legend(loc=\"best\")\n",
        "plt.xlabel('Epochs')\n",
        "plt.ylabel('Loss')\n",
        "plt.title('Model Loss')\n",
        "\n",
        "plt.tight_layout()\n",
        "plt.show()"
      ]
    },
    {
      "cell_type": "code",
      "execution_count": null,
      "metadata": {
        "id": "h1saRcMHVKYy"
      },
      "outputs": [],
      "source": [
        "#VGG 16 MODEL\n"
      ]
    },
    {
      "cell_type": "code",
      "execution_count": null,
      "metadata": {
        "id": "WOgG8UYnVXbp",
        "colab": {
          "base_uri": "https://localhost:8080/"
        },
        "outputId": "30b86769-6e75-4462-9d04-c76a57281fb8"
      },
      "outputs": [
        {
          "output_type": "stream",
          "name": "stdout",
          "text": [
            "Downloading data from https://storage.googleapis.com/tensorflow/keras-applications/vgg16/vgg16_weights_tf_dim_ordering_tf_kernels_notop.h5\n",
            "58892288/58889256 [==============================] - 1s 0us/step\n",
            "58900480/58889256 [==============================] - 1s 0us/step\n"
          ]
        }
      ],
      "source": [
        "base_model = VGG16(\n",
        "    weights='imagenet',\n",
        "    include_top=False, \n",
        "    input_shape=(350,350,3)\n",
        ")"
      ]
    },
    {
      "cell_type": "code",
      "execution_count": null,
      "metadata": {
        "colab": {
          "base_uri": "https://localhost:8080/"
        },
        "id": "cB_wi4-HV6a-",
        "outputId": "c7c634ca-c4db-488e-aaa4-9004d6400c5e"
      },
      "outputs": [
        {
          "output_type": "stream",
          "name": "stdout",
          "text": [
            "Model: \"sequential_3\"\n",
            "_________________________________________________________________\n",
            " Layer (type)                Output Shape              Param #   \n",
            "=================================================================\n",
            " vgg16 (Functional)          (None, 10, 10, 512)       14714688  \n",
            "                                                                 \n",
            " flatten_3 (Flatten)         (None, 51200)             0         \n",
            "                                                                 \n",
            " dropout_5 (Dropout)         (None, 51200)             0         \n",
            "                                                                 \n",
            " dense_5 (Dense)             (None, 4)                 204804    \n",
            "                                                                 \n",
            "=================================================================\n",
            "Total params: 14,919,492\n",
            "Trainable params: 204,804\n",
            "Non-trainable params: 14,714,688\n",
            "_________________________________________________________________\n"
          ]
        }
      ],
      "source": [
        "NUM_CLASSES = 4\n",
        "\n",
        "vgg_model = Sequential()\n",
        "vgg_model.add(base_model)\n",
        "vgg_model.add(layers.Flatten())\n",
        "vgg_model.add(layers.Dropout(0.25))\n",
        "vgg_model.add(layers.Dense(NUM_CLASSES, activation='sigmoid'))\n",
        "\n",
        "vgg_model.layers[0].trainable = False\n",
        "\n",
        "vgg_model.compile(\n",
        "    loss='categorical_crossentropy',\n",
        "    optimizer='adam',\n",
        "    metrics=['accuracy']\n",
        ")\n",
        "\n",
        "vgg_model.summary()"
      ]
    },
    {
      "cell_type": "code",
      "execution_count": null,
      "metadata": {
        "id": "r9oeegXlVsph"
      },
      "outputs": [],
      "source": [
        "mc = ModelCheckpoint(\n",
        "    filepath=\"./ct_vgg_best_model.hdf5\",\n",
        "    monitor= 'val_accuracy', \n",
        "    verbose= 1,\n",
        "    save_best_only= True, \n",
        "    mode = 'auto'\n",
        "    );\n",
        "\n",
        "call_back = [ mc];"
      ]
    },
    {
      "cell_type": "code",
      "execution_count": null,
      "metadata": {
        "colab": {
          "base_uri": "https://localhost:8080/"
        },
        "id": "GIagDtpbWHup",
        "outputId": "92186ddf-54ba-4c61-cf0b-5171e5816824"
      },
      "outputs": [
        {
          "output_type": "stream",
          "name": "stdout",
          "text": [
            "Epoch 1/100\n",
            "9/9 [==============================] - ETA: 0s - loss: 3.7326 - accuracy: 0.3206\n",
            "Epoch 1: val_accuracy improved from -inf to 0.45312, saving model to ./ct_vgg_best_model.hdf5\n",
            "9/9 [==============================] - 34s 3s/step - loss: 3.7326 - accuracy: 0.3206 - val_loss: 1.4123 - val_accuracy: 0.4531\n",
            "Epoch 2/100\n",
            "9/9 [==============================] - ETA: 0s - loss: 1.7167 - accuracy: 0.4991\n",
            "Epoch 2: val_accuracy did not improve from 0.45312\n",
            "9/9 [==============================] - 19s 2s/step - loss: 1.7167 - accuracy: 0.4991 - val_loss: 1.5916 - val_accuracy: 0.4062\n",
            "Epoch 3/100\n",
            "9/9 [==============================] - ETA: 0s - loss: 1.1806 - accuracy: 0.5428\n",
            "Epoch 3: val_accuracy improved from 0.45312 to 0.62500, saving model to ./ct_vgg_best_model.hdf5\n",
            "9/9 [==============================] - 19s 2s/step - loss: 1.1806 - accuracy: 0.5428 - val_loss: 0.8292 - val_accuracy: 0.6250\n",
            "Epoch 4/100\n",
            "9/9 [==============================] - ETA: 0s - loss: 0.9410 - accuracy: 0.6337\n",
            "Epoch 4: val_accuracy improved from 0.62500 to 0.64062, saving model to ./ct_vgg_best_model.hdf5\n",
            "9/9 [==============================] - 20s 2s/step - loss: 0.9410 - accuracy: 0.6337 - val_loss: 0.8913 - val_accuracy: 0.6406\n",
            "Epoch 5/100\n",
            "9/9 [==============================] - ETA: 0s - loss: 0.8185 - accuracy: 0.6557\n",
            "Epoch 5: val_accuracy did not improve from 0.64062\n",
            "9/9 [==============================] - 19s 2s/step - loss: 0.8185 - accuracy: 0.6557 - val_loss: 0.9659 - val_accuracy: 0.5469\n",
            "Epoch 6/100\n",
            "9/9 [==============================] - ETA: 0s - loss: 0.8107 - accuracy: 0.6375\n",
            "Epoch 6: val_accuracy did not improve from 0.64062\n",
            "9/9 [==============================] - 19s 2s/step - loss: 0.8107 - accuracy: 0.6375 - val_loss: 0.8539 - val_accuracy: 0.6406\n",
            "Epoch 7/100\n",
            "9/9 [==============================] - ETA: 0s - loss: 0.7618 - accuracy: 0.6539\n",
            "Epoch 7: val_accuracy improved from 0.64062 to 0.65625, saving model to ./ct_vgg_best_model.hdf5\n",
            "9/9 [==============================] - 19s 2s/step - loss: 0.7618 - accuracy: 0.6539 - val_loss: 0.8116 - val_accuracy: 0.6562\n",
            "Epoch 8/100\n",
            "9/9 [==============================] - ETA: 0s - loss: 0.6027 - accuracy: 0.7559\n",
            "Epoch 8: val_accuracy did not improve from 0.65625\n",
            "9/9 [==============================] - 19s 2s/step - loss: 0.6027 - accuracy: 0.7559 - val_loss: 0.8018 - val_accuracy: 0.6562\n",
            "Epoch 9/100\n",
            "9/9 [==============================] - ETA: 0s - loss: 0.6111 - accuracy: 0.7687\n",
            "Epoch 9: val_accuracy improved from 0.65625 to 0.68750, saving model to ./ct_vgg_best_model.hdf5\n",
            "9/9 [==============================] - 20s 2s/step - loss: 0.6111 - accuracy: 0.7687 - val_loss: 0.7688 - val_accuracy: 0.6875\n",
            "Epoch 10/100\n",
            "9/9 [==============================] - ETA: 0s - loss: 0.5660 - accuracy: 0.7832\n",
            "Epoch 10: val_accuracy did not improve from 0.68750\n",
            "9/9 [==============================] - 19s 2s/step - loss: 0.5660 - accuracy: 0.7832 - val_loss: 0.8789 - val_accuracy: 0.6250\n",
            "Epoch 11/100\n",
            "9/9 [==============================] - ETA: 0s - loss: 0.5064 - accuracy: 0.7923\n",
            "Epoch 11: val_accuracy improved from 0.68750 to 0.70312, saving model to ./ct_vgg_best_model.hdf5\n",
            "9/9 [==============================] - 20s 2s/step - loss: 0.5064 - accuracy: 0.7923 - val_loss: 0.7211 - val_accuracy: 0.7031\n",
            "Epoch 12/100\n",
            "9/9 [==============================] - ETA: 0s - loss: 0.5014 - accuracy: 0.8270\n",
            "Epoch 12: val_accuracy did not improve from 0.70312\n",
            "9/9 [==============================] - 19s 2s/step - loss: 0.5014 - accuracy: 0.8270 - val_loss: 0.9522 - val_accuracy: 0.5469\n",
            "Epoch 13/100\n",
            "9/9 [==============================] - ETA: 0s - loss: 0.5032 - accuracy: 0.8106\n",
            "Epoch 13: val_accuracy improved from 0.70312 to 0.75000, saving model to ./ct_vgg_best_model.hdf5\n",
            "9/9 [==============================] - 19s 2s/step - loss: 0.5032 - accuracy: 0.8106 - val_loss: 0.7440 - val_accuracy: 0.7500\n",
            "Epoch 14/100\n",
            "9/9 [==============================] - ETA: 0s - loss: 0.4795 - accuracy: 0.7942\n",
            "Epoch 14: val_accuracy did not improve from 0.75000\n",
            "9/9 [==============================] - 19s 2s/step - loss: 0.4795 - accuracy: 0.7942 - val_loss: 0.9440 - val_accuracy: 0.5469\n",
            "Epoch 15/100\n",
            "9/9 [==============================] - ETA: 0s - loss: 0.5351 - accuracy: 0.7656\n",
            "Epoch 15: val_accuracy did not improve from 0.75000\n",
            "9/9 [==============================] - 20s 2s/step - loss: 0.5351 - accuracy: 0.7656 - val_loss: 1.0336 - val_accuracy: 0.5938\n",
            "Epoch 16/100\n",
            "9/9 [==============================] - ETA: 0s - loss: 0.5621 - accuracy: 0.7577\n",
            "Epoch 16: val_accuracy did not improve from 0.75000\n",
            "9/9 [==============================] - 19s 2s/step - loss: 0.5621 - accuracy: 0.7577 - val_loss: 0.6086 - val_accuracy: 0.7500\n",
            "Epoch 17/100\n",
            "9/9 [==============================] - ETA: 0s - loss: 0.4869 - accuracy: 0.8033\n",
            "Epoch 17: val_accuracy improved from 0.75000 to 0.82812, saving model to ./ct_vgg_best_model.hdf5\n",
            "9/9 [==============================] - 19s 2s/step - loss: 0.4869 - accuracy: 0.8033 - val_loss: 0.6671 - val_accuracy: 0.8281\n",
            "Epoch 18/100\n",
            "9/9 [==============================] - ETA: 0s - loss: 0.4855 - accuracy: 0.8090\n",
            "Epoch 18: val_accuracy did not improve from 0.82812\n",
            "9/9 [==============================] - 20s 2s/step - loss: 0.4855 - accuracy: 0.8090 - val_loss: 0.6603 - val_accuracy: 0.7500\n",
            "Epoch 19/100\n",
            "9/9 [==============================] - ETA: 0s - loss: 0.4115 - accuracy: 0.8342\n",
            "Epoch 19: val_accuracy did not improve from 0.82812\n",
            "9/9 [==============================] - 19s 2s/step - loss: 0.4115 - accuracy: 0.8342 - val_loss: 0.8007 - val_accuracy: 0.6719\n",
            "Epoch 20/100\n",
            "9/9 [==============================] - ETA: 0s - loss: 0.4175 - accuracy: 0.8324\n",
            "Epoch 20: val_accuracy did not improve from 0.82812\n",
            "9/9 [==============================] - 19s 2s/step - loss: 0.4175 - accuracy: 0.8324 - val_loss: 0.6532 - val_accuracy: 0.7812\n",
            "Epoch 21/100\n",
            "9/9 [==============================] - ETA: 0s - loss: 0.4578 - accuracy: 0.8142\n",
            "Epoch 21: val_accuracy did not improve from 0.82812\n",
            "9/9 [==============================] - 20s 2s/step - loss: 0.4578 - accuracy: 0.8142 - val_loss: 0.9098 - val_accuracy: 0.6406\n",
            "Epoch 22/100\n",
            "9/9 [==============================] - ETA: 0s - loss: 0.4259 - accuracy: 0.8270\n",
            "Epoch 22: val_accuracy did not improve from 0.82812\n",
            "9/9 [==============================] - 20s 2s/step - loss: 0.4259 - accuracy: 0.8270 - val_loss: 0.7131 - val_accuracy: 0.7344\n",
            "Epoch 23/100\n",
            "9/9 [==============================] - ETA: 0s - loss: 0.3810 - accuracy: 0.8488\n",
            "Epoch 23: val_accuracy did not improve from 0.82812\n",
            "9/9 [==============================] - 19s 2s/step - loss: 0.3810 - accuracy: 0.8488 - val_loss: 0.5893 - val_accuracy: 0.8125\n",
            "Epoch 24/100\n",
            "9/9 [==============================] - ETA: 0s - loss: 0.4236 - accuracy: 0.8251\n",
            "Epoch 24: val_accuracy did not improve from 0.82812\n",
            "9/9 [==============================] - 19s 2s/step - loss: 0.4236 - accuracy: 0.8251 - val_loss: 0.7418 - val_accuracy: 0.7344\n",
            "Epoch 25/100\n",
            "9/9 [==============================] - ETA: 0s - loss: 0.3758 - accuracy: 0.8506\n",
            "Epoch 25: val_accuracy did not improve from 0.82812\n",
            "9/9 [==============================] - 19s 2s/step - loss: 0.3758 - accuracy: 0.8506 - val_loss: 0.8070 - val_accuracy: 0.7188\n",
            "Epoch 26/100\n",
            "9/9 [==============================] - ETA: 0s - loss: 0.3716 - accuracy: 0.8455\n",
            "Epoch 26: val_accuracy did not improve from 0.82812\n",
            "9/9 [==============================] - 20s 2s/step - loss: 0.3716 - accuracy: 0.8455 - val_loss: 0.7075 - val_accuracy: 0.7812\n",
            "Epoch 27/100\n",
            "9/9 [==============================] - ETA: 0s - loss: 0.3662 - accuracy: 0.8634\n",
            "Epoch 27: val_accuracy did not improve from 0.82812\n",
            "9/9 [==============================] - 19s 2s/step - loss: 0.3662 - accuracy: 0.8634 - val_loss: 1.0366 - val_accuracy: 0.6719\n",
            "Epoch 28/100\n",
            "9/9 [==============================] - ETA: 0s - loss: 0.3449 - accuracy: 0.8689\n",
            "Epoch 28: val_accuracy did not improve from 0.82812\n",
            "9/9 [==============================] - 19s 2s/step - loss: 0.3449 - accuracy: 0.8689 - val_loss: 0.6874 - val_accuracy: 0.8125\n",
            "Epoch 29/100\n",
            "9/9 [==============================] - ETA: 0s - loss: 0.3320 - accuracy: 0.8816\n",
            "Epoch 29: val_accuracy did not improve from 0.82812\n",
            "9/9 [==============================] - 19s 2s/step - loss: 0.3320 - accuracy: 0.8816 - val_loss: 0.5726 - val_accuracy: 0.7969\n",
            "Epoch 30/100\n",
            "9/9 [==============================] - ETA: 0s - loss: 0.3993 - accuracy: 0.8488\n",
            "Epoch 30: val_accuracy did not improve from 0.82812\n",
            "9/9 [==============================] - 19s 2s/step - loss: 0.3993 - accuracy: 0.8488 - val_loss: 0.4734 - val_accuracy: 0.8281\n",
            "Epoch 31/100\n",
            "9/9 [==============================] - ETA: 0s - loss: 0.3580 - accuracy: 0.8579\n",
            "Epoch 31: val_accuracy did not improve from 0.82812\n",
            "9/9 [==============================] - 19s 2s/step - loss: 0.3580 - accuracy: 0.8579 - val_loss: 0.4976 - val_accuracy: 0.8281\n",
            "Epoch 32/100\n",
            "9/9 [==============================] - ETA: 0s - loss: 0.3153 - accuracy: 0.8871\n",
            "Epoch 32: val_accuracy did not improve from 0.82812\n",
            "9/9 [==============================] - 19s 2s/step - loss: 0.3153 - accuracy: 0.8871 - val_loss: 0.6163 - val_accuracy: 0.8125\n",
            "Epoch 33/100\n",
            "9/9 [==============================] - ETA: 0s - loss: 0.3618 - accuracy: 0.8689\n",
            "Epoch 33: val_accuracy did not improve from 0.82812\n",
            "9/9 [==============================] - 19s 2s/step - loss: 0.3618 - accuracy: 0.8689 - val_loss: 0.8076 - val_accuracy: 0.7188\n",
            "Epoch 34/100\n",
            "9/9 [==============================] - ETA: 0s - loss: 0.3689 - accuracy: 0.8488\n",
            "Epoch 34: val_accuracy did not improve from 0.82812\n",
            "9/9 [==============================] - 19s 2s/step - loss: 0.3689 - accuracy: 0.8488 - val_loss: 0.8984 - val_accuracy: 0.6406\n",
            "Epoch 35/100\n",
            "9/9 [==============================] - ETA: 0s - loss: 0.3325 - accuracy: 0.8780\n",
            "Epoch 35: val_accuracy did not improve from 0.82812\n",
            "9/9 [==============================] - 19s 2s/step - loss: 0.3325 - accuracy: 0.8780 - val_loss: 0.9797 - val_accuracy: 0.7188\n",
            "Epoch 36/100\n",
            "9/9 [==============================] - ETA: 0s - loss: 0.3420 - accuracy: 0.8646\n",
            "Epoch 36: val_accuracy did not improve from 0.82812\n",
            "9/9 [==============================] - 20s 2s/step - loss: 0.3420 - accuracy: 0.8646 - val_loss: 0.5487 - val_accuracy: 0.8125\n",
            "Epoch 37/100\n",
            "9/9 [==============================] - ETA: 0s - loss: 0.2766 - accuracy: 0.8944\n",
            "Epoch 37: val_accuracy improved from 0.82812 to 0.84375, saving model to ./ct_vgg_best_model.hdf5\n",
            "9/9 [==============================] - 19s 2s/step - loss: 0.2766 - accuracy: 0.8944 - val_loss: 0.5301 - val_accuracy: 0.8438\n",
            "Epoch 38/100\n",
            "9/9 [==============================] - ETA: 0s - loss: 0.3073 - accuracy: 0.8798\n",
            "Epoch 38: val_accuracy did not improve from 0.84375\n",
            "9/9 [==============================] - 19s 2s/step - loss: 0.3073 - accuracy: 0.8798 - val_loss: 0.6609 - val_accuracy: 0.7812\n",
            "Epoch 39/100\n",
            "9/9 [==============================] - ETA: 0s - loss: 0.3049 - accuracy: 0.8689\n",
            "Epoch 39: val_accuracy did not improve from 0.84375\n",
            "9/9 [==============================] - 19s 2s/step - loss: 0.3049 - accuracy: 0.8689 - val_loss: 0.5760 - val_accuracy: 0.7969\n",
            "Epoch 40/100\n",
            "9/9 [==============================] - ETA: 0s - loss: 0.2463 - accuracy: 0.9167\n",
            "Epoch 40: val_accuracy improved from 0.84375 to 0.87500, saving model to ./ct_vgg_best_model.hdf5\n",
            "9/9 [==============================] - 20s 2s/step - loss: 0.2463 - accuracy: 0.9167 - val_loss: 0.3983 - val_accuracy: 0.8750\n",
            "Epoch 41/100\n",
            "9/9 [==============================] - ETA: 0s - loss: 0.2488 - accuracy: 0.9053\n",
            "Epoch 41: val_accuracy did not improve from 0.87500\n",
            "9/9 [==============================] - 19s 2s/step - loss: 0.2488 - accuracy: 0.9053 - val_loss: 0.5868 - val_accuracy: 0.7969\n",
            "Epoch 42/100\n",
            "9/9 [==============================] - ETA: 0s - loss: 0.2634 - accuracy: 0.8993\n",
            "Epoch 42: val_accuracy did not improve from 0.87500\n",
            "9/9 [==============================] - 20s 2s/step - loss: 0.2634 - accuracy: 0.8993 - val_loss: 0.5445 - val_accuracy: 0.8281\n",
            "Epoch 43/100\n",
            "9/9 [==============================] - ETA: 0s - loss: 0.2932 - accuracy: 0.8872\n",
            "Epoch 43: val_accuracy did not improve from 0.87500\n",
            "9/9 [==============================] - 20s 2s/step - loss: 0.2932 - accuracy: 0.8872 - val_loss: 0.6299 - val_accuracy: 0.8281\n",
            "Epoch 44/100\n",
            "9/9 [==============================] - ETA: 0s - loss: 0.3430 - accuracy: 0.8652\n",
            "Epoch 44: val_accuracy did not improve from 0.87500\n",
            "9/9 [==============================] - 19s 2s/step - loss: 0.3430 - accuracy: 0.8652 - val_loss: 0.7659 - val_accuracy: 0.7812\n",
            "Epoch 45/100\n",
            "9/9 [==============================] - ETA: 0s - loss: 0.3270 - accuracy: 0.8780\n",
            "Epoch 45: val_accuracy did not improve from 0.87500\n",
            "9/9 [==============================] - 19s 2s/step - loss: 0.3270 - accuracy: 0.8780 - val_loss: 0.6605 - val_accuracy: 0.7969\n",
            "Epoch 46/100\n",
            "9/9 [==============================] - ETA: 0s - loss: 0.3392 - accuracy: 0.8725\n",
            "Epoch 46: val_accuracy did not improve from 0.87500\n",
            "9/9 [==============================] - 19s 2s/step - loss: 0.3392 - accuracy: 0.8725 - val_loss: 0.5236 - val_accuracy: 0.8281\n",
            "Epoch 47/100\n",
            "9/9 [==============================] - ETA: 0s - loss: 0.2644 - accuracy: 0.9010\n",
            "Epoch 47: val_accuracy did not improve from 0.87500\n",
            "9/9 [==============================] - 20s 2s/step - loss: 0.2644 - accuracy: 0.9010 - val_loss: 0.6591 - val_accuracy: 0.8438\n",
            "Epoch 48/100\n",
            "9/9 [==============================] - ETA: 0s - loss: 0.2231 - accuracy: 0.9235\n",
            "Epoch 48: val_accuracy did not improve from 0.87500\n",
            "9/9 [==============================] - 19s 2s/step - loss: 0.2231 - accuracy: 0.9235 - val_loss: 0.6429 - val_accuracy: 0.8281\n",
            "Epoch 49/100\n",
            "9/9 [==============================] - ETA: 0s - loss: 0.2424 - accuracy: 0.9180\n",
            "Epoch 49: val_accuracy did not improve from 0.87500\n",
            "9/9 [==============================] - 19s 2s/step - loss: 0.2424 - accuracy: 0.9180 - val_loss: 0.6216 - val_accuracy: 0.8594\n",
            "Epoch 50/100\n",
            "9/9 [==============================] - ETA: 0s - loss: 0.2161 - accuracy: 0.9126\n",
            "Epoch 50: val_accuracy did not improve from 0.87500\n",
            "9/9 [==============================] - 19s 2s/step - loss: 0.2161 - accuracy: 0.9126 - val_loss: 0.5959 - val_accuracy: 0.8125\n",
            "Epoch 51/100\n",
            "9/9 [==============================] - ETA: 0s - loss: 0.1939 - accuracy: 0.9381\n",
            "Epoch 51: val_accuracy did not improve from 0.87500\n",
            "9/9 [==============================] - 19s 2s/step - loss: 0.1939 - accuracy: 0.9381 - val_loss: 0.6336 - val_accuracy: 0.7812\n",
            "Epoch 52/100\n",
            "9/9 [==============================] - ETA: 0s - loss: 0.2182 - accuracy: 0.9199\n",
            "Epoch 52: val_accuracy did not improve from 0.87500\n",
            "9/9 [==============================] - 19s 2s/step - loss: 0.2182 - accuracy: 0.9199 - val_loss: 0.5810 - val_accuracy: 0.8750\n",
            "Epoch 53/100\n",
            "9/9 [==============================] - ETA: 0s - loss: 0.2240 - accuracy: 0.9162\n",
            "Epoch 53: val_accuracy did not improve from 0.87500\n",
            "9/9 [==============================] - 19s 2s/step - loss: 0.2240 - accuracy: 0.9162 - val_loss: 0.6406 - val_accuracy: 0.8750\n",
            "Epoch 54/100\n",
            "9/9 [==============================] - ETA: 0s - loss: 0.2028 - accuracy: 0.9290\n",
            "Epoch 54: val_accuracy did not improve from 0.87500\n",
            "9/9 [==============================] - 19s 2s/step - loss: 0.2028 - accuracy: 0.9290 - val_loss: 0.8612 - val_accuracy: 0.7500\n",
            "Epoch 55/100\n",
            "9/9 [==============================] - ETA: 0s - loss: 0.2226 - accuracy: 0.9162\n",
            "Epoch 55: val_accuracy did not improve from 0.87500\n",
            "9/9 [==============================] - 19s 2s/step - loss: 0.2226 - accuracy: 0.9162 - val_loss: 0.7511 - val_accuracy: 0.8125\n",
            "Epoch 56/100\n",
            "9/9 [==============================] - ETA: 0s - loss: 0.2305 - accuracy: 0.9107\n",
            "Epoch 56: val_accuracy did not improve from 0.87500\n",
            "9/9 [==============================] - 19s 2s/step - loss: 0.2305 - accuracy: 0.9107 - val_loss: 0.7259 - val_accuracy: 0.8438\n",
            "Epoch 57/100\n",
            "9/9 [==============================] - ETA: 0s - loss: 0.2308 - accuracy: 0.9144\n",
            "Epoch 57: val_accuracy did not improve from 0.87500\n",
            "9/9 [==============================] - 19s 2s/step - loss: 0.2308 - accuracy: 0.9144 - val_loss: 0.8219 - val_accuracy: 0.7969\n",
            "Epoch 58/100\n",
            "9/9 [==============================] - ETA: 0s - loss: 0.2145 - accuracy: 0.9199\n",
            "Epoch 58: val_accuracy did not improve from 0.87500\n",
            "9/9 [==============================] - 19s 2s/step - loss: 0.2145 - accuracy: 0.9199 - val_loss: 0.5393 - val_accuracy: 0.8281\n",
            "Epoch 59/100\n",
            "9/9 [==============================] - ETA: 0s - loss: 0.2225 - accuracy: 0.9071\n",
            "Epoch 59: val_accuracy did not improve from 0.87500\n",
            "9/9 [==============================] - 19s 2s/step - loss: 0.2225 - accuracy: 0.9071 - val_loss: 0.5484 - val_accuracy: 0.8438\n",
            "Epoch 60/100\n",
            "9/9 [==============================] - ETA: 0s - loss: 0.2041 - accuracy: 0.9326\n",
            "Epoch 60: val_accuracy did not improve from 0.87500\n",
            "9/9 [==============================] - 19s 2s/step - loss: 0.2041 - accuracy: 0.9326 - val_loss: 0.5685 - val_accuracy: 0.8594\n",
            "Epoch 61/100\n",
            "9/9 [==============================] - ETA: 0s - loss: 0.2253 - accuracy: 0.9180\n",
            "Epoch 61: val_accuracy did not improve from 0.87500\n",
            "9/9 [==============================] - 19s 2s/step - loss: 0.2253 - accuracy: 0.9180 - val_loss: 0.5784 - val_accuracy: 0.8438\n",
            "Epoch 62/100\n",
            "9/9 [==============================] - ETA: 0s - loss: 0.2289 - accuracy: 0.9199\n",
            "Epoch 62: val_accuracy did not improve from 0.87500\n",
            "9/9 [==============================] - 19s 2s/step - loss: 0.2289 - accuracy: 0.9199 - val_loss: 0.6674 - val_accuracy: 0.7812\n",
            "Epoch 63/100\n",
            "9/9 [==============================] - ETA: 0s - loss: 0.2308 - accuracy: 0.9149\n",
            "Epoch 63: val_accuracy did not improve from 0.87500\n",
            "9/9 [==============================] - 20s 2s/step - loss: 0.2308 - accuracy: 0.9149 - val_loss: 0.6723 - val_accuracy: 0.8281\n",
            "Epoch 64/100\n",
            "9/9 [==============================] - ETA: 0s - loss: 0.2194 - accuracy: 0.9199\n",
            "Epoch 64: val_accuracy improved from 0.87500 to 0.92188, saving model to ./ct_vgg_best_model.hdf5\n",
            "9/9 [==============================] - 19s 2s/step - loss: 0.2194 - accuracy: 0.9199 - val_loss: 0.3965 - val_accuracy: 0.9219\n",
            "Epoch 65/100\n",
            "9/9 [==============================] - ETA: 0s - loss: 0.2340 - accuracy: 0.9162\n",
            "Epoch 65: val_accuracy did not improve from 0.92188\n",
            "9/9 [==============================] - 19s 2s/step - loss: 0.2340 - accuracy: 0.9162 - val_loss: 0.7756 - val_accuracy: 0.8281\n",
            "Epoch 66/100\n",
            "9/9 [==============================] - ETA: 0s - loss: 0.2764 - accuracy: 0.9071\n",
            "Epoch 66: val_accuracy did not improve from 0.92188\n",
            "9/9 [==============================] - 19s 2s/step - loss: 0.2764 - accuracy: 0.9071 - val_loss: 0.6346 - val_accuracy: 0.8594\n",
            "Epoch 67/100\n",
            "9/9 [==============================] - ETA: 0s - loss: 0.2597 - accuracy: 0.9097\n",
            "Epoch 67: val_accuracy did not improve from 0.92188\n",
            "9/9 [==============================] - 20s 2s/step - loss: 0.2597 - accuracy: 0.9097 - val_loss: 0.6163 - val_accuracy: 0.8906\n",
            "Epoch 68/100\n",
            "9/9 [==============================] - ETA: 0s - loss: 0.2130 - accuracy: 0.9253\n",
            "Epoch 68: val_accuracy did not improve from 0.92188\n",
            "9/9 [==============================] - 19s 2s/step - loss: 0.2130 - accuracy: 0.9253 - val_loss: 0.4631 - val_accuracy: 0.8906\n",
            "Epoch 69/100\n",
            "9/9 [==============================] - ETA: 0s - loss: 0.2169 - accuracy: 0.9180\n",
            "Epoch 69: val_accuracy did not improve from 0.92188\n",
            "9/9 [==============================] - 19s 2s/step - loss: 0.2169 - accuracy: 0.9180 - val_loss: 0.7185 - val_accuracy: 0.8438\n",
            "Epoch 70/100\n",
            "9/9 [==============================] - ETA: 0s - loss: 0.1925 - accuracy: 0.9362\n",
            "Epoch 70: val_accuracy did not improve from 0.92188\n",
            "9/9 [==============================] - 19s 2s/step - loss: 0.1925 - accuracy: 0.9362 - val_loss: 0.7934 - val_accuracy: 0.7969\n",
            "Epoch 71/100\n",
            "9/9 [==============================] - ETA: 0s - loss: 0.2514 - accuracy: 0.8962\n",
            "Epoch 71: val_accuracy did not improve from 0.92188\n",
            "9/9 [==============================] - 19s 2s/step - loss: 0.2514 - accuracy: 0.8962 - val_loss: 0.7577 - val_accuracy: 0.8438\n",
            "Epoch 72/100\n",
            "9/9 [==============================] - ETA: 0s - loss: 0.2459 - accuracy: 0.9071\n",
            "Epoch 72: val_accuracy did not improve from 0.92188\n",
            "9/9 [==============================] - 19s 2s/step - loss: 0.2459 - accuracy: 0.9071 - val_loss: 0.9809 - val_accuracy: 0.7344\n",
            "Epoch 73/100\n",
            "9/9 [==============================] - ETA: 0s - loss: 0.2943 - accuracy: 0.8816\n",
            "Epoch 73: val_accuracy did not improve from 0.92188\n",
            "9/9 [==============================] - 19s 2s/step - loss: 0.2943 - accuracy: 0.8816 - val_loss: 0.5461 - val_accuracy: 0.8438\n",
            "Epoch 74/100\n",
            "9/9 [==============================] - ETA: 0s - loss: 0.2462 - accuracy: 0.8998\n",
            "Epoch 74: val_accuracy did not improve from 0.92188\n",
            "9/9 [==============================] - 19s 2s/step - loss: 0.2462 - accuracy: 0.8998 - val_loss: 0.9234 - val_accuracy: 0.7656\n",
            "Epoch 75/100\n",
            "9/9 [==============================] - ETA: 0s - loss: 0.2612 - accuracy: 0.8980\n",
            "Epoch 75: val_accuracy did not improve from 0.92188\n",
            "9/9 [==============================] - 19s 2s/step - loss: 0.2612 - accuracy: 0.8980 - val_loss: 0.7188 - val_accuracy: 0.8281\n",
            "Epoch 76/100\n",
            "9/9 [==============================] - ETA: 0s - loss: 0.2396 - accuracy: 0.9089\n",
            "Epoch 76: val_accuracy did not improve from 0.92188\n",
            "9/9 [==============================] - 19s 2s/step - loss: 0.2396 - accuracy: 0.9089 - val_loss: 0.7334 - val_accuracy: 0.8125\n",
            "Epoch 77/100\n",
            "9/9 [==============================] - ETA: 0s - loss: 0.2294 - accuracy: 0.9144\n",
            "Epoch 77: val_accuracy did not improve from 0.92188\n",
            "9/9 [==============================] - 19s 2s/step - loss: 0.2294 - accuracy: 0.9144 - val_loss: 0.7010 - val_accuracy: 0.8281\n",
            "Epoch 78/100\n",
            "9/9 [==============================] - ETA: 0s - loss: 0.1894 - accuracy: 0.9308\n",
            "Epoch 78: val_accuracy did not improve from 0.92188\n",
            "9/9 [==============================] - 19s 2s/step - loss: 0.1894 - accuracy: 0.9308 - val_loss: 0.4557 - val_accuracy: 0.8906\n",
            "Epoch 79/100\n",
            "9/9 [==============================] - ETA: 0s - loss: 0.1803 - accuracy: 0.9435\n",
            "Epoch 79: val_accuracy did not improve from 0.92188\n",
            "9/9 [==============================] - 19s 2s/step - loss: 0.1803 - accuracy: 0.9435 - val_loss: 0.6541 - val_accuracy: 0.8281\n",
            "Epoch 80/100\n",
            "9/9 [==============================] - ETA: 0s - loss: 0.1758 - accuracy: 0.9362\n",
            "Epoch 80: val_accuracy did not improve from 0.92188\n",
            "9/9 [==============================] - 19s 2s/step - loss: 0.1758 - accuracy: 0.9362 - val_loss: 0.7577 - val_accuracy: 0.8281\n",
            "Epoch 81/100\n",
            "9/9 [==============================] - ETA: 0s - loss: 0.2178 - accuracy: 0.9271\n",
            "Epoch 81: val_accuracy did not improve from 0.92188\n",
            "9/9 [==============================] - 19s 2s/step - loss: 0.2178 - accuracy: 0.9271 - val_loss: 1.1254 - val_accuracy: 0.7344\n",
            "Epoch 82/100\n",
            "9/9 [==============================] - ETA: 0s - loss: 0.2419 - accuracy: 0.8958\n",
            "Epoch 82: val_accuracy did not improve from 0.92188\n",
            "9/9 [==============================] - 20s 2s/step - loss: 0.2419 - accuracy: 0.8958 - val_loss: 0.7300 - val_accuracy: 0.8125\n",
            "Epoch 83/100\n",
            "9/9 [==============================] - ETA: 0s - loss: 0.2171 - accuracy: 0.9107\n",
            "Epoch 83: val_accuracy did not improve from 0.92188\n",
            "9/9 [==============================] - 19s 2s/step - loss: 0.2171 - accuracy: 0.9107 - val_loss: 0.7314 - val_accuracy: 0.7969\n",
            "Epoch 84/100\n",
            "9/9 [==============================] - ETA: 0s - loss: 0.2103 - accuracy: 0.9199\n",
            "Epoch 84: val_accuracy did not improve from 0.92188\n",
            "9/9 [==============================] - 19s 2s/step - loss: 0.2103 - accuracy: 0.9199 - val_loss: 0.8129 - val_accuracy: 0.7656\n",
            "Epoch 85/100\n",
            "9/9 [==============================] - ETA: 0s - loss: 0.1971 - accuracy: 0.9201\n",
            "Epoch 85: val_accuracy did not improve from 0.92188\n",
            "9/9 [==============================] - 20s 2s/step - loss: 0.1971 - accuracy: 0.9201 - val_loss: 0.6824 - val_accuracy: 0.7812\n",
            "Epoch 86/100\n",
            "9/9 [==============================] - ETA: 0s - loss: 0.2158 - accuracy: 0.9271\n",
            "Epoch 86: val_accuracy did not improve from 0.92188\n",
            "9/9 [==============================] - 19s 2s/step - loss: 0.2158 - accuracy: 0.9271 - val_loss: 0.7292 - val_accuracy: 0.8594\n",
            "Epoch 87/100\n",
            "9/9 [==============================] - ETA: 0s - loss: 0.2340 - accuracy: 0.9016\n",
            "Epoch 87: val_accuracy did not improve from 0.92188\n",
            "9/9 [==============================] - 19s 2s/step - loss: 0.2340 - accuracy: 0.9016 - val_loss: 0.8471 - val_accuracy: 0.8125\n",
            "Epoch 88/100\n",
            "9/9 [==============================] - ETA: 0s - loss: 0.1689 - accuracy: 0.9399\n",
            "Epoch 88: val_accuracy did not improve from 0.92188\n",
            "9/9 [==============================] - 19s 2s/step - loss: 0.1689 - accuracy: 0.9399 - val_loss: 0.6757 - val_accuracy: 0.8594\n",
            "Epoch 89/100\n",
            "9/9 [==============================] - ETA: 0s - loss: 0.1747 - accuracy: 0.9381\n",
            "Epoch 89: val_accuracy did not improve from 0.92188\n",
            "9/9 [==============================] - 19s 2s/step - loss: 0.1747 - accuracy: 0.9381 - val_loss: 0.9210 - val_accuracy: 0.8438\n",
            "Epoch 90/100\n",
            "9/9 [==============================] - ETA: 0s - loss: 0.2029 - accuracy: 0.9199\n",
            "Epoch 90: val_accuracy did not improve from 0.92188\n",
            "9/9 [==============================] - 19s 2s/step - loss: 0.2029 - accuracy: 0.9199 - val_loss: 0.8967 - val_accuracy: 0.7969\n",
            "Epoch 91/100\n",
            "9/9 [==============================] - ETA: 0s - loss: 0.1660 - accuracy: 0.9362\n",
            "Epoch 91: val_accuracy did not improve from 0.92188\n",
            "9/9 [==============================] - 19s 2s/step - loss: 0.1660 - accuracy: 0.9362 - val_loss: 0.7329 - val_accuracy: 0.8281\n",
            "Epoch 92/100\n",
            "9/9 [==============================] - ETA: 0s - loss: 0.1520 - accuracy: 0.9599\n",
            "Epoch 92: val_accuracy did not improve from 0.92188\n",
            "9/9 [==============================] - 19s 2s/step - loss: 0.1520 - accuracy: 0.9599 - val_loss: 0.7829 - val_accuracy: 0.7812\n",
            "Epoch 93/100\n",
            "9/9 [==============================] - ETA: 0s - loss: 0.1683 - accuracy: 0.9308\n",
            "Epoch 93: val_accuracy did not improve from 0.92188\n",
            "9/9 [==============================] - 19s 2s/step - loss: 0.1683 - accuracy: 0.9308 - val_loss: 0.7670 - val_accuracy: 0.8281\n",
            "Epoch 94/100\n",
            "9/9 [==============================] - ETA: 0s - loss: 0.2081 - accuracy: 0.9180\n",
            "Epoch 94: val_accuracy did not improve from 0.92188\n",
            "9/9 [==============================] - 19s 2s/step - loss: 0.2081 - accuracy: 0.9180 - val_loss: 0.5265 - val_accuracy: 0.8750\n",
            "Epoch 95/100\n",
            "9/9 [==============================] - ETA: 0s - loss: 0.1882 - accuracy: 0.9290\n",
            "Epoch 95: val_accuracy did not improve from 0.92188\n",
            "9/9 [==============================] - 19s 2s/step - loss: 0.1882 - accuracy: 0.9290 - val_loss: 0.8742 - val_accuracy: 0.7969\n",
            "Epoch 96/100\n",
            "9/9 [==============================] - ETA: 0s - loss: 0.1434 - accuracy: 0.9454\n",
            "Epoch 96: val_accuracy did not improve from 0.92188\n",
            "9/9 [==============================] - 19s 2s/step - loss: 0.1434 - accuracy: 0.9454 - val_loss: 0.8677 - val_accuracy: 0.7969\n",
            "Epoch 97/100\n",
            "9/9 [==============================] - ETA: 0s - loss: 0.2117 - accuracy: 0.9253\n",
            "Epoch 97: val_accuracy did not improve from 0.92188\n",
            "9/9 [==============================] - 19s 2s/step - loss: 0.2117 - accuracy: 0.9253 - val_loss: 0.7190 - val_accuracy: 0.8125\n",
            "Epoch 98/100\n",
            "9/9 [==============================] - ETA: 0s - loss: 0.2564 - accuracy: 0.8834\n",
            "Epoch 98: val_accuracy did not improve from 0.92188\n",
            "9/9 [==============================] - 19s 2s/step - loss: 0.2564 - accuracy: 0.8834 - val_loss: 1.3274 - val_accuracy: 0.7344\n",
            "Epoch 99/100\n",
            "9/9 [==============================] - ETA: 0s - loss: 0.2744 - accuracy: 0.8837\n",
            "Epoch 99: val_accuracy did not improve from 0.92188\n",
            "9/9 [==============================] - 21s 2s/step - loss: 0.2744 - accuracy: 0.8837 - val_loss: 1.1406 - val_accuracy: 0.7500\n",
            "Epoch 100/100\n",
            "9/9 [==============================] - ETA: 0s - loss: 0.1840 - accuracy: 0.9344\n",
            "Epoch 100: val_accuracy did not improve from 0.92188\n",
            "9/9 [==============================] - 20s 2s/step - loss: 0.1840 - accuracy: 0.9344 - val_loss: 0.7958 - val_accuracy: 0.7812\n"
          ]
        }
      ],
      "source": [
        "vgg = vgg_model.fit(\n",
        "    train_data, \n",
        "    steps_per_epoch = train_data.samples//train_data.batch_size, \n",
        "    epochs = 100, \n",
        "    validation_data = val_data, \n",
        "    validation_steps = val_data.samples//val_data.batch_size,\n",
        "    callbacks = call_back \n",
        "    )"
      ]
    },
    {
      "cell_type": "code",
      "execution_count": null,
      "metadata": {
        "id": "FSNYXvmCWZmx"
      },
      "outputs": [],
      "source": [
        "\n",
        "model = load_model(\"./ct_vgg_best_model.hdf5\")"
      ]
    },
    {
      "cell_type": "code",
      "execution_count": null,
      "metadata": {
        "colab": {
          "base_uri": "https://localhost:8080/"
        },
        "id": "1R1cL4aSWhJJ",
        "outputId": "393d243c-28e7-4b13-89b2-68eaab548222"
      },
      "outputs": [
        {
          "output_type": "stream",
          "name": "stdout",
          "text": [
            "The accuracy of the model is = 88.2539689540863 %\n"
          ]
        }
      ],
      "source": [
        "# Checking the Accuracy of the Model \n",
        "accuracy_vgg = model.evaluate_generator(generator= test_data)[1] \n",
        "print(f\"The accuracy of the model is = {accuracy_vgg*100} %\")"
      ]
    },
    {
      "cell_type": "code",
      "execution_count": null,
      "metadata": {
        "colab": {
          "base_uri": "https://localhost:8080/"
        },
        "id": "zHGEAQkQWhyy",
        "outputId": "63b5065c-7dcb-493b-940f-80542fae1a77"
      },
      "outputs": [
        {
          "output_type": "execute_result",
          "data": {
            "text/plain": [
              "dict_keys(['loss', 'accuracy', 'val_loss', 'val_accuracy'])"
            ]
          },
          "metadata": {},
          "execution_count": 64
        }
      ],
      "source": [
        "vgg.history.keys()"
      ]
    },
    {
      "cell_type": "code",
      "execution_count": null,
      "metadata": {
        "colab": {
          "base_uri": "https://localhost:8080/",
          "height": 369
        },
        "id": "CAlhPcnMWiEb",
        "outputId": "0015d598-d48b-46aa-87cd-a7913bf986ec"
      },
      "outputs": [
        {
          "output_type": "display_data",
          "data": {
            "text/plain": [
              "<Figure size 1080x360 with 2 Axes>"
            ],
            "image/png": "[encoded data removed]"
          },
          "metadata": {
            "needs_background": "light"
          }
        }
      ],
      "source": [
        "acc = vgg.history['accuracy']\n",
        "val_acc = vgg.history['val_accuracy']\n",
        "loss = vgg.history['loss']\n",
        "val_loss = vgg.history['val_loss']\n",
        "epochs_range = range(1, len(vgg.epoch) + 1)\n",
        "\n",
        "plt.figure(figsize=(15,5))\n",
        "\n",
        "plt.subplot(1, 2, 1)\n",
        "plt.plot(epochs_range, acc, label='Train Set')\n",
        "plt.plot(epochs_range, val_acc, label='Val Set')\n",
        "plt.legend(loc=\"best\")\n",
        "plt.xlabel('Epochs')\n",
        "plt.ylabel('Accuracy')\n",
        "plt.title('Model Accuracy')\n",
        "\n",
        "plt.subplot(1, 2, 2)\n",
        "plt.plot(epochs_range, loss, label='Train Set')\n",
        "plt.plot(epochs_range, val_loss, label='Val Set')\n",
        "plt.legend(loc=\"best\")\n",
        "plt.xlabel('Epochs')\n",
        "plt.ylabel('Loss')\n",
        "plt.title('Model Loss')\n",
        "\n",
        "plt.tight_layout()\n",
        "plt.show()"
      ]
    },
    {
      "cell_type": "code",
      "source": [
        "###VGG19\n",
        "from keras.models import Sequential\n",
        "from keras.layers.core import Flatten, Dense, Dropout\n",
        "from keras.layers.convolutional import Convolution2D, MaxPooling2D, ZeroPadding2D\n",
        "from tensorflow.keras.optimizers import SGD\n",
        "import cv2, numpy as np\n",
        " "
      ],
      "metadata": {
        "id": "WReCd8WyCLFb"
      },
      "execution_count": null,
      "outputs": []
    },
    {
      "cell_type": "code",
      "source": [
        "from keras.applications.vgg19 import VGG19\n",
        "model = VGG19()"
      ],
      "metadata": {
        "colab": {
          "base_uri": "https://localhost:8080/"
        },
        "id": "LnH2daF3CLIK",
        "outputId": "98e39797-6799-4eb9-f8c2-86bd45eabfa6"
      },
      "execution_count": null,
      "outputs": [
        {
          "output_type": "stream",
          "name": "stdout",
          "text": [
            "Downloading data from https://storage.googleapis.com/tensorflow/keras-applications/vgg19/vgg19_weights_tf_dim_ordering_tf_kernels.h5\n",
            "574717952/574710816 [==============================] - 7s 0us/step\n",
            "574726144/574710816 [==============================] - 7s 0us/step\n"
          ]
        }
      ]
    },
    {
      "cell_type": "code",
      "source": [
        "\n",
        "from keras.applications.vgg19 import VGG19\n",
        "model = VGG19()\n",
        "print(model.summary())"
      ],
      "metadata": {
        "colab": {
          "base_uri": "https://localhost:8080/"
        },
        "id": "4rOK184jCLLY",
        "outputId": "95e18ad5-296f-48bd-bb76-9595d9f4bf27"
      },
      "execution_count": null,
      "outputs": [
        {
          "output_type": "stream",
          "name": "stdout",
          "text": [
            "Model: \"vgg19\"\n",
            "_________________________________________________________________\n",
            " Layer (type)                Output Shape              Param #   \n",
            "=================================================================\n",
            " input_5 (InputLayer)        [(None, 224, 224, 3)]     0         \n",
            "                                                                 \n",
            " block1_conv1 (Conv2D)       (None, 224, 224, 64)      1792      \n",
            "                                                                 \n",
            " block1_conv2 (Conv2D)       (None, 224, 224, 64)      36928     \n",
            "                                                                 \n",
            " block1_pool (MaxPooling2D)  (None, 112, 112, 64)      0         \n",
            "                                                                 \n",
            " block2_conv1 (Conv2D)       (None, 112, 112, 128)     73856     \n",
            "                                                                 \n",
            " block2_conv2 (Conv2D)       (None, 112, 112, 128)     147584    \n",
            "                                                                 \n",
            " block2_pool (MaxPooling2D)  (None, 56, 56, 128)       0         \n",
            "                                                                 \n",
            " block3_conv1 (Conv2D)       (None, 56, 56, 256)       295168    \n",
            "                                                                 \n",
            " block3_conv2 (Conv2D)       (None, 56, 56, 256)       590080    \n",
            "                                                                 \n",
            " block3_conv3 (Conv2D)       (None, 56, 56, 256)       590080    \n",
            "                                                                 \n",
            " block3_conv4 (Conv2D)       (None, 56, 56, 256)       590080    \n",
            "                                                                 \n",
            " block3_pool (MaxPooling2D)  (None, 28, 28, 256)       0         \n",
            "                                                                 \n",
            " block4_conv1 (Conv2D)       (None, 28, 28, 512)       1180160   \n",
            "                                                                 \n",
            " block4_conv2 (Conv2D)       (None, 28, 28, 512)       2359808   \n",
            "                                                                 \n",
            " block4_conv3 (Conv2D)       (None, 28, 28, 512)       2359808   \n",
            "                                                                 \n",
            " block4_conv4 (Conv2D)       (None, 28, 28, 512)       2359808   \n",
            "                                                                 \n",
            " block4_pool (MaxPooling2D)  (None, 14, 14, 512)       0         \n",
            "                                                                 \n",
            " block5_conv1 (Conv2D)       (None, 14, 14, 512)       2359808   \n",
            "                                                                 \n",
            " block5_conv2 (Conv2D)       (None, 14, 14, 512)       2359808   \n",
            "                                                                 \n",
            " block5_conv3 (Conv2D)       (None, 14, 14, 512)       2359808   \n",
            "                                                                 \n",
            " block5_conv4 (Conv2D)       (None, 14, 14, 512)       2359808   \n",
            "                                                                 \n",
            " block5_pool (MaxPooling2D)  (None, 7, 7, 512)         0         \n",
            "                                                                 \n",
            " flatten (Flatten)           (None, 25088)             0         \n",
            "                                                                 \n",
            " fc1 (Dense)                 (None, 4096)              102764544 \n",
            "                                                                 \n",
            " fc2 (Dense)                 (None, 4096)              16781312  \n",
            "                                                                 \n",
            " predictions (Dense)         (None, 1000)              4097000   \n",
            "                                                                 \n",
            "=================================================================\n",
            "Total params: 143,667,240\n",
            "Trainable params: 143,667,240\n",
            "Non-trainable params: 0\n",
            "_________________________________________________________________\n",
            "None\n"
          ]
        }
      ]
    },
    {
      "cell_type": "code",
      "source": [
        "tf.keras.applications.VGG19(\n",
        "    include_top=True,\n",
        "    weights=\"imagenet\",\n",
        "    input_tensor=None,\n",
        "    input_shape=None,\n",
        "    pooling=None,\n",
        "    classes=1000,\n",
        "    classifier_activation=\"softmax\",\n",
        ")"
      ],
      "metadata": {
        "colab": {
          "base_uri": "https://localhost:8080/"
        },
        "id": "OJu2Qlp2CLVA",
        "outputId": "f26daff3-d782-4ae3-c342-3d59bc099fe8"
      },
      "execution_count": null,
      "outputs": [
        {
          "output_type": "execute_result",
          "data": {
            "text/plain": [
              "<keras.engine.functional.Functional at 0x7f99bcdf7c90>"
            ]
          },
          "metadata": {},
          "execution_count": 69
        }
      ]
    },
    {
      "cell_type": "code",
      "source": [
        "NUM_CLASSES = 4\n",
        "from tensorflow.keras import layers\n",
        "vgg1_model = Sequential()\n",
        "vgg1_model.add(base_model)\n",
        "vgg1_model.add(layers.Flatten())\n",
        "vgg1_model.add(layers.Dropout(0.25))\n",
        "vgg1_model.add(layers.Dense(NUM_CLASSES, activation='sigmoid'))\n",
        "\n",
        "vgg1_model.layers[0].trainable = False\n",
        "\n",
        "vgg1_model.compile(\n",
        "    loss='categorical_crossentropy',\n",
        "    optimizer='adam',\n",
        "    metrics=['accuracy']\n",
        ")\n",
        "\n",
        "vgg1_model.summary()"
      ],
      "metadata": {
        "colab": {
          "base_uri": "https://localhost:8080/"
        },
        "id": "MRq8WoaeCLYY",
        "outputId": "326c72f9-63d8-4fc9-96c2-5d7cb25fe7dc"
      },
      "execution_count": null,
      "outputs": [
        {
          "output_type": "stream",
          "name": "stdout",
          "text": [
            "Model: \"sequential_4\"\n",
            "_________________________________________________________________\n",
            " Layer (type)                Output Shape              Param #   \n",
            "=================================================================\n",
            " vgg16 (Functional)          (None, 10, 10, 512)       14714688  \n",
            "                                                                 \n",
            " flatten_4 (Flatten)         (None, 51200)             0         \n",
            "                                                                 \n",
            " dropout_6 (Dropout)         (None, 51200)             0         \n",
            "                                                                 \n",
            " dense_6 (Dense)             (None, 4)                 204804    \n",
            "                                                                 \n",
            "=================================================================\n",
            "Total params: 14,919,492\n",
            "Trainable params: 204,804\n",
            "Non-trainable params: 14,714,688\n",
            "_________________________________________________________________\n"
          ]
        }
      ]
    },
    {
      "cell_type": "code",
      "source": [
        "from tensorflow.keras.callbacks import ModelCheckpoint, EarlyStopping\n",
        "mc = ModelCheckpoint(\n",
        "    filepath=\"./ct_vgg_best_model.hdf5\",\n",
        "    monitor= 'val_accuracy', \n",
        "    verbose= 1,\n",
        "    save_best_only= True, \n",
        "    mode = 'auto'\n",
        "    );\n",
        "\n",
        "call_back = [ mc];\n",
        "\n"
      ],
      "metadata": {
        "id": "BHKHgq5rCLb1"
      },
      "execution_count": null,
      "outputs": []
    },
    {
      "cell_type": "code",
      "source": [
        "vgg1 = vgg1_model.fit(\n",
        "    train_data, \n",
        "    steps_per_epoch = train_data.samples//train_data.batch_size, \n",
        "    epochs = 15, \n",
        "    validation_data = val_data, \n",
        "    validation_steps = val_data.samples//val_data.batch_size,\n",
        "    callbacks = call_back \n",
        "    )"
      ],
      "metadata": {
        "colab": {
          "base_uri": "https://localhost:8080/"
        },
        "id": "xBe4RNugCLl7",
        "outputId": "820f015a-c4cc-4e6c-afa2-3d038b66c0e8"
      },
      "execution_count": null,
      "outputs": [
        {
          "output_type": "stream",
          "name": "stdout",
          "text": [
            "Epoch 1/15\n",
            "9/9 [==============================] - ETA: 0s - loss: 2.8636 - accuracy: 0.3024\n",
            "Epoch 1: val_accuracy improved from -inf to 0.40625, saving model to ./ct_vgg_best_model.hdf5\n",
            "9/9 [==============================] - 21s 2s/step - loss: 2.8636 - accuracy: 0.3024 - val_loss: 2.6396 - val_accuracy: 0.4062\n",
            "Epoch 2/15\n",
            "9/9 [==============================] - ETA: 0s - loss: 1.6170 - accuracy: 0.4757\n",
            "Epoch 2: val_accuracy improved from 0.40625 to 0.46875, saving model to ./ct_vgg_best_model.hdf5\n",
            "9/9 [==============================] - 20s 2s/step - loss: 1.6170 - accuracy: 0.4757 - val_loss: 1.3395 - val_accuracy: 0.4688\n",
            "Epoch 3/15\n",
            "9/9 [==============================] - ETA: 0s - loss: 1.2005 - accuracy: 0.5137\n",
            "Epoch 3: val_accuracy improved from 0.46875 to 0.48438, saving model to ./ct_vgg_best_model.hdf5\n",
            "9/9 [==============================] - 19s 2s/step - loss: 1.2005 - accuracy: 0.5137 - val_loss: 1.4293 - val_accuracy: 0.4844\n",
            "Epoch 4/15\n",
            "9/9 [==============================] - ETA: 0s - loss: 1.0746 - accuracy: 0.5719\n",
            "Epoch 4: val_accuracy did not improve from 0.48438\n",
            "9/9 [==============================] - 19s 2s/step - loss: 1.0746 - accuracy: 0.5719 - val_loss: 1.3891 - val_accuracy: 0.4844\n",
            "Epoch 5/15\n",
            "9/9 [==============================] - ETA: 0s - loss: 0.9896 - accuracy: 0.6485\n",
            "Epoch 5: val_accuracy improved from 0.48438 to 0.54688, saving model to ./ct_vgg_best_model.hdf5\n",
            "9/9 [==============================] - 19s 2s/step - loss: 0.9896 - accuracy: 0.6485 - val_loss: 1.1472 - val_accuracy: 0.5469\n",
            "Epoch 6/15\n",
            "9/9 [==============================] - ETA: 0s - loss: 0.8299 - accuracy: 0.6250\n",
            "Epoch 6: val_accuracy improved from 0.54688 to 0.56250, saving model to ./ct_vgg_best_model.hdf5\n",
            "9/9 [==============================] - 20s 2s/step - loss: 0.8299 - accuracy: 0.6250 - val_loss: 0.9162 - val_accuracy: 0.5625\n",
            "Epoch 7/15\n",
            "9/9 [==============================] - ETA: 0s - loss: 0.7392 - accuracy: 0.6995\n",
            "Epoch 7: val_accuracy improved from 0.56250 to 0.71875, saving model to ./ct_vgg_best_model.hdf5\n",
            "9/9 [==============================] - 19s 2s/step - loss: 0.7392 - accuracy: 0.6995 - val_loss: 0.8656 - val_accuracy: 0.7188\n",
            "Epoch 8/15\n",
            "9/9 [==============================] - ETA: 0s - loss: 0.6485 - accuracy: 0.7213\n",
            "Epoch 8: val_accuracy did not improve from 0.71875\n",
            "9/9 [==============================] - 19s 2s/step - loss: 0.6485 - accuracy: 0.7213 - val_loss: 0.8011 - val_accuracy: 0.5781\n",
            "Epoch 9/15\n",
            "9/9 [==============================] - ETA: 0s - loss: 0.6066 - accuracy: 0.7448\n",
            "Epoch 9: val_accuracy did not improve from 0.71875\n",
            "9/9 [==============================] - 20s 2s/step - loss: 0.6066 - accuracy: 0.7448 - val_loss: 0.8171 - val_accuracy: 0.6875\n",
            "Epoch 10/15\n",
            "9/9 [==============================] - ETA: 0s - loss: 0.5754 - accuracy: 0.7559\n",
            "Epoch 10: val_accuracy did not improve from 0.71875\n",
            "9/9 [==============================] - 19s 2s/step - loss: 0.5754 - accuracy: 0.7559 - val_loss: 0.8080 - val_accuracy: 0.6719\n",
            "Epoch 11/15\n",
            "9/9 [==============================] - ETA: 0s - loss: 0.5790 - accuracy: 0.7668\n",
            "Epoch 11: val_accuracy did not improve from 0.71875\n",
            "9/9 [==============================] - 19s 2s/step - loss: 0.5790 - accuracy: 0.7668 - val_loss: 1.0867 - val_accuracy: 0.6406\n",
            "Epoch 12/15\n",
            "9/9 [==============================] - ETA: 0s - loss: 0.7198 - accuracy: 0.6910\n",
            "Epoch 12: val_accuracy did not improve from 0.71875\n",
            "9/9 [==============================] - 20s 2s/step - loss: 0.7198 - accuracy: 0.6910 - val_loss: 0.8516 - val_accuracy: 0.6719\n",
            "Epoch 13/15\n",
            "9/9 [==============================] - ETA: 0s - loss: 0.6125 - accuracy: 0.7359\n",
            "Epoch 13: val_accuracy did not improve from 0.71875\n",
            "9/9 [==============================] - 19s 2s/step - loss: 0.6125 - accuracy: 0.7359 - val_loss: 0.8197 - val_accuracy: 0.6875\n",
            "Epoch 14/15\n",
            "9/9 [==============================] - ETA: 0s - loss: 0.5346 - accuracy: 0.7760\n",
            "Epoch 14: val_accuracy did not improve from 0.71875\n",
            "9/9 [==============================] - 19s 2s/step - loss: 0.5346 - accuracy: 0.7760 - val_loss: 0.7165 - val_accuracy: 0.7188\n",
            "Epoch 15/15\n",
            "9/9 [==============================] - ETA: 0s - loss: 0.4793 - accuracy: 0.8015\n",
            "Epoch 15: val_accuracy improved from 0.71875 to 0.75000, saving model to ./ct_vgg_best_model.hdf5\n",
            "9/9 [==============================] - 19s 2s/step - loss: 0.4793 - accuracy: 0.8015 - val_loss: 0.6510 - val_accuracy: 0.7500\n"
          ]
        }
      ]
    },
    {
      "cell_type": "code",
      "source": [
        "model = load_model(\"./ct_vgg_best_model.hdf5\")"
      ],
      "metadata": {
        "id": "cVQG2NroEBsM"
      },
      "execution_count": null,
      "outputs": []
    },
    {
      "cell_type": "code",
      "source": [
        "# Checking the Accuracy of the Model \n",
        "accuracy_vgg1 = model.evaluate_generator(generator= test_data)[1] \n",
        "print(f\"The accuracy of the model is = {accuracy_vgg1*100} %\")"
      ],
      "metadata": {
        "id": "bWc2O1YbEBvt",
        "colab": {
          "base_uri": "https://localhost:8080/"
        },
        "outputId": "384716f5-47cb-49d1-effa-269fda1e429c"
      },
      "execution_count": null,
      "outputs": [
        {
          "output_type": "stream",
          "name": "stdout",
          "text": [
            "The accuracy of the model is = 71.11111283302307 %\n"
          ]
        }
      ]
    },
    {
      "cell_type": "code",
      "source": [
        "vgg1.history.keys()"
      ],
      "metadata": {
        "colab": {
          "base_uri": "https://localhost:8080/"
        },
        "id": "0B1GPJ9tEBys",
        "outputId": "32a4e830-2434-44bb-dd85-a32df614cf83"
      },
      "execution_count": null,
      "outputs": [
        {
          "output_type": "execute_result",
          "data": {
            "text/plain": [
              "dict_keys(['loss', 'accuracy', 'val_loss', 'val_accuracy'])"
            ]
          },
          "metadata": {},
          "execution_count": 75
        }
      ]
    },
    {
      "cell_type": "code",
      "source": [
        "acc1 = vgg1.history['accuracy']\n",
        "val1_acc = vgg1.history['val_accuracy']\n",
        "loss1 = vgg1.history['loss']\n",
        "val1_loss = vgg1.history['val_loss']\n",
        "epochs_range = range(1, len(vgg1.epoch) + 1)\n",
        "\n",
        "plt.figure(figsize=(15,5))\n",
        "\n",
        "plt.subplot(1, 2, 1)\n",
        "plt.plot(epochs_range, acc1, label='Train Set')\n",
        "plt.plot(epochs_range, val1_acc, label='Val Set')\n",
        "plt.legend(loc=\"best\")\n",
        "plt.xlabel('Epochs')\n",
        "plt.ylabel('Accuracy')\n",
        "plt.title('Model Accuracy')\n",
        "\n",
        "plt.subplot(1, 2, 2)\n",
        "plt.plot(epochs_range, loss1, label='Train Set')\n",
        "plt.plot(epochs_range, val1_loss, label='Val Set')\n",
        "plt.legend(loc=\"best\")\n",
        "plt.xlabel('Epochs')\n",
        "plt.ylabel('Loss')\n",
        "plt.title('Model Loss')\n",
        "\n",
        "plt.tight_layout()\n",
        "plt.show()"
      ],
      "metadata": {
        "colab": {
          "base_uri": "https://localhost:8080/",
          "height": 369
        },
        "id": "VZj1KetmECDq",
        "outputId": "ffdd76cb-5a3e-44af-d499-2ed995e63199"
      },
      "execution_count": null,
      "outputs": [
        {
          "output_type": "display_data",
          "data": {
            "text/plain": [
              "<Figure size 1080x360 with 2 Axes>"
            ],
            "image/png": "[encoded data removed]"
          },
          "metadata": {
            "needs_background": "light"
          }
        }
      ]
    },
    {
      "cell_type": "code",
      "execution_count": null,
      "metadata": {
        "id": "SpFVDT2yWv35"
      },
      "outputs": [],
      "source": [
        "##Inceptionv3 Model"
      ]
    },
    {
      "cell_type": "code",
      "execution_count": null,
      "metadata": {
        "colab": {
          "base_uri": "https://localhost:8080/"
        },
        "id": "pk0QHN3IW36A",
        "outputId": "f3463f0d-b4e5-4d2e-aa6c-1dd21f67c6c4"
      },
      "outputs": [
        {
          "output_type": "stream",
          "name": "stdout",
          "text": [
            "Downloading data from https://storage.googleapis.com/tensorflow/keras-applications/inception_v3/inception_v3_weights_tf_dim_ordering_tf_kernels_notop.h5\n",
            "87916544/87910968 [==============================] - 2s 0us/step\n",
            "87924736/87910968 [==============================] - 2s 0us/step\n"
          ]
        }
      ],
      "source": [
        "from tensorflow.keras.applications.inception_v3 import InceptionV3\n",
        "\n",
        "base_model = InceptionV3(input_shape = (350, 350, 3), \n",
        "                         include_top = False, \n",
        "                         weights = 'imagenet')"
      ]
    },
    {
      "cell_type": "code",
      "execution_count": null,
      "metadata": {
        "id": "WFTv69eeW8xO"
      },
      "outputs": [],
      "source": [
        "for layer in base_model.layers:\n",
        "    layer.trainable = False"
      ]
    },
    {
      "cell_type": "code",
      "execution_count": null,
      "metadata": {
        "id": "nC7LnovyW8-w"
      },
      "outputs": [],
      "source": [
        "x = layers.Flatten()(base_model.output)\n",
        "x = layers.Dense(1024, activation='relu')(x)\n",
        "x = layers.Dropout(0.2)(x)"
      ]
    },
    {
      "cell_type": "code",
      "execution_count": null,
      "metadata": {
        "id": "cafOAP2aW9KS"
      },
      "outputs": [],
      "source": [
        "# Add a final sigmoid layer with 4 node for classification output\n",
        "x = layers.Dense(4, activation='sigmoid')(x)\n",
        "\n",
        "model_incep = tf.keras.models.Model(base_model.input, x)\n",
        "\n",
        "model_incep.compile(optimizer = tensorflow.keras.optimizers.RMSprop(learning_rate=0.0001), \n",
        "                    loss = 'categorical_crossentropy', \n",
        "                    metrics = ['accuracy'])"
      ]
    },
    {
      "cell_type": "code",
      "execution_count": null,
      "metadata": {
        "id": "PJaHytClW9VZ"
      },
      "outputs": [],
      "source": [
        "# Adding Model check point Callback\n",
        "\n",
        "mc = ModelCheckpoint(\n",
        "    filepath=\"./ct_incep_best_model.hdf5\",\n",
        "    monitor= 'val_accuracy', \n",
        "    verbose= 1,\n",
        "    save_best_only= True, \n",
        "    mode = 'auto'\n",
        "    );\n",
        "\n",
        "call_back = [mc];"
      ]
    },
    {
      "cell_type": "code",
      "execution_count": null,
      "metadata": {
        "colab": {
          "base_uri": "https://localhost:8080/"
        },
        "id": "NROJIrTfW9cX",
        "outputId": "d03c77bd-325c-49ba-85ff-a2d8ca5f76e4"
      },
      "outputs": [
        {
          "output_type": "stream",
          "name": "stdout",
          "text": [
            "Epoch 1/15\n",
            "9/9 [==============================] - ETA: 0s - loss: 27.4938 - accuracy: 0.3352\n",
            "Epoch 1: val_accuracy improved from -inf to 0.43750, saving model to ./ct_incep_best_model.hdf5\n",
            "9/9 [==============================] - 33s 3s/step - loss: 27.4938 - accuracy: 0.3352 - val_loss: 8.5482 - val_accuracy: 0.4375\n",
            "Epoch 2/15\n",
            "9/9 [==============================] - ETA: 0s - loss: 5.1332 - accuracy: 0.4699\n",
            "Epoch 2: val_accuracy did not improve from 0.43750\n",
            "9/9 [==============================] - 17s 2s/step - loss: 5.1332 - accuracy: 0.4699 - val_loss: 2.5434 - val_accuracy: 0.4062\n",
            "Epoch 3/15\n",
            "9/9 [==============================] - ETA: 0s - loss: 4.7357 - accuracy: 0.4608\n",
            "Epoch 3: val_accuracy did not improve from 0.43750\n",
            "9/9 [==============================] - 17s 2s/step - loss: 4.7357 - accuracy: 0.4608 - val_loss: 7.9323 - val_accuracy: 0.4219\n",
            "Epoch 4/15\n",
            "9/9 [==============================] - ETA: 0s - loss: 4.1954 - accuracy: 0.5173\n",
            "Epoch 4: val_accuracy improved from 0.43750 to 0.51562, saving model to ./ct_incep_best_model.hdf5\n",
            "9/9 [==============================] - 24s 3s/step - loss: 4.1954 - accuracy: 0.5173 - val_loss: 3.1232 - val_accuracy: 0.5156\n",
            "Epoch 5/15\n",
            "9/9 [==============================] - ETA: 0s - loss: 3.2884 - accuracy: 0.5319\n",
            "Epoch 5: val_accuracy did not improve from 0.51562\n",
            "9/9 [==============================] - 18s 2s/step - loss: 3.2884 - accuracy: 0.5319 - val_loss: 3.3556 - val_accuracy: 0.4844\n",
            "Epoch 6/15\n",
            "9/9 [==============================] - ETA: 0s - loss: 3.3676 - accuracy: 0.5301\n",
            "Epoch 6: val_accuracy improved from 0.51562 to 0.54688, saving model to ./ct_incep_best_model.hdf5\n",
            "9/9 [==============================] - 24s 3s/step - loss: 3.3676 - accuracy: 0.5301 - val_loss: 3.2862 - val_accuracy: 0.5469\n",
            "Epoch 7/15\n",
            "9/9 [==============================] - ETA: 0s - loss: 2.1173 - accuracy: 0.6029\n",
            "Epoch 7: val_accuracy improved from 0.54688 to 0.62500, saving model to ./ct_incep_best_model.hdf5\n",
            "9/9 [==============================] - 24s 3s/step - loss: 2.1173 - accuracy: 0.6029 - val_loss: 0.7361 - val_accuracy: 0.6250\n",
            "Epoch 8/15\n",
            "9/9 [==============================] - ETA: 0s - loss: 1.5755 - accuracy: 0.6211\n",
            "Epoch 8: val_accuracy did not improve from 0.62500\n",
            "9/9 [==============================] - 18s 2s/step - loss: 1.5755 - accuracy: 0.6211 - val_loss: 2.8553 - val_accuracy: 0.6250\n",
            "Epoch 9/15\n",
            "9/9 [==============================] - ETA: 0s - loss: 2.2391 - accuracy: 0.5628\n",
            "Epoch 9: val_accuracy did not improve from 0.62500\n",
            "9/9 [==============================] - 18s 2s/step - loss: 2.2391 - accuracy: 0.5628 - val_loss: 2.4182 - val_accuracy: 0.4219\n",
            "Epoch 10/15\n",
            "9/9 [==============================] - ETA: 0s - loss: 1.7118 - accuracy: 0.5610\n",
            "Epoch 10: val_accuracy did not improve from 0.62500\n",
            "9/9 [==============================] - 18s 2s/step - loss: 1.7118 - accuracy: 0.5610 - val_loss: 1.1902 - val_accuracy: 0.5625\n",
            "Epoch 11/15\n",
            "9/9 [==============================] - ETA: 0s - loss: 1.3523 - accuracy: 0.5847\n",
            "Epoch 11: val_accuracy did not improve from 0.62500\n",
            "9/9 [==============================] - 18s 2s/step - loss: 1.3523 - accuracy: 0.5847 - val_loss: 1.5312 - val_accuracy: 0.5625\n",
            "Epoch 12/15\n",
            "9/9 [==============================] - ETA: 0s - loss: 1.1533 - accuracy: 0.6248\n",
            "Epoch 12: val_accuracy did not improve from 0.62500\n",
            "9/9 [==============================] - 18s 2s/step - loss: 1.1533 - accuracy: 0.6248 - val_loss: 1.2483 - val_accuracy: 0.5625\n",
            "Epoch 13/15\n",
            "9/9 [==============================] - ETA: 0s - loss: 0.9904 - accuracy: 0.6630\n",
            "Epoch 13: val_accuracy did not improve from 0.62500\n",
            "9/9 [==============================] - 18s 2s/step - loss: 0.9904 - accuracy: 0.6630 - val_loss: 1.0488 - val_accuracy: 0.5156\n",
            "Epoch 14/15\n",
            "9/9 [==============================] - ETA: 0s - loss: 1.0290 - accuracy: 0.6466\n",
            "Epoch 14: val_accuracy did not improve from 0.62500\n",
            "9/9 [==============================] - 18s 2s/step - loss: 1.0290 - accuracy: 0.6466 - val_loss: 1.1810 - val_accuracy: 0.5156\n",
            "Epoch 15/15\n",
            "9/9 [==============================] - ETA: 0s - loss: 0.8394 - accuracy: 0.6758\n",
            "Epoch 15: val_accuracy did not improve from 0.62500\n",
            "9/9 [==============================] - 17s 2s/step - loss: 0.8394 - accuracy: 0.6758 - val_loss: 0.9641 - val_accuracy: 0.5938\n"
          ]
        }
      ],
      "source": [
        "# Fitting the Model\n",
        "incep = model_incep.fit(\n",
        "    train_data, \n",
        "    steps_per_epoch = train_data.samples//train_data.batch_size, \n",
        "    epochs = 15, \n",
        "    validation_data = val_data, \n",
        "    validation_steps = val_data.samples//val_data.batch_size,\n",
        "    callbacks = call_back \n",
        "    )"
      ]
    },
    {
      "cell_type": "code",
      "execution_count": null,
      "metadata": {
        "id": "YhvGv84lW9oA"
      },
      "outputs": [],
      "source": [
        "# Loading the Best Fit Model \n",
        "model = load_model(\"./ct_incep_best_model.hdf5\")"
      ]
    },
    {
      "cell_type": "code",
      "execution_count": null,
      "metadata": {
        "colab": {
          "base_uri": "https://localhost:8080/"
        },
        "id": "9aNhKpZWXZID",
        "outputId": "2fd4c318-e752-4c46-ed28-d73146c2e412"
      },
      "outputs": [
        {
          "output_type": "stream",
          "name": "stdout",
          "text": [
            "The accuracy of the model is = 67.30158925056458 %\n"
          ]
        }
      ],
      "source": [
        "# Checking the Accuracy of the Model \n",
        "accuracy_incep = model.evaluate_generator(generator= test_data)[1] \n",
        "print(f\"The accuracy of the model is = {accuracy_incep*100} %\")"
      ]
    },
    {
      "cell_type": "code",
      "execution_count": null,
      "metadata": {
        "colab": {
          "base_uri": "https://localhost:8080/"
        },
        "id": "rUEeEKQ4XZOF",
        "outputId": "7841984d-2019-4a2a-8628-3e2485f2de7d"
      },
      "outputs": [
        {
          "output_type": "execute_result",
          "data": {
            "text/plain": [
              "dict_keys(['loss', 'accuracy', 'val_loss', 'val_accuracy'])"
            ]
          },
          "metadata": {},
          "execution_count": 85
        }
      ],
      "source": [
        "incep.history.keys()"
      ]
    },
    {
      "cell_type": "code",
      "execution_count": null,
      "metadata": {
        "colab": {
          "base_uri": "https://localhost:8080/",
          "height": 369
        },
        "id": "4hm4-076XfTn",
        "outputId": "f24523a1-efbe-4878-f393-97fd78ad77a5"
      },
      "outputs": [
        {
          "output_type": "display_data",
          "data": {
            "text/plain": [
              "<Figure size 1080x360 with 2 Axes>"
            ],
            "image/png": "[encoded data removed]"
          },
          "metadata": {
            "needs_background": "light"
          }
        }
      ],
      "source": [
        "# Plot model performance\n",
        "acc = incep.history['accuracy']\n",
        "val_acc = incep.history['val_accuracy']\n",
        "loss = incep.history['loss']\n",
        "val_loss = incep.history['val_loss']\n",
        "epochs_range = range(1, len(incep.epoch) + 1)\n",
        "\n",
        "plt.figure(figsize=(15,5))\n",
        "\n",
        "plt.subplot(1, 2, 1)\n",
        "plt.plot(epochs_range, acc, label='Train Set')\n",
        "plt.plot(epochs_range, val_acc, label='Val Set')\n",
        "plt.legend(loc=\"best\")\n",
        "plt.xlabel('Epochs')\n",
        "plt.ylabel('Accuracy')\n",
        "plt.title('Model Accuracy')\n",
        "\n",
        "plt.subplot(1, 2, 2)\n",
        "plt.plot(epochs_range, loss, label='Train Set')\n",
        "plt.plot(epochs_range, val_loss, label='Val Set')\n",
        "plt.legend(loc=\"best\")\n",
        "plt.xlabel('Epochs')\n",
        "plt.ylabel('Loss')\n",
        "plt.title('Model Loss')\n",
        "\n",
        "plt.tight_layout()\n",
        "plt.show()\n"
      ]
    },
    {
      "cell_type": "code",
      "execution_count": null,
      "metadata": {
        "id": "6x0lf5YHXn3n"
      },
      "outputs": [],
      "source": [
        "#####RestNet50 Model"
      ]
    },
    {
      "cell_type": "code",
      "execution_count": null,
      "metadata": {
        "id": "Jn5_kklbXs-b",
        "colab": {
          "base_uri": "https://localhost:8080/"
        },
        "outputId": "5708daa2-6fd0-4990-9a91-effb2055f292"
      },
      "outputs": [
        {
          "output_type": "stream",
          "name": "stdout",
          "text": [
            "Downloading data from https://storage.googleapis.com/tensorflow/keras-applications/resnet/resnet50_weights_tf_dim_ordering_tf_kernels_notop.h5\n",
            "94773248/94765736 [==============================] - 2s 0us/step\n",
            "94781440/94765736 [==============================] - 2s 0us/step\n"
          ]
        }
      ],
      "source": [
        "from tensorflow.keras.applications import ResNet50\n",
        "\n",
        "base_model = ResNet50(input_shape=(350, 350,3),\n",
        "                      include_top=False, weights=\"imagenet\", \n",
        "                      pooling='max')"
      ]
    },
    {
      "cell_type": "code",
      "execution_count": null,
      "metadata": {
        "id": "8D8FwjD2XtCF"
      },
      "outputs": [],
      "source": [
        "for layer in base_model.layers:\n",
        "    layer.trainable = False"
      ]
    },
    {
      "cell_type": "code",
      "execution_count": null,
      "metadata": {
        "id": "KQco7JpxXtE8"
      },
      "outputs": [],
      "source": [
        "model_resnet = Sequential()\n",
        "model_resnet.add(base_model)\n",
        "model_resnet.add(Dense(4, activation='sigmoid'))"
      ]
    },
    {
      "cell_type": "code",
      "execution_count": null,
      "metadata": {
        "id": "QifkT2XUXtHd"
      },
      "outputs": [],
      "source": [
        "model_resnet.compile(optimizer = tf.keras.optimizers.SGD(learning_rate=0.0001), \n",
        "                     loss = 'categorical_crossentropy', \n",
        "                     metrics = ['accuracy'])"
      ]
    },
    {
      "cell_type": "code",
      "execution_count": null,
      "metadata": {
        "id": "o0Anv4AfXtJ9"
      },
      "outputs": [],
      "source": [
        "# Adding Model check point Callback\n",
        "\n",
        "mc = ModelCheckpoint(\n",
        "    filepath=\"./ct_resnet_best_model.hdf5\",\n",
        "    monitor= 'val_accuracy', \n",
        "    verbose= 1,\n",
        "    save_best_only= True, \n",
        "    mode = 'auto'\n",
        "    );\n",
        "\n",
        "call_back = [mc];"
      ]
    },
    {
      "cell_type": "code",
      "execution_count": null,
      "metadata": {
        "colab": {
          "base_uri": "https://localhost:8080/"
        },
        "id": "OXSCmFyqXtNN",
        "outputId": "80891c2f-7fbf-4dbc-c2ed-87ad4d7862f5"
      },
      "outputs": [
        {
          "output_type": "stream",
          "name": "stdout",
          "text": [
            "Epoch 1/30\n",
            "9/9 [==============================] - ETA: 0s - loss: 1.2384 - accuracy: 0.4353\n",
            "Epoch 1: val_accuracy did not improve from 0.37500\n",
            "9/9 [==============================] - 19s 2s/step - loss: 1.2384 - accuracy: 0.4353 - val_loss: 1.3336 - val_accuracy: 0.3125\n",
            "Epoch 2/30\n",
            "9/9 [==============================] - ETA: 0s - loss: 1.2262 - accuracy: 0.4845\n",
            "Epoch 2: val_accuracy improved from 0.37500 to 0.40625, saving model to ./ct_resnet_best_model.hdf5\n",
            "9/9 [==============================] - 19s 2s/step - loss: 1.2262 - accuracy: 0.4845 - val_loss: 1.3183 - val_accuracy: 0.4062\n",
            "Epoch 3/30\n",
            "9/9 [==============================] - ETA: 0s - loss: 1.2160 - accuracy: 0.4681\n",
            "Epoch 3: val_accuracy did not improve from 0.40625\n",
            "9/9 [==============================] - 19s 2s/step - loss: 1.2160 - accuracy: 0.4681 - val_loss: 1.2941 - val_accuracy: 0.3594\n",
            "Epoch 4/30\n",
            "9/9 [==============================] - ETA: 0s - loss: 1.2182 - accuracy: 0.4608\n",
            "Epoch 4: val_accuracy did not improve from 0.40625\n",
            "9/9 [==============================] - 19s 2s/step - loss: 1.2182 - accuracy: 0.4608 - val_loss: 1.3064 - val_accuracy: 0.3281\n",
            "Epoch 5/30\n",
            "9/9 [==============================] - ETA: 0s - loss: 1.2065 - accuracy: 0.4608\n",
            "Epoch 5: val_accuracy improved from 0.40625 to 0.42188, saving model to ./ct_resnet_best_model.hdf5\n",
            "9/9 [==============================] - 19s 2s/step - loss: 1.2065 - accuracy: 0.4608 - val_loss: 1.2644 - val_accuracy: 0.4219\n",
            "Epoch 6/30\n",
            "9/9 [==============================] - ETA: 0s - loss: 1.2131 - accuracy: 0.4681\n",
            "Epoch 6: val_accuracy did not improve from 0.42188\n",
            "9/9 [==============================] - 19s 2s/step - loss: 1.2131 - accuracy: 0.4681 - val_loss: 1.2539 - val_accuracy: 0.4062\n",
            "Epoch 7/30\n",
            "9/9 [==============================] - ETA: 0s - loss: 1.1998 - accuracy: 0.4390\n",
            "Epoch 7: val_accuracy did not improve from 0.42188\n",
            "9/9 [==============================] - 18s 2s/step - loss: 1.1998 - accuracy: 0.4390 - val_loss: 1.2600 - val_accuracy: 0.4219\n",
            "Epoch 8/30\n",
            "9/9 [==============================] - ETA: 0s - loss: 1.1955 - accuracy: 0.4861\n",
            "Epoch 8: val_accuracy did not improve from 0.42188\n",
            "9/9 [==============================] - 19s 2s/step - loss: 1.1955 - accuracy: 0.4861 - val_loss: 1.2412 - val_accuracy: 0.3906\n",
            "Epoch 9/30\n",
            "9/9 [==============================] - ETA: 0s - loss: 1.1828 - accuracy: 0.4444\n",
            "Epoch 9: val_accuracy did not improve from 0.42188\n",
            "9/9 [==============================] - 19s 2s/step - loss: 1.1828 - accuracy: 0.4444 - val_loss: 1.2594 - val_accuracy: 0.3906\n",
            "Epoch 10/30\n",
            "9/9 [==============================] - ETA: 0s - loss: 1.1797 - accuracy: 0.4718\n",
            "Epoch 10: val_accuracy did not improve from 0.42188\n",
            "9/9 [==============================] - 19s 2s/step - loss: 1.1797 - accuracy: 0.4718 - val_loss: 1.2494 - val_accuracy: 0.4062\n",
            "Epoch 11/30\n",
            "9/9 [==============================] - ETA: 0s - loss: 1.1834 - accuracy: 0.4754\n",
            "Epoch 11: val_accuracy improved from 0.42188 to 0.46875, saving model to ./ct_resnet_best_model.hdf5\n",
            "9/9 [==============================] - 19s 2s/step - loss: 1.1834 - accuracy: 0.4754 - val_loss: 1.2146 - val_accuracy: 0.4688\n",
            "Epoch 12/30\n",
            "9/9 [==============================] - ETA: 0s - loss: 1.1627 - accuracy: 0.5118\n",
            "Epoch 12: val_accuracy did not improve from 0.46875\n",
            "9/9 [==============================] - 19s 2s/step - loss: 1.1627 - accuracy: 0.5118 - val_loss: 1.2211 - val_accuracy: 0.4531\n",
            "Epoch 13/30\n",
            "9/9 [==============================] - ETA: 0s - loss: 1.1509 - accuracy: 0.5009\n",
            "Epoch 13: val_accuracy did not improve from 0.46875\n",
            "9/9 [==============================] - 19s 2s/step - loss: 1.1509 - accuracy: 0.5009 - val_loss: 1.2227 - val_accuracy: 0.4375\n",
            "Epoch 14/30\n",
            "9/9 [==============================] - ETA: 0s - loss: 1.1468 - accuracy: 0.5027\n",
            "Epoch 14: val_accuracy improved from 0.46875 to 0.53125, saving model to ./ct_resnet_best_model.hdf5\n",
            "9/9 [==============================] - 19s 2s/step - loss: 1.1468 - accuracy: 0.5027 - val_loss: 1.1689 - val_accuracy: 0.5312\n",
            "Epoch 15/30\n",
            "9/9 [==============================] - ETA: 0s - loss: 1.1732 - accuracy: 0.4699\n",
            "Epoch 15: val_accuracy did not improve from 0.53125\n",
            "9/9 [==============================] - 19s 2s/step - loss: 1.1732 - accuracy: 0.4699 - val_loss: 1.2138 - val_accuracy: 0.4219\n",
            "Epoch 16/30\n",
            "9/9 [==============================] - ETA: 0s - loss: 1.1534 - accuracy: 0.5100\n",
            "Epoch 16: val_accuracy did not improve from 0.53125\n",
            "9/9 [==============================] - 19s 2s/step - loss: 1.1534 - accuracy: 0.5100 - val_loss: 1.1783 - val_accuracy: 0.5156\n",
            "Epoch 17/30\n",
            "9/9 [==============================] - ETA: 0s - loss: 1.1471 - accuracy: 0.4973\n",
            "Epoch 17: val_accuracy did not improve from 0.53125\n",
            "9/9 [==============================] - 19s 2s/step - loss: 1.1471 - accuracy: 0.4973 - val_loss: 1.2049 - val_accuracy: 0.4375\n",
            "Epoch 18/30\n",
            "9/9 [==============================] - ETA: 0s - loss: 1.1328 - accuracy: 0.5173\n",
            "Epoch 18: val_accuracy did not improve from 0.53125\n",
            "9/9 [==============================] - 19s 2s/step - loss: 1.1328 - accuracy: 0.5173 - val_loss: 1.2120 - val_accuracy: 0.4219\n",
            "Epoch 19/30\n",
            "9/9 [==============================] - ETA: 0s - loss: 1.1449 - accuracy: 0.5082\n",
            "Epoch 19: val_accuracy did not improve from 0.53125\n",
            "9/9 [==============================] - 19s 2s/step - loss: 1.1449 - accuracy: 0.5082 - val_loss: 1.1783 - val_accuracy: 0.4688\n",
            "Epoch 20/30\n",
            "9/9 [==============================] - ETA: 0s - loss: 1.1447 - accuracy: 0.5173\n",
            "Epoch 20: val_accuracy did not improve from 0.53125\n",
            "9/9 [==============================] - 19s 2s/step - loss: 1.1447 - accuracy: 0.5173 - val_loss: 1.1764 - val_accuracy: 0.4844\n",
            "Epoch 21/30\n",
            "9/9 [==============================] - ETA: 0s - loss: 1.1355 - accuracy: 0.5155\n",
            "Epoch 21: val_accuracy did not improve from 0.53125\n",
            "9/9 [==============================] - 19s 2s/step - loss: 1.1355 - accuracy: 0.5155 - val_loss: 1.2086 - val_accuracy: 0.4219\n",
            "Epoch 22/30\n",
            "9/9 [==============================] - ETA: 0s - loss: 1.1284 - accuracy: 0.5282\n",
            "Epoch 22: val_accuracy did not improve from 0.53125\n",
            "9/9 [==============================] - 19s 2s/step - loss: 1.1284 - accuracy: 0.5282 - val_loss: 1.1658 - val_accuracy: 0.4688\n",
            "Epoch 23/30\n",
            "9/9 [==============================] - ETA: 0s - loss: 1.1160 - accuracy: 0.5046\n",
            "Epoch 23: val_accuracy did not improve from 0.53125\n",
            "9/9 [==============================] - 19s 2s/step - loss: 1.1160 - accuracy: 0.5046 - val_loss: 1.1469 - val_accuracy: 0.5000\n",
            "Epoch 24/30\n",
            "9/9 [==============================] - ETA: 0s - loss: 1.1115 - accuracy: 0.5100\n",
            "Epoch 24: val_accuracy did not improve from 0.53125\n",
            "9/9 [==============================] - 19s 2s/step - loss: 1.1115 - accuracy: 0.5100 - val_loss: 1.1664 - val_accuracy: 0.4844\n",
            "Epoch 25/30\n",
            "9/9 [==============================] - ETA: 0s - loss: 1.1181 - accuracy: 0.5174\n",
            "Epoch 25: val_accuracy did not improve from 0.53125\n",
            "9/9 [==============================] - 20s 2s/step - loss: 1.1181 - accuracy: 0.5174 - val_loss: 1.1436 - val_accuracy: 0.4531\n",
            "Epoch 26/30\n",
            "9/9 [==============================] - ETA: 0s - loss: 1.1239 - accuracy: 0.5027\n",
            "Epoch 26: val_accuracy did not improve from 0.53125\n",
            "9/9 [==============================] - 19s 2s/step - loss: 1.1239 - accuracy: 0.5027 - val_loss: 1.1471 - val_accuracy: 0.4844\n",
            "Epoch 27/30\n",
            "9/9 [==============================] - ETA: 0s - loss: 1.1073 - accuracy: 0.5100\n",
            "Epoch 27: val_accuracy did not improve from 0.53125\n",
            "9/9 [==============================] - 19s 2s/step - loss: 1.1073 - accuracy: 0.5100 - val_loss: 1.1542 - val_accuracy: 0.4844\n",
            "Epoch 28/30\n",
            "9/9 [==============================] - ETA: 0s - loss: 1.1183 - accuracy: 0.4863\n",
            "Epoch 28: val_accuracy did not improve from 0.53125\n",
            "9/9 [==============================] - 19s 2s/step - loss: 1.1183 - accuracy: 0.4863 - val_loss: 1.1375 - val_accuracy: 0.4531\n",
            "Epoch 29/30\n",
            "9/9 [==============================] - ETA: 0s - loss: 1.1086 - accuracy: 0.5009\n",
            "Epoch 29: val_accuracy did not improve from 0.53125\n",
            "9/9 [==============================] - 19s 2s/step - loss: 1.1086 - accuracy: 0.5009 - val_loss: 1.1305 - val_accuracy: 0.4688\n",
            "Epoch 30/30\n",
            "9/9 [==============================] - ETA: 0s - loss: 1.1003 - accuracy: 0.5027\n",
            "Epoch 30: val_accuracy did not improve from 0.53125\n",
            "9/9 [==============================] - 19s 2s/step - loss: 1.1003 - accuracy: 0.5027 - val_loss: 1.1290 - val_accuracy: 0.4688\n"
          ]
        }
      ],
      "source": [
        "# Fitting the Model\n",
        "resnet = model_resnet.fit(\n",
        "    train_data, \n",
        "    steps_per_epoch = train_data.samples//train_data.batch_size, \n",
        "    epochs = 30, \n",
        "    validation_data = val_data, \n",
        "    validation_steps = val_data.samples//val_data.batch_size,\n",
        "    callbacks = call_back \n",
        "    )"
      ]
    },
    {
      "cell_type": "code",
      "execution_count": null,
      "metadata": {
        "id": "SzT5KnziXtQr"
      },
      "outputs": [],
      "source": [
        " # Loading the Best Fit Model \n",
        "model = load_model(\"./ct_resnet_best_model.hdf5\")"
      ]
    },
    {
      "cell_type": "code",
      "execution_count": null,
      "metadata": {
        "colab": {
          "base_uri": "https://localhost:8080/"
        },
        "id": "iQdZMp4kXtXL",
        "outputId": "a9dea21c-2569-4d85-c7e1-512429b16d23"
      },
      "outputs": [
        {
          "output_type": "stream",
          "name": "stdout",
          "text": [
            "The accuracy of the model is = 40.95238149166107 %\n"
          ]
        }
      ],
      "source": [
        "# Checking the Accuracy of the Model \n",
        "accuracy_resnet = model.evaluate_generator(generator= test_data)[1] \n",
        "print(f\"The accuracy of the model is = {accuracy_resnet*100} %\")"
      ]
    },
    {
      "cell_type": "code",
      "execution_count": null,
      "metadata": {
        "colab": {
          "base_uri": "https://localhost:8080/"
        },
        "id": "oaLMd_GqXtae",
        "outputId": "cfcd500f-fdc4-4686-bf85-c8b7c90faeea"
      },
      "outputs": [
        {
          "output_type": "execute_result",
          "data": {
            "text/plain": [
              "dict_keys(['loss', 'accuracy', 'val_loss', 'val_accuracy'])"
            ]
          },
          "metadata": {},
          "execution_count": 95
        }
      ],
      "source": [
        "resnet.history.keys()"
      ]
    },
    {
      "cell_type": "code",
      "execution_count": null,
      "metadata": {
        "colab": {
          "base_uri": "https://localhost:8080/",
          "height": 369
        },
        "id": "SKEbpkJhXtdF",
        "outputId": "5aee482b-06dd-44c9-b497-aa86a8150b18"
      },
      "outputs": [
        {
          "output_type": "display_data",
          "data": {
            "text/plain": [
              "<Figure size 1080x360 with 2 Axes>"
            ],
            "image/png": "[encoded data removed]"
          },
          "metadata": {
            "needs_background": "light"
          }
        }
      ],
      "source": [
        "# Plot model performance\n",
        "acc = resnet.history['accuracy']\n",
        "val_acc = resnet.history['val_accuracy']\n",
        "loss = resnet.history['loss']\n",
        "val_loss = resnet.history['val_loss']\n",
        "epochs_range = range(1, len(resnet.epoch) + 1)\n",
        "\n",
        "plt.figure(figsize=(15,5))\n",
        "\n",
        "plt.subplot(1, 2, 1)\n",
        "plt.plot(epochs_range, acc, label='Train Set')\n",
        "plt.plot(epochs_range, val_acc, label='Val Set')\n",
        "plt.legend(loc=\"best\")\n",
        "plt.xlabel('Epochs')\n",
        "plt.ylabel('Accuracy')\n",
        "plt.title('Model Accuracy')\n",
        "\n",
        "plt.subplot(1, 2, 2)\n",
        "plt.plot(epochs_range, loss, label='Train Set')\n",
        "plt.plot(epochs_range, val_loss, label='Val Set')\n",
        "plt.legend(loc=\"best\")\n",
        "plt.xlabel('Epochs')\n",
        "plt.ylabel('Loss')\n",
        "plt.title('Model Loss')\n",
        "\n",
        "plt.tight_layout()\n",
        "plt.show()"
      ]
    },
    {
      "cell_type": "code",
      "execution_count": null,
      "metadata": {
        "id": "UWxZ2ZMnXtpu"
      },
      "outputs": [],
      "source": [
        "#####Comparison"
      ]
    },
    {
      "cell_type": "code",
      "execution_count": null,
      "metadata": {
        "colab": {
          "base_uri": "https://localhost:8080/",
          "height": 334
        },
        "id": "_IqZwB5QGoll",
        "outputId": "6161377a-6b28-48b0-85cc-1071e20ce28f"
      },
      "outputs": [
        {
          "output_type": "display_data",
          "data": {
            "text/plain": [
              "<Figure size 720x360 with 1 Axes>"
            ],
            "image/png": "[encoded data removed]"
          },
          "metadata": {
            "needs_background": "light"
          }
        }
      ],
      "source": [
        "algos = ['CNN', 'VGG16', 'InceptionV3', 'Resnet50','DenseNet121','Xception','VGG19']\n",
        "accuracy = [accuracy_cnn, accuracy_vgg, accuracy_incep, accuracy_resnet, accuracy_xception, accuracy_densenet121, accuracy_vgg1]\n",
        "accuracy = np.floor([i * 100 for i in accuracy])\n",
        "  \n",
        "fig = plt.figure(figsize = (10, 5))\n",
        " \n",
        "# creating the bar plot\n",
        "plt.bar(algos, accuracy, color ='red', width = 0.3)\n",
        " \n",
        "plt.xlabel(\"Algorithms Applied\")\n",
        "plt.ylabel(\"Accuracy\")\n",
        "plt.show()"
      ]
    },
    {
      "cell_type": "code",
      "execution_count": null,
      "metadata": {
        "id": "zU-y3QfUGyYa"
      },
      "outputs": [],
      "source": [
        "########PREDICTION"
      ]
    },
    {
      "cell_type": "code",
      "execution_count": null,
      "metadata": {
        "id": "QhOXg9X1GybQ"
      },
      "outputs": [],
      "source": [
        "\n",
        "def chestScanPrediction(path, _model):\n",
        "    classes_dir = [\"Adenocarcinoma\",\"Large cell carcinoma\",\"Normal\",\"Squamous cell carcinoma\"]\n",
        "    # Loading Image\n",
        "    img = image.load_img(path, target_size=(350,350))\n",
        "    # Normalizing Image\n",
        "    norm_img = image.img_to_array(img)/255\n",
        "    # Converting Image to Numpy Array\n",
        "    input_arr_img = np.array([norm_img])\n",
        "    # Getting Predictions\n",
        "    pred = np.argmax(_model.predict(input_arr_img))\n",
        "    # Printing Model Prediction\n",
        "    print(classes_dir[pred])"
      ]
    },
    {
      "cell_type": "code",
      "execution_count": null,
      "metadata": {
        "colab": {
          "base_uri": "https://localhost:8080/",
          "height": 183
        },
        "id": "qlFWRzaAGyeC",
        "outputId": "2f879af1-052b-4ef9-f55a-4d30bc797ce7"
      },
      "outputs": [
        {
          "output_type": "error",
          "ename": "NameError",
          "evalue": "ignored",
          "traceback": [
            "\u001b[0;31m---------------------------------------------------------------------------\u001b[0m",
            "\u001b[0;31mNameError\u001b[0m                                 Traceback (most recent call last)",
            "\u001b[0;32m<ipython-input-2-1c131762b80d>\u001b[0m in \u001b[0;36m<module>\u001b[0;34m()\u001b[0m\n\u001b[1;32m      1\u001b[0m \u001b[0mpath\u001b[0m \u001b[0;34m=\u001b[0m \u001b[0;34m\"/content/drive/MyDrive/image dataset/Data/test/large.cell.carcinoma/000111 (2).png\"\u001b[0m\u001b[0;34m\u001b[0m\u001b[0;34m\u001b[0m\u001b[0m\n\u001b[0;32m----> 2\u001b[0;31m \u001b[0mchestScanPrediction\u001b[0m\u001b[0;34m(\u001b[0m\u001b[0mpath\u001b[0m\u001b[0;34m,\u001b[0m\u001b[0mmodel_incep\u001b[0m\u001b[0;34m)\u001b[0m\u001b[0;34m\u001b[0m\u001b[0;34m\u001b[0m\u001b[0m\n\u001b[0m",
            "\u001b[0;31mNameError\u001b[0m: name 'model_incep' is not defined"
          ]
        }
      ],
      "source": [
        "path = \"/content/drive/MyDrive/image dataset/Data/test/large.cell.carcinoma/000111 (2).png\"\n",
        "chestScanPrediction(path,model_incep)"
      ]
    },
    {
      "cell_type": "code",
      "execution_count": null,
      "metadata": {
        "colab": {
          "base_uri": "https://localhost:8080/"
        },
        "id": "AzNwcMOJGyg1",
        "outputId": "d6e74f07-b2e2-4739-ef17-27ffb8309c84"
      },
      "outputs": [
        {
          "name": "stdout",
          "output_type": "stream",
          "text": [
            "Large cell carcinoma\n"
          ]
        }
      ],
      "source": [
        "path = \"/content/drive/MyDrive/image dataset/Data/test/large.cell.carcinoma/000127 (2).png\"\n",
        "chestScanPrediction(path,model_incep)"
      ]
    },
    {
      "cell_type": "code",
      "execution_count": null,
      "metadata": {
        "colab": {
          "base_uri": "https://localhost:8080/"
        },
        "id": "1tTI-tBDGykF",
        "outputId": "f8eb1d9c-1348-4558-c4c3-934909ccae1c"
      },
      "outputs": [
        {
          "name": "stdout",
          "output_type": "stream",
          "text": [
            "Large cell carcinoma\n"
          ]
        }
      ],
      "source": [
        "path = \"/content/drive/MyDrive/image dataset/Data/test/large.cell.carcinoma/000130.png\"\n",
        "chestScanPrediction(path,model_incep)"
      ]
    },
    {
      "cell_type": "code",
      "execution_count": null,
      "metadata": {
        "colab": {
          "base_uri": "https://localhost:8080/"
        },
        "id": "GAuSLnC4Gyxd",
        "outputId": "0333ad8a-dad7-4dd8-d8ca-83956fd355c2"
      },
      "outputs": [
        {
          "name": "stdout",
          "output_type": "stream",
          "text": [
            "Squamous cell carcinoma\n"
          ]
        }
      ],
      "source": [
        "path = \"/content/drive/MyDrive/image dataset/Data/train/squamous.cell.carcinoma_left.hilum_T1_N2_M0_IIIa/000004 (4).png\"\n",
        "chestScanPrediction(path,model_incep)"
      ]
    },
    {
      "cell_type": "code",
      "execution_count": null,
      "metadata": {
        "colab": {
          "base_uri": "https://localhost:8080/"
        },
        "id": "BoFCzeSFKUc0",
        "outputId": "f46a83ce-9076-4b57-b39f-e03f1d35cf5b"
      },
      "outputs": [
        {
          "name": "stdout",
          "output_type": "stream",
          "text": [
            "Normal\n"
          ]
        }
      ],
      "source": [
        "path = \"/content/drive/MyDrive/image dataset/Data/train/normal/10.png\"\n",
        "chestScanPrediction(path,model_incep)"
      ]
    },
    {
      "cell_type": "code",
      "execution_count": null,
      "metadata": {
        "colab": {
          "base_uri": "https://localhost:8080/"
        },
        "id": "zdUr-LZzKU7g",
        "outputId": "35b58567-1c28-4de3-a584-04b5f12023b4"
      },
      "outputs": [
        {
          "name": "stdout",
          "output_type": "stream",
          "text": [
            "Large cell carcinoma\n"
          ]
        }
      ],
      "source": [
        "path = \"/content/drive/MyDrive/image dataset/Data/train/adenocarcinoma_left.lower.lobe_T2_N0_M0_Ib/000013 (4).png\"\n",
        "chestScanPrediction(path,model_incep)"
      ]
    },
    {
      "cell_type": "code",
      "execution_count": null,
      "metadata": {
        "id": "qNiyg45cXyNg"
      },
      "outputs": [],
      "source": []
    },
    {
      "cell_type": "code",
      "execution_count": null,
      "metadata": {
        "id": "3f8Kpj89Xyal"
      },
      "outputs": [],
      "source": []
    }
  ],
  "metadata": {
    "colab": {
      "collapsed_sections": [],
      "provenance": [],
      "include_colab_link": true
    },
    "kernelspec": {
      "display_name": "Python 3",
      "name": "python3"
    },
    "language_info": {
      "name": "python"
    },
    "accelerator": "GPU"
  },
  "nbformat": 4,
  "nbformat_minor": 0
}